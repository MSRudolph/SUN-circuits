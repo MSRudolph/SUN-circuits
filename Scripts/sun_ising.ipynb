{
 "cells": [
  {
   "cell_type": "code",
   "execution_count": null,
   "metadata": {},
   "outputs": [],
   "source": [
    "import pennylane as qml\n",
    "import numpy as np\n",
    "import jax\n",
    "import matplotlib.pyplot as plt"
   ]
  },
  {
   "cell_type": "code",
   "execution_count": null,
   "metadata": {},
   "outputs": [],
   "source": [
    "jax.config.update(\"jax_enable_x64\", True)\n",
    "jax.config.update(\"jax_platform_name\", \"cpu\")\n",
    "jnp = jax.numpy"
   ]
  },
  {
   "cell_type": "code",
   "execution_count": null,
   "metadata": {},
   "outputs": [],
   "source": [
    "def two_qubit_decomp(params, wires):\n",
    "    \"\"\"Implement an arbitrary SU(4) gate on two qubits\n",
    "    using the decomposition from Theorem 5 in\n",
    "    https://arxiv.org/pdf/quant-ph/0308006.pdf\"\"\"\n",
    "    i, j = wires\n",
    "    # Single U(2) parameterization on both qubits separately\n",
    "    qml.Rot(*params[:3], wires=i)\n",
    "    qml.Rot(*params[3:6], wires=j)\n",
    "    qml.CNOT(wires=[j, i])  # First CNOT\n",
    "    qml.RZ(params[6], wires=i)\n",
    "    qml.RY(params[7], wires=j)\n",
    "    qml.CNOT(wires=[i, j])  # Second CNOT\n",
    "    qml.RY(params[8], wires=j)\n",
    "    qml.CNOT(wires=[j, i])  # Third CNOT\n",
    "    # Single U(2) parameterization on both qubits separately\n",
    "    qml.Rot(*params[9:12], wires=i)\n",
    "    qml.Rot(*params[12:15], wires=j)\n",
    "\n",
    "\n",
    "# The three building blocks on two qubits we will compare are:\n",
    "operations = {\n",
    "    (\"Decomposition\", \"decomposition\"): two_qubit_decomp,\n",
    "    (\"PauliRot sequence\",) * 2: qml.ArbitraryUnitary,\n",
    "    (\"$\\mathrm{SU}(N)$ gate\", \"SU(N) gate\"): qml.SpecialUnitary,\n",
    "}"
   ]
  },
  {
   "cell_type": "code",
   "execution_count": null,
   "metadata": {},
   "outputs": [],
   "source": [
    "num_wires = 6\n",
    "wires = list(range(num_wires))\n",
    "np.random.seed(62213)\n"
   ]
  },
  {
   "cell_type": "code",
   "execution_count": null,
   "metadata": {},
   "outputs": [],
   "source": [
    "# Define the Hamiltonian\n",
    "coeffs = []\n",
    "obs = []\n",
    "\n",
    "# Coupling constant (J) and transverse field strength (h)\n",
    "J = 1.0\n",
    "h = 0.5\n",
    "\n",
    "# ZZ interactions\n",
    "for i in range(num_wires):\n",
    "    for j in range(i+1, num_wires):\n",
    "        coeffs.append(-J)\n",
    "        obs.append(qml.PauliZ(i) @ qml.PauliZ(j))\n",
    "\n",
    "# X interactions\n",
    "for i in range(num_wires):\n",
    "    coeffs.append(-h)\n",
    "    obs.append(qml.PauliX(i))\n",
    "\n",
    "# Create the Hamiltonian\n",
    "H = qml.Hamiltonian(coeffs, obs)\n",
    "\n",
    "E_min = min(qml.eigvals(H))\n",
    "\n",
    "#print(qml.eigvals(H))\n",
    "print(f\"Ground state energy: {E_min:.5f}\")"
   ]
  },
  {
   "cell_type": "code",
   "execution_count": null,
   "metadata": {},
   "outputs": [],
   "source": [
    "loc = 2\n",
    "d = 4**loc - 1  # d = 15 for two-qubit operations\n",
    "dev = qml.device(\"default.qubit\", wires=num_wires)\n",
    "# two blocks with two layers. Each layer contains three operations with d parameters\n",
    "def launchCircuit(repeatitions: int, params: List):\n",
    "    def circuit(params, operation=None):\n",
    "        \"\"\"Apply an operation in a brickwall-like pattern to a qubit register and measure H.\n",
    "        Parameters are assumed to have the dimensions (number of blocks, number of\n",
    "        wires per operation, number of operations per layer, and number of parameters\n",
    "        per operation), in that order.\n",
    "        \"\"\"\n",
    "        for params_block in params:\n",
    "            for i, params_layer in enumerate(params_block):\n",
    "                for j, params_op in enumerate(params_layer):\n",
    "                    wires_op = [w % num_wires for w in range(loc * j + i, loc * (j + 1) + i)]\n",
    "                    #print(\"performing\",  operation, \"operations\", \" on \", wires_op, \"params\", params_op)\n",
    "                    operation(params_op, wires_op)\n",
    "        return qml.expval(H)\n",
    "\n",
    "    qnode = qml.QNode(circuit, dev, interface=\"jax\")\n",
    "    print(qml.draw(qnode)(init_params, qml.SpecialUnitary))"
   ]
  },
  {
   "cell_type": "code",
   "execution_count": null,
   "metadata": {},
   "outputs": [],
   "source": [
    "run(params_shape)"
   ]
  },
  {
   "cell_type": "code",
   "execution_count": null,
   "metadata": {},
   "outputs": [],
   "source": [
    "# for auto-differentiation.\n",
    "\n",
    "learning_rate = 5e-4\n",
    "num_steps = 500\n",
    "init_params = jax.numpy.array(init_params)\n",
    "grad_fn = jax.jit(jax.jacobian(qnode), static_argnums=1)\n",
    "qnode = jax.jit(qnode, static_argnums=1)"
   ]
  },
  {
   "cell_type": "code",
   "execution_count": null,
   "metadata": {},
   "outputs": [],
   "source": [
    "energies = {}\n",
    "\n",
    "# # The three building blocks on two qubits we will compare are:\n",
    "# operations = {\n",
    "#     (\"Decomposition\", \"decomposition\"): two_qubit_decomp,\n",
    "#     (\"PauliRot sequence\",) * 2: qml.ArbitraryUnitary,\n",
    "#     (\"$\\mathrm{SU}(N)$ gate\", \"SU(N) gate\"): qml.SpecialUnitary,\n",
    "# }\n",
    "\n",
    "#Hisenberg model XX + YY + ZZ\n",
    "\n",
    "@jax.jit\n",
    "def numpy_callback(x):\n",
    "  # Need to forward-declare the shape & dtype of the expected output.\n",
    "  result_shape = jax.core.ShapedArray(x.shape, x.dtype)\n",
    "  return jax.pure_callback(np.sin, result_shape, x)\n",
    "\n",
    "for (name, print_name), operation in operations.items(): \n",
    "    print(f\"Running the optimization for the {print_name}\")\n",
    "    params = init_params.copy()\n",
    "    energy = []\n",
    "    for step in range(num_steps):\n",
    "        cost = qnode(params, operation)\n",
    "        params = params - learning_rate * grad_fn(params, operation)\n",
    "        #print(numpy_callback(params))\n",
    "        energy.append(cost)  # Store energy value\n",
    "        if step % 10 == 0:  # Report current energy\n",
    "            print(f\"{step:3d} Steps: {cost:.6f}\")\n",
    "\n",
    "    energy.append(qnode(params, operation))  # Final energy value\n",
    "    energies[name] = energy"
   ]
  },
  {
   "cell_type": "code",
   "execution_count": null,
   "metadata": {},
   "outputs": [],
   "source": [
    "fig, ax = plt.subplots(1, 1)\n",
    "styles = [\":\", \"--\", \"-\"]\n",
    "colors = [\"#70CEFF\", \"#C756B2\", \"#FFE096\"]\n",
    "for (name, energy), c, ls in zip(energies.items(), colors, styles):\n",
    "    error = (energy - E_min) / abs(E_min)\n",
    "    ax.plot(list(range(len(error))), error, label=name, c=c, ls=ls, lw=2.5)\n",
    "\n",
    "ax.set(xlabel=\"Iteration\", ylabel=\"Relative error\")\n",
    "ax.legend()\n",
    "plt.show()"
   ]
  },
  {
   "cell_type": "code",
   "execution_count": null,
   "metadata": {},
   "outputs": [],
   "source": [
    "# Plotting the grouped bar chart\n",
    "bar_width = 0.1\n",
    "x = np.arange(len(repetitions))\n",
    "\n",
    "plt.figure(figsize=(14, 8))\n",
    "\n",
    "for i, steps in enumerate(steps_list):\n",
    "    plt.bar(x + i * bar_width, final_energies[steps], bar_width, label=f\"Steps = {steps}\")\n",
    "\n",
    "plt.xlabel(\"Number of Repetitions\")\n",
    "plt.ylabel(\"Absolute Final Energy\")\n",
    "plt.title(\"Absolute Final Energy for Different Repetitions and Steps (Arb_unitary\")\n",
    "plt.xticks(x + bar_width * (len(steps_list) / 2), repetitions)\n",
    "plt.legend()\n",
    "plt.grid(True)\n",
    "plt.show()"
   ]
  }
 ],
 "metadata": {
  "kernelspec": {
   "display_name": "pennylane",
   "language": "python",
   "name": "python3"
  },
  "language_info": {
   "codemirror_mode": {
    "name": "ipython",
    "version": 3
   },
   "file_extension": ".py",
   "mimetype": "text/x-python",
   "name": "python",
   "nbconvert_exporter": "python",
   "pygments_lexer": "ipython3",
   "version": "3.12.3"
  }
 },
 "nbformat": 4,
 "nbformat_minor": 2
}
