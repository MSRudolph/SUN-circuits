{
 "cells": [
  {
   "cell_type": "code",
   "execution_count": 8,
   "metadata": {},
   "outputs": [
    {
     "data": {
      "text/plain": [
       "Array(0.06674504, dtype=float64)"
      ]
     },
     "execution_count": 8,
     "metadata": {},
     "output_type": "execute_result"
    }
   ],
   "source": [
    "import pennylane as qml\n",
    "import numpy as np\n",
    "import jax\n",
    "\n",
    "jax.config.update(\"jax_enable_x64\", True)\n",
    "jax.config.update(\"jax_platform_name\", \"cpu\")\n",
    "jnp = jax.numpy\n",
    "\n",
    "dev = qml.device(\"default.qubit\", wires=1)\n",
    "H = 0.6 * qml.PauliZ(0) - 0.8 * qml.PauliY(0)\n",
    "\n",
    "\n",
    "def qfunc(theta):\n",
    "    qml.SpecialUnitary(theta, wires=0)\n",
    "    return qml.expval(H)\n",
    "\n",
    "\n",
    "circuit = qml.QNode(qfunc, dev, interface=\"jax\", diff_method=\"parameter-shift\")\n",
    "\n",
    "theta = jnp.array([0.4, 0.2, -0.5])\n",
    "circuit(theta)"
   ]
  },
  {
   "cell_type": "code",
   "execution_count": 4,
   "metadata": {},
   "outputs": [
    {
     "name": "stdout",
     "output_type": "stream",
     "text": [
      "Central difference: 0.42398\n"
     ]
    }
   ],
   "source": [
    "unit_vector = np.array([0.0, 1.0, 0.0])\n",
    "\n",
    "\n",
    "def central_diff_grad(theta, delta):\n",
    "    plus_eval = circuit(theta + delta / 2 * unit_vector)\n",
    "    minus_eval = circuit(theta - delta / 2 * unit_vector)\n",
    "    return (plus_eval - minus_eval) / delta\n",
    "\n",
    "\n",
    "delta = 0.75\n",
    "print(f\"Central difference: {central_diff_grad(theta, delta):.5f}\")"
   ]
  },
  {
   "cell_type": "code",
   "execution_count": 43,
   "metadata": {},
   "outputs": [
    {
     "data": {
      "text/plain": [
       "0.5403023058597252"
      ]
     },
     "execution_count": 43,
     "metadata": {},
     "output_type": "execute_result"
    }
   ],
   "source": [
    "import pennylane as qml\n",
    "from jax import numpy as numpy\n",
    "import jax\n",
    "\n",
    "dev1 = qml.device(\"lightning.qubit\",wires = 1)\n",
    "\n",
    "@qml.qnode(dev1)\n",
    "def circuit(params):\n",
    "    qml.RX(params[0],wires=0)\n",
    "    qml.RX(params[1],wires=0)\n",
    "    return qml.expval(qml.PauliZ(0)) #qml.probs([0])#\n"
   ]
  },
  {
   "cell_type": "code",
   "execution_count": 71,
   "metadata": {},
   "outputs": [],
   "source": [
    "#params = [0.001,0.707]\n",
    "params = np.array([0.011,0.012])\n",
    "circuit(params)\n",
    "\n",
    "dcircuit = jax.grad(circuit)\n",
    "dcircuit(params)\n",
    "\n",
    "def cost(x):\n",
    "    return circuit(x)\n",
    "\n",
    "cost(params)\n",
    "\n"
   ]
  },
  {
   "cell_type": "code",
   "execution_count": 106,
   "metadata": {},
   "outputs": [
    {
     "data": {
      "text/plain": [
       "tensor([0.99003329, 0.        , 0.        , 0.00996671], requires_grad=True)"
      ]
     },
     "execution_count": 106,
     "metadata": {},
     "output_type": "execute_result"
    }
   ],
   "source": [
    "dev = qml.device('default.qubit', wires = 2)\n",
    "\n",
    "@qml.qnode(dev)\n",
    "def trotterize(alpha, beta, time, depth):\n",
    "\n",
    "    for i in range(depth):\n",
    "        # qml.IsingXX(alpha*time/depth,[0,1])\n",
    "        # qml.IsingZZ(beta*time/depth,[0,1])\n",
    "        qml.IsingXX(2*alpha*time/depth,[0,1]) #+ qml.IsingZZ(beta*time/depth,[0,1])\n",
    "        qml.IsingZZ(2*beta*time/depth,[0,1])\n",
    "\n",
    "    \n",
    "    # Return the probabilities\n",
    "    return qml.probs()\n",
    "trotterize(0.5,0.8,0.2,1)\n",
    "#trotterize(0.9,1.0,0.4,2)"
   ]
  },
  {
   "cell_type": "markdown",
   "metadata": {},
   "source": []
  },
  {
   "cell_type": "code",
   "execution_count": 135,
   "metadata": {},
   "outputs": [
    {
     "ename": "TypeError",
     "evalue": "variational_circuit() missing 1 required positional argument: 'hamiltonian'",
     "output_type": "error",
     "traceback": [
      "\u001b[1;31m---------------------------------------------------------------------------\u001b[0m",
      "\u001b[1;31mTypeError\u001b[0m                                 Traceback (most recent call last)",
      "Cell \u001b[1;32mIn[135], line 35\u001b[0m\n\u001b[0;32m     33\u001b[0m \u001b[38;5;28;01mdef\u001b[39;00m \u001b[38;5;21mcost\u001b[39m(x):\n\u001b[0;32m     34\u001b[0m     \u001b[38;5;28;01mreturn\u001b[39;00m circuit(x)\n\u001b[1;32m---> 35\u001b[0m \u001b[43mcost\u001b[49m\u001b[43m(\u001b[49m\u001b[43minitial_params\u001b[49m\u001b[43m)\u001b[49m\n",
      "Cell \u001b[1;32mIn[135], line 34\u001b[0m, in \u001b[0;36mcost\u001b[1;34m(x)\u001b[0m\n\u001b[0;32m     33\u001b[0m \u001b[38;5;28;01mdef\u001b[39;00m \u001b[38;5;21mcost\u001b[39m(x):\n\u001b[1;32m---> 34\u001b[0m     \u001b[38;5;28;01mreturn\u001b[39;00m \u001b[43mcircuit\u001b[49m\u001b[43m(\u001b[49m\u001b[43mx\u001b[49m\u001b[43m)\u001b[49m\n",
      "File \u001b[1;32mc:\\Users\\DELL\\anaconda3\\envs\\qiskit\\Lib\\site-packages\\pennylane\\workflow\\qnode.py:1092\u001b[0m, in \u001b[0;36mQNode.__call__\u001b[1;34m(self, *args, **kwargs)\u001b[0m\n\u001b[0;32m   1089\u001b[0m     override_shots \u001b[38;5;241m=\u001b[39m kwargs[\u001b[38;5;124m\"\u001b[39m\u001b[38;5;124mshots\u001b[39m\u001b[38;5;124m\"\u001b[39m]\n\u001b[0;32m   1091\u001b[0m \u001b[38;5;66;03m# construct the tape\u001b[39;00m\n\u001b[1;32m-> 1092\u001b[0m \u001b[38;5;28;43mself\u001b[39;49m\u001b[38;5;241;43m.\u001b[39;49m\u001b[43mconstruct\u001b[49m\u001b[43m(\u001b[49m\u001b[43margs\u001b[49m\u001b[43m,\u001b[49m\u001b[43m \u001b[49m\u001b[43mkwargs\u001b[49m\u001b[43m)\u001b[49m\n\u001b[0;32m   1094\u001b[0m original_grad_fn \u001b[38;5;241m=\u001b[39m [\u001b[38;5;28mself\u001b[39m\u001b[38;5;241m.\u001b[39mgradient_fn, \u001b[38;5;28mself\u001b[39m\u001b[38;5;241m.\u001b[39mgradient_kwargs, \u001b[38;5;28mself\u001b[39m\u001b[38;5;241m.\u001b[39mdevice]\n\u001b[0;32m   1095\u001b[0m \u001b[38;5;28mself\u001b[39m\u001b[38;5;241m.\u001b[39m_update_gradient_fn(shots\u001b[38;5;241m=\u001b[39moverride_shots, tape\u001b[38;5;241m=\u001b[39m\u001b[38;5;28mself\u001b[39m\u001b[38;5;241m.\u001b[39m_tape)\n",
      "File \u001b[1;32mc:\\Users\\DELL\\anaconda3\\envs\\qiskit\\Lib\\site-packages\\pennylane\\workflow\\qnode.py:929\u001b[0m, in \u001b[0;36mQNode.construct\u001b[1;34m(self, args, kwargs)\u001b[0m\n\u001b[0;32m    926\u001b[0m     \u001b[38;5;28mself\u001b[39m\u001b[38;5;241m.\u001b[39minterface \u001b[38;5;241m=\u001b[39m qml\u001b[38;5;241m.\u001b[39mmath\u001b[38;5;241m.\u001b[39mget_interface(\u001b[38;5;241m*\u001b[39margs, \u001b[38;5;241m*\u001b[39m\u001b[38;5;28mlist\u001b[39m(kwargs\u001b[38;5;241m.\u001b[39mvalues()))\n\u001b[0;32m    928\u001b[0m \u001b[38;5;28;01mwith\u001b[39;00m qml\u001b[38;5;241m.\u001b[39mqueuing\u001b[38;5;241m.\u001b[39mAnnotatedQueue() \u001b[38;5;28;01mas\u001b[39;00m q:\n\u001b[1;32m--> 929\u001b[0m     \u001b[38;5;28mself\u001b[39m\u001b[38;5;241m.\u001b[39m_qfunc_output \u001b[38;5;241m=\u001b[39m \u001b[38;5;28;43mself\u001b[39;49m\u001b[38;5;241;43m.\u001b[39;49m\u001b[43mfunc\u001b[49m\u001b[43m(\u001b[49m\u001b[38;5;241;43m*\u001b[39;49m\u001b[43margs\u001b[49m\u001b[43m,\u001b[49m\u001b[43m \u001b[49m\u001b[38;5;241;43m*\u001b[39;49m\u001b[38;5;241;43m*\u001b[39;49m\u001b[43mkwargs\u001b[49m\u001b[43m)\u001b[49m\n\u001b[0;32m    931\u001b[0m \u001b[38;5;28mself\u001b[39m\u001b[38;5;241m.\u001b[39m_tape \u001b[38;5;241m=\u001b[39m QuantumScript\u001b[38;5;241m.\u001b[39mfrom_queue(q, shots)\n\u001b[0;32m    933\u001b[0m params \u001b[38;5;241m=\u001b[39m \u001b[38;5;28mself\u001b[39m\u001b[38;5;241m.\u001b[39mtape\u001b[38;5;241m.\u001b[39mget_parameters(trainable_only\u001b[38;5;241m=\u001b[39m\u001b[38;5;28;01mFalse\u001b[39;00m)\n",
      "\u001b[1;31mTypeError\u001b[0m: variational_circuit() missing 1 required positional argument: 'hamiltonian'"
     ]
    }
   ],
   "source": [
    "import json\n",
    "import pennylane as qml\n",
    "import pennylane.numpy as np\n",
    "\n",
    "WIRES = 2\n",
    "LAYERS = 5\n",
    "NUM_PARAMETERS = LAYERS * WIRES * 3\n",
    "\n",
    "initial_params = np.random.random(NUM_PARAMETERS)\n",
    "\n",
    "def variational_circuit(params,hamiltonian):\n",
    "    \"\"\"\n",
    "    This is a template variational quantum circuit containing a fixed layout of gates with variable\n",
    "    parameters. To be used as a QNode, it must either be wrapped with the @qml.qnode decorator or\n",
    "    converted using the qml.QNode function.\n",
    "\n",
    "    The output of this circuit is the expectation value of a Hamiltonian, somehow encoded in\n",
    "    the hamiltonian argument\n",
    "\n",
    "    Args:\n",
    "        - params (np.ndarray): An array of optimizable parameters of shape (30,)\n",
    "        - hamiltonian (np.ndarray): An array of real parameters encoding the Hamiltonian\n",
    "        whose expectation value is returned.\n",
    "    \n",
    "    Returns:\n",
    "        (float): The expectation value of the Hamiltonian\n",
    "    \"\"\"\n",
    "    parameters = params.reshape((LAYERS, WIRES, 3))\n",
    "    qml.templates.StronglyEntanglingLayers(parameters, wires=range(WIRES))\n",
    "    return qml.expval(qml.Hermitian(hamiltonian, wires = [0,1]))\n",
    "circuit = qml.QNode(variational_circuit,dev)\n",
    "\n",
    "def cost(x):\n",
    "    return circuit(x)\n",
    "cost(initial_params)\n"
   ]
  },
  {
   "cell_type": "code",
   "execution_count": 132,
   "metadata": {},
   "outputs": [
    {
     "ename": "TypeError",
     "evalue": "optimize_circuit() missing 1 required positional argument: 'hamiltonian'",
     "output_type": "error",
     "traceback": [
      "\u001b[1;31m---------------------------------------------------------------------------\u001b[0m",
      "\u001b[1;31mTypeError\u001b[0m                                 Traceback (most recent call last)",
      "Cell \u001b[1;32mIn[132], line 25\u001b[0m\n\u001b[0;32m     21\u001b[0m     \u001b[38;5;66;03m# opt = qml.QNGOptimizer(0.01)\u001b[39;00m\n\u001b[0;32m     22\u001b[0m     \u001b[38;5;66;03m# params_new = opt.step(circuit,initial_params)\u001b[39;00m\n\u001b[0;32m     23\u001b[0m     \u001b[38;5;66;03m# #lol = qml.gradients.param_shift(circuit)(initial_params)\u001b[39;00m\n\u001b[0;32m     24\u001b[0m     \u001b[38;5;28;01mreturn\u001b[39;00m circuit\u001b[38;5;66;03m#params_new\u001b[39;00m\n\u001b[1;32m---> 25\u001b[0m \u001b[43moptimize_circuit\u001b[49m\u001b[43m(\u001b[49m\u001b[43minitial_params\u001b[49m\u001b[43m)\u001b[49m\n",
      "\u001b[1;31mTypeError\u001b[0m: optimize_circuit() missing 1 required positional argument: 'hamiltonian'"
     ]
    }
   ],
   "source": [
    "def optimize_circuit(params,hamiltonian):\n",
    "    \"\"\"Minimize the variational circuit and return its minimum value.\n",
    "    You should create a device and convert the variational_circuit function \n",
    "    into an executable QNode. \n",
    "    Next, you should minimize the variational circuit using gradient-based \n",
    "    optimization to update the input params. \n",
    "    Return the optimized value of the QNode as a single floating-point number.\n",
    "\n",
    "    Args:\n",
    "        - params (np.ndarray): Input parameters to be optimized, of dimension 30\n",
    "        - hamiltonian (np.ndarray): An array of real parameters encoding the Hamiltonian\n",
    "        whose expectation value you should minimize.\n",
    "    Returns:\n",
    "        float: the value of the optimized QNode\n",
    "    \"\"\"\n",
    "\n",
    "    dev = qml.device(\"lightning.qubit\",wires = 2)# Initialize the device.\n",
    "\n",
    "    circuit = qml.QNode(variational_circuit,dev)# Instantiate the QNode from variational_circuit.\n",
    "    \n",
    "    # opt = qml.QNGOptimizer(0.01)\n",
    "    # params_new = opt.step(circuit,initial_params)\n",
    "    # #lol = qml.gradients.param_shift(circuit)(initial_params)\n",
    "    return circuit#params_new\n",
    "optimize_circuit(initial_params)"
   ]
  },
  {
   "cell_type": "code",
   "execution_count": 175,
   "metadata": {},
   "outputs": [
    {
     "data": {
      "text/plain": [
       "(\n",
       "    1.0 * ((0.3333333333333333 * X(0)) @ X(1))\n",
       "  + 1.0 * ((0.3333333333333333 * X(0)) @ X(2))\n",
       "  + 1.0 * ((0.3333333333333333 * X(1)) @ X(2))\n",
       "  + 1.0 * -1 * Z(0)\n",
       "  + 1.0 * -1 * Z(1)\n",
       "  + 1.0 * -1 * Z(2)\n",
       ")"
      ]
     },
     "execution_count": 175,
     "metadata": {},
     "output_type": "execute_result"
    }
   ],
   "source": [
    "#Returning Expectation Values\n",
    "\n",
    "def hamiltonian(num_wires):\n",
    "    \"\"\"\n",
    "    A function for creating the Hamiltonian in question for a general\n",
    "    number of qubits.\n",
    "\n",
    "    Args:\n",
    "        num_wires (int): The number of qubits.\n",
    "\n",
    "    Returns:\n",
    "        (qml.Hamiltonian): A PennyLane Hamiltonian.\n",
    "    \"\"\"\n",
    "    obs = []\n",
    "    for i in range(num_wires):\n",
    "        j = i+1\n",
    "        while j < num_wires:\n",
    "            obs.append(1/3*qml.X(i)@qml.X(j))\n",
    "            j+=1\n",
    "    for i in range(num_wires):\n",
    "        obs.append(-qml.Z(i))\n",
    "    coeffs=np.ones(len(obs))\n",
    "    return qml.Hamiltonian(coeffs, obs)\n",
    "\n",
    "hamiltonian(3)\n",
    "#qml.Hadamard(num_wires)\n"
   ]
  },
  {
   "cell_type": "code",
   "execution_count": 296,
   "metadata": {},
   "outputs": [
    {
     "data": {
      "text/plain": [
       "tensor([ 2.   ,  0.5  , -0.765,  0.1  ,  0.   , -0.654], requires_grad=True)"
      ]
     },
     "execution_count": 296,
     "metadata": {},
     "output_type": "execute_result"
    }
   ],
   "source": [
    "dev = qml.device(\"default.qubit\", wires=3)\n",
    "\n",
    "@qml.qnode(dev)\n",
    "def circuit(weights):\n",
    "    new_weights = weights.reshape(-1)\n",
    "    #new_weights = new_weights.numpy()\n",
    "\n",
    "    i = 0\n",
    "    while i <= len(new_weights)-1:\n",
    "        qml.RX(new_weights[i], wires = 0)\n",
    "        qml.RY(new_weights[i+1], wires = 1)\n",
    "        qml.RZ(new_weights[i+2], wires = 2)\n",
    "        i += 3\n",
    "        qml.broadcast(qml.CNOT, wires=[0, 1, 2], pattern=\"ring\")\n",
    "        # qml.CNOT(wires=[0,1])\n",
    "        # qml.CNOT(wires=[1,2])\n",
    "        # qml.CNOT(wires=[2,0])\n",
    "    \n",
    "    obs = qml.Y(0) @ qml.I(1) @ qml.Z(2)\n",
    "    return qml.expval(obs)\n",
    "\n",
    "weights = np.array([[1,0.5,-0.765],[0.1,0,-0.654]])\n",
    "# key = jax.random.PRNGKey(42)\n",
    "# params = jax.random.normal(key,[6])\n",
    "# circuit(params)\n",
    "circuit(weights)\n",
    "#weights.numpy()\n",
    "# qml.draw_mpl(circuit, decimals=2)(params)\n",
    "\n",
    "elem = weights.reshape(-1)\n",
    "elem[0] += 1\n",
    "elem"
   ]
  },
  {
   "cell_type": "code",
   "execution_count": 313,
   "metadata": {},
   "outputs": [
    {
     "data": {
      "text/plain": [
       "array([[ 2.99518791e-02, -3.93131888e-02, -5.78934024e-17],\n",
       "       [-3.40899969e-02,  1.66279776e-01, -2.31573610e-16]])"
      ]
     },
     "execution_count": 313,
     "metadata": {},
     "output_type": "execute_result"
    }
   ],
   "source": [
    "def parameter_shift(weights):   \n",
    "    new_weights = weights.reshape(-1)\n",
    "    s = 0.5\n",
    "    def gradient(weights,idx):\n",
    "        weights_1 = weights.copy()\n",
    "        weights_1[idx] += s\n",
    "        plus_eval = circuit(weights_1)\n",
    "        weights_1[idx] -= 2*s\n",
    "        minus_eval = circuit(weights_1)\n",
    "        return (plus_eval-minus_eval)/(2*np.sin(s))\n",
    "\n",
    "    grad_lst = []\n",
    "\n",
    "    for i in range(len(new_weights)):\n",
    "        grad = gradient(new_weights,i)\n",
    "        grad_lst.append(grad)\n",
    "    grad_lst = np.array(grad_lst)\n",
    "\n",
    "    return grad_lst.numpy().reshape(2,3)\n",
    "    # #return np.array(u[2])\n",
    "    #return grad_lst\n",
    "weights_1= np.array([[0.94,-0.2,6.03],[-2.6,-0.058,1.2]])\n",
    "# arr = np.array(parameter_shift(weights_1))\n",
    "# arr.numpy().reshape(2,3)\n",
    "\n",
    "parameter_shift(weights_1)"
   ]
  },
  {
   "cell_type": "code",
   "execution_count": 279,
   "metadata": {},
   "outputs": [
    {
     "data": {
      "text/plain": [
       "jaxlib.xla_extension.ArrayImpl"
      ]
     },
     "execution_count": 279,
     "metadata": {},
     "output_type": "execute_result"
    }
   ],
   "source": [
    "s = 0.5\n",
    "key = jax.random.PRNGKey(42)\n",
    "params = jax.random.normal(key,[6])\n",
    "def parameter_shift_term(qnode,params,i):\n",
    "    params.reshape(-1)\n",
    "    #params = params.numpy()\n",
    "    shifted = params.copy()\n",
    "    shifted = shifted.at[i].add(s)\n",
    "    forward = qnode(shifted)\n",
    "    return params#shifted\n",
    "    #forward = qnodes\n",
    "parameter_shift_term(circuit,params,0)\n",
    "type(params)\n"
   ]
  }
 ],
 "metadata": {
  "kernelspec": {
   "display_name": "qiskit",
   "language": "python",
   "name": "python3"
  },
  "language_info": {
   "codemirror_mode": {
    "name": "ipython",
    "version": 3
   },
   "file_extension": ".py",
   "mimetype": "text/x-python",
   "name": "python",
   "nbconvert_exporter": "python",
   "pygments_lexer": "ipython3",
   "version": "3.12.2"
  }
 },
 "nbformat": 4,
 "nbformat_minor": 2
}
