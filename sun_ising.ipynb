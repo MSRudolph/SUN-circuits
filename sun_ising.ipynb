{
 "cells": [
  {
   "cell_type": "code",
   "execution_count": 1,
   "metadata": {},
   "outputs": [],
   "source": [
    "import pennylane as qml\n",
    "import numpy as np\n",
    "import jax"
   ]
  },
  {
   "cell_type": "code",
   "execution_count": 2,
   "metadata": {},
   "outputs": [],
   "source": [
    "jax.config.update(\"jax_enable_x64\", True)\n",
    "jax.config.update(\"jax_platform_name\", \"cpu\")\n",
    "jnp = jax.numpy\n",
    "\n",
    "dev = qml.device(\"default.qubit\", wires=1)\n",
    "H = 0.6 * qml.PauliZ(0) - 0.8 * qml.PauliY(0)\n",
    "\n",
    "\n",
    "def qfunc(theta):\n",
    "    qml.SpecialUnitary(theta, wires=0)\n",
    "    return qml.expval(H)\n",
    "\n",
    "\n",
    "circuit = qml.QNode(qfunc, dev, interface=\"jax\", diff_method=\"parameter-shift\")\n",
    "\n",
    "theta = jnp.array([0.4, 0.2, -0.5])"
   ]
  },
  {
   "cell_type": "code",
   "execution_count": 3,
   "metadata": {},
   "outputs": [
    {
     "name": "stdout",
     "output_type": "stream",
     "text": [
      "Central difference: 0.42398\n"
     ]
    }
   ],
   "source": [
    "unit_vector = np.array([0.0, 1.0, 0.0])\n",
    "\n",
    "\n",
    "def central_diff_grad(theta, delta):\n",
    "    plus_eval = circuit(theta + delta / 2 * unit_vector)\n",
    "    minus_eval = circuit(theta - delta / 2 * unit_vector)\n",
    "    return (plus_eval - minus_eval) / delta\n",
    "\n",
    "\n",
    "delta = 0.75\n",
    "print(f\"Central difference: {central_diff_grad(theta, delta):.5f}\")"
   ]
  },
  {
   "cell_type": "code",
   "execution_count": 4,
   "metadata": {},
   "outputs": [
    {
     "name": "stdout",
     "output_type": "stream",
     "text": [
      "Stochastic parameter-shift: 0.33534\n"
     ]
    }
   ],
   "source": [
    "@jax.jit\n",
    "@qml.qnode(dev, interface=\"jax\")\n",
    "def aux_circuit(theta, tau, sign):\n",
    "    qml.SpecialUnitary(tau * theta, wires=0)\n",
    "    # This corresponds to the parameter-shift evaluations of RY at 0\n",
    "    qml.RY(-sign * np.pi / 2, wires=0)\n",
    "    qml.SpecialUnitary((1 - tau) * theta, wires=0)\n",
    "    return qml.expval(H)\n",
    "\n",
    "\n",
    "def stochastic_parshift_grad(theta, num_samples):\n",
    "    grad = 0\n",
    "    splitting_times = np.random.random(size=num_samples)\n",
    "    for tau in splitting_times:\n",
    "        # Evaluate the two-term parameter-shift rule of the auxiliar circuit\n",
    "        grad += aux_circuit(theta, tau, 1.0) - aux_circuit(theta, tau, -1.0)\n",
    "    return grad / num_samples\n",
    "\n",
    "\n",
    "num_samples = 10\n",
    "print(f\"Stochastic parameter-shift: {stochastic_parshift_grad(theta, num_samples):.5f}\")"
   ]
  },
  {
   "cell_type": "code",
   "execution_count": 5,
   "metadata": {},
   "outputs": [
    {
     "name": "stdout",
     "output_type": "stream",
     "text": [
      "Custom SU(N) gradient: 0.42609\n"
     ]
    }
   ],
   "source": [
    "sun_grad = jax.grad(circuit)\n",
    "print(f\"Custom SU(N) gradient: {sun_grad(theta)[1]:.5f}\")"
   ]
  },
  {
   "cell_type": "code",
   "execution_count": 6,
   "metadata": {},
   "outputs": [
    {
     "name": "stdout",
     "output_type": "stream",
     "text": [
      "Exact gradient: 0.42609\n"
     ]
    }
   ],
   "source": [
    "autodiff_circuit = qml.QNode(qfunc, dev, interface=\"jax\", diff_method=\"parameter-shift\")\n",
    "exact_grad = jax.grad(autodiff_circuit)(theta)[1]\n",
    "print(f\"Exact gradient: {exact_grad:.5f}\")"
   ]
  },
  {
   "cell_type": "code",
   "execution_count": 7,
   "metadata": {},
   "outputs": [
    {
     "data": {
      "image/png": "[encoded data removed]",
      "text/plain": [
       "<Figure size 600x400 with 1 Axes>"
      ]
     },
     "metadata": {},
     "output_type": "display_data"
    }
   ],
   "source": [
    "import matplotlib.pyplot as plt\n",
    "\n",
    "plt.rcParams.update({\"font.size\": 12})\n",
    "\n",
    "fig, ax = plt.subplots(1, 1, figsize=(6, 4))\n",
    "colors = [\"#ACE3FF\", \"#FF87EB\", \"#FFE096\"]\n",
    "for num_samples, color in zip([2, 10, 100], colors):\n",
    "    grads = [stochastic_parshift_grad(theta, num_samples) for _ in range(1000)]\n",
    "    ax.hist(grads, label=f\"{num_samples} samples\", alpha=0.9, color=color)\n",
    "ylim = ax.get_ylim()\n",
    "ax.plot([exact_grad] * 2, ylim, ls=\"--\", c=\"k\", label=\"Exact\")\n",
    "ax.set(xlabel=r\"$\\partial_{SPS,\\theta_2}C(\\theta)$\", ylabel=\"Frequency\", ylim=ylim)\n",
    "ax.legend(loc=\"upper left\")\n",
    "plt.tight_layout()\n",
    "plt.show()"
   ]
  },
  {
   "cell_type": "code",
   "execution_count": 8,
   "metadata": {},
   "outputs": [
    {
     "name": "stderr",
     "output_type": "stream",
     "text": [
      "<>:24: SyntaxWarning: invalid escape sequence '\\m'\n",
      "<>:24: SyntaxWarning: invalid escape sequence '\\m'\n",
      "/var/folders/3j/grhshysx2qb2lnsvc18r_g0c0000gn/T/ipykernel_36417/391022573.py:24: SyntaxWarning: invalid escape sequence '\\m'\n",
      "  (\"$\\mathrm{SU}(N)$ gate\", \"SU(N) gate\"): qml.SpecialUnitary,\n"
     ]
    }
   ],
   "source": [
    "def two_qubit_decomp(params, wires):\n",
    "    \"\"\"Implement an arbitrary SU(4) gate on two qubits\n",
    "    using the decomposition from Theorem 5 in\n",
    "    https://arxiv.org/pdf/quant-ph/0308006.pdf\"\"\"\n",
    "    i, j = wires\n",
    "    # Single U(2) parameterization on both qubits separately\n",
    "    qml.Rot(*params[:3], wires=i)\n",
    "    qml.Rot(*params[3:6], wires=j)\n",
    "    qml.CNOT(wires=[j, i])  # First CNOT\n",
    "    qml.RZ(params[6], wires=i)\n",
    "    qml.RY(params[7], wires=j)\n",
    "    qml.CNOT(wires=[i, j])  # Second CNOT\n",
    "    qml.RY(params[8], wires=j)\n",
    "    qml.CNOT(wires=[j, i])  # Third CNOT\n",
    "    # Single U(2) parameterization on both qubits separately\n",
    "    qml.Rot(*params[9:12], wires=i)\n",
    "    qml.Rot(*params[12:15], wires=j)\n",
    "\n",
    "\n",
    "# The three building blocks on two qubits we will compare are:\n",
    "operations = {\n",
    "    (\"Decomposition\", \"decomposition\"): two_qubit_decomp,\n",
    "    (\"PauliRot sequence\",) * 2: qml.ArbitraryUnitary,\n",
    "    (\"$\\mathrm{SU}(N)$ gate\", \"SU(N) gate\"): qml.SpecialUnitary,\n",
    "}"
   ]
  },
  {
   "cell_type": "code",
   "execution_count": 9,
   "metadata": {},
   "outputs": [
    {
     "name": "stdout",
     "output_type": "stream",
     "text": [
      "(64, 64)\n",
      "Ground state energy: -119.70320\n"
     ]
    }
   ],
   "source": [
    "num_wires = 6\n",
    "wires = list(range(num_wires))\n",
    "np.random.seed(62213)\n",
    "\n",
    "coefficients = np.random.randn(4**num_wires - 1)\n",
    "# Create the matrices for the entire Pauli basis\n",
    "basis = qml.ops.qubit.special_unitary.pauli_basis_matrices(num_wires)\n",
    "# Construct the Hamiltonian from the normal random coefficients and the basis\n",
    "H_matrix = qml.math.tensordot(coefficients, basis, axes=[[0], [0]])\n",
    "print(H_matrix.shape)\n",
    "H = qml.Hermitian(H_matrix, wires=wires)\n",
    "# Compute the ground state energy\n",
    "E_min = min(qml.eigvals(H))\n",
    "print(f\"Ground state energy: {E_min:.5f}\")"
   ]
  },
  {
   "cell_type": "code",
   "execution_count": 10,
   "metadata": {},
   "outputs": [
    {
     "name": "stderr",
     "output_type": "stream",
     "text": [
      "/opt/homebrew/anaconda3/envs/pennylane/lib/python3.12/site-packages/pennylane/ops/functions/eigvals.py:120: UserWarning: For Hamiltonians, the eigenvalues will be computed numerically. This may be computationally intensive for a large number of wires. Consider using a sparse representation of the Hamiltonian with qml.SparseHamiltonian.\n",
      "  warnings.warn(\n"
     ]
    },
    {
     "name": "stdout",
     "output_type": "stream",
     "text": [
      "[-15.1501188  -15.15007094  -5.29421955  -5.24643812  -5.1722604\n",
      "  -5.1722604   -5.1722604   -5.1722604   -5.1722604   -5.16227766\n",
      "  -5.16227766  -5.16227766  -5.16227766  -5.16227766  -0.28472811\n",
      "   0.14398654   0.14398654   0.14398654   0.14398654   0.14398654\n",
      "   0.58578644   0.58578644   0.58578644   0.58578644   0.58578644\n",
      "   0.58578644   0.58578644   0.58578644   0.58578644   1.\n",
      "   1.           1.           1.           1.           1.\n",
      "   1.           1.           1.           1.16227766   1.16227766\n",
      "   1.16227766   1.16227766   1.16227766   1.39650906   3.\n",
      "   3.           3.           3.           3.           3.41421356\n",
      "   3.41421356   3.41421356   3.41421356   3.41421356   3.41421356\n",
      "   3.41421356   3.41421356   3.41421356   4.02827386   4.02827386\n",
      "   4.02827386   4.02827386   4.02827386   4.72906647]\n",
      "Ground state energy: -15.15012\n"
     ]
    }
   ],
   "source": [
    "# from qiskit.circuit.library import QAOAAnsatz\n",
    "# from qiskit.quantum_info import SparsePauliOp\n",
    "\n",
    "# hamiltonian = SparsePauliOp.from_list([\n",
    "#     (\"IIZZ\", 1), (\"IIIZ\", 1), (\"IZZI\", 1), (\"ZIIZ\", 1), (\"ZZII\", 1),\n",
    "# ])\n",
    "\n",
    "# H_matrix = hamiltonian.to_matrix()\n",
    "# H = qml.Hermitian(H_matrix, wires=wires)\n",
    "# H = qml.prod(*[qml.PauliZ(i) for i in range(num_wires)])\n",
    "# H = qml.Hermitian(-1 * H.matrix(), wires)\n",
    "\n",
    "# Define the Hamiltonian\n",
    "coeffs = []\n",
    "obs = []\n",
    "\n",
    "# Coupling constant (J) and transverse field strength (h)\n",
    "J = 1.0\n",
    "h = 0.5\n",
    "\n",
    "# ZZ interactions\n",
    "for i in range(num_wires):\n",
    "    for j in range(i+1, num_wires):\n",
    "        coeffs.append(-J)\n",
    "        obs.append(qml.PauliZ(i) @ qml.PauliZ(j))\n",
    "\n",
    "# X interactions\n",
    "for i in range(num_wires):\n",
    "    coeffs.append(-h)\n",
    "    obs.append(qml.PauliX(i))\n",
    "\n",
    "# Create the Hamiltonian\n",
    "H = qml.Hamiltonian(coeffs, obs)\n",
    "\n",
    "E_min = min(qml.eigvals(H))\n",
    "\n",
    "print(qml.eigvals(H))\n",
    "print(f\"Ground state energy: {E_min:.5f}\")"
   ]
  },
  {
   "cell_type": "code",
   "execution_count": 11,
   "metadata": {},
   "outputs": [
    {
     "name": "stdout",
     "output_type": "stream",
     "text": [
      "0: ─╭SpecialUnitary(M0)─────────────────────╭SpecialUnitary(M0)─╭SpecialUnitary(M0)\n",
      "1: ─╰SpecialUnitary(M0)─╭SpecialUnitary(M0)─│───────────────────╰SpecialUnitary(M0)\n",
      "2: ─╭SpecialUnitary(M0)─╰SpecialUnitary(M0)─│───────────────────╭SpecialUnitary(M0)\n",
      "3: ─╰SpecialUnitary(M0)─╭SpecialUnitary(M0)─│───────────────────╰SpecialUnitary(M0)\n",
      "4: ─╭SpecialUnitary(M0)─╰SpecialUnitary(M0)─│───────────────────╭SpecialUnitary(M0)\n",
      "5: ─╰SpecialUnitary(M0)─────────────────────╰SpecialUnitary(M0)─╰SpecialUnitary(M0)\n",
      "\n",
      "──────────────────────╭SpecialUnitary(M0)─╭SpecialUnitary(M0)────────────────────\n",
      "──╭SpecialUnitary(M0)─│───────────────────╰SpecialUnitary(M0)─╭SpecialUnitary(M0)\n",
      "──╰SpecialUnitary(M0)─│───────────────────╭SpecialUnitary(M0)─╰SpecialUnitary(M0)\n",
      "──╭SpecialUnitary(M0)─│───────────────────╰SpecialUnitary(M0)─╭SpecialUnitary(M0)\n",
      "──╰SpecialUnitary(M0)─│───────────────────╭SpecialUnitary(M0)─╰SpecialUnitary(M0)\n",
      "──────────────────────╰SpecialUnitary(M0)─╰SpecialUnitary(M0)────────────────────\n",
      "\n",
      "──╭SpecialUnitary(M0)─╭SpecialUnitary(M0)─────────────────────╭SpecialUnitary(M0)\n",
      "──│───────────────────╰SpecialUnitary(M0)─╭SpecialUnitary(M0)─│──────────────────\n",
      "──│───────────────────╭SpecialUnitary(M0)─╰SpecialUnitary(M0)─│──────────────────\n",
      "──│───────────────────╰SpecialUnitary(M0)─╭SpecialUnitary(M0)─│──────────────────\n",
      "──│───────────────────╭SpecialUnitary(M0)─╰SpecialUnitary(M0)─│──────────────────\n",
      "──╰SpecialUnitary(M0)─╰SpecialUnitary(M0)─────────────────────╰SpecialUnitary(M0)\n",
      "\n",
      "──╭SpecialUnitary(M0)─────────────────────╭SpecialUnitary(M0)─╭SpecialUnitary(M0)\n",
      "──╰SpecialUnitary(M0)─╭SpecialUnitary(M0)─│───────────────────╰SpecialUnitary(M0)\n",
      "──╭SpecialUnitary(M0)─╰SpecialUnitary(M0)─│───────────────────╭SpecialUnitary(M0)\n",
      "──╰SpecialUnitary(M0)─╭SpecialUnitary(M0)─│───────────────────╰SpecialUnitary(M0)\n",
      "──╭SpecialUnitary(M0)─╰SpecialUnitary(M0)─│───────────────────╭SpecialUnitary(M0)\n",
      "──╰SpecialUnitary(M0)─────────────────────╰SpecialUnitary(M0)─╰SpecialUnitary(M0)\n",
      "\n",
      "──────────────────────╭SpecialUnitary(M0)─┤ ╭<𝓗>\n",
      "──╭SpecialUnitary(M0)─│───────────────────┤ ├<𝓗>\n",
      "──╰SpecialUnitary(M0)─│───────────────────┤ ├<𝓗>\n",
      "──╭SpecialUnitary(M0)─│───────────────────┤ ├<𝓗>\n",
      "──╰SpecialUnitary(M0)─│───────────────────┤ ├<𝓗>\n",
      "──────────────────────╰SpecialUnitary(M0)─┤ ╰<𝓗>\n",
      "\n",
      "M0 = \n",
      "[0. 0. 0. 0. 0. 0. 0. 0. 0. 0. 0. 0. 0. 0. 0.]\n"
     ]
    }
   ],
   "source": [
    "loc = 2\n",
    "d = 4**loc - 1  # d = 15 for two-qubit operations\n",
    "dev = qml.device(\"default.qubit\", wires=num_wires)\n",
    "# two blocks with two layers. Each layer contains three operations with d parameters\n",
    "param_shape = (6, 2, 3, d)\n",
    "init_params = np.zeros(param_shape, dtype=np.float64)\n",
    "\n",
    "\n",
    "def circuit(params, operation=None):\n",
    "    \"\"\"Apply an operation in a brickwall-like pattern to a qubit register and measure H.\n",
    "    Parameters are assumed to have the dimensions (number of blocks, number of\n",
    "    wires per operation, number of operations per layer, and number of parameters\n",
    "    per operation), in that order.\n",
    "    \"\"\"\n",
    "    for params_block in params:\n",
    "        for i, params_layer in enumerate(params_block):\n",
    "            for j, params_op in enumerate(params_layer):\n",
    "                wires_op = [w % num_wires for w in range(loc * j + i, loc * (j + 1) + i)]\n",
    "                #print(\"performing\",  operation, \"operations\", \" on \", wires_op, \"params\", params_op)\n",
    "                operation(params_op, wires_op)\n",
    "    return qml.expval(H)\n",
    "\n",
    "qnode = qml.QNode(circuit, dev, interface=\"jax\")\n",
    "print(qml.draw(qnode)(init_params, qml.SpecialUnitary))"
   ]
  },
  {
   "cell_type": "code",
   "execution_count": 12,
   "metadata": {},
   "outputs": [],
   "source": [
    "# for auto-differentiation.\n",
    "\n",
    "learning_rate = 5e-4\n",
    "num_steps = 500\n",
    "init_params = jax.numpy.array(init_params)\n",
    "grad_fn = jax.jit(jax.jacobian(qnode), static_argnums=1)\n",
    "qnode = jax.jit(qnode, static_argnums=1)"
   ]
  },
  {
   "cell_type": "code",
   "execution_count": 13,
   "metadata": {},
   "outputs": [
    {
     "name": "stdout",
     "output_type": "stream",
     "text": [
      "Running the optimization for the decomposition\n",
      "  0 Steps: -15.000000\n",
      " 10 Steps: -15.106458\n",
      " 20 Steps: -15.137348\n",
      " 30 Steps: -15.146341\n",
      " 40 Steps: -15.148967\n",
      " 50 Steps: -15.149736\n",
      " 60 Steps: -15.149962\n",
      " 70 Steps: -15.150028\n",
      " 80 Steps: -15.150048\n",
      " 90 Steps: -15.150054\n",
      "100 Steps: -15.150056\n",
      "110 Steps: -15.150056\n",
      "120 Steps: -15.150056\n",
      "130 Steps: -15.150056\n",
      "140 Steps: -15.150056\n",
      "150 Steps: -15.150056\n",
      "160 Steps: -15.150056\n",
      "170 Steps: -15.150056\n",
      "180 Steps: -15.150056\n",
      "190 Steps: -15.150056\n",
      "200 Steps: -15.150056\n",
      "210 Steps: -15.150056\n",
      "220 Steps: -15.150056\n",
      "230 Steps: -15.150056\n",
      "240 Steps: -15.150056\n",
      "250 Steps: -15.150056\n",
      "260 Steps: -15.150056\n",
      "270 Steps: -15.150056\n",
      "280 Steps: -15.150056\n",
      "290 Steps: -15.150056\n",
      "300 Steps: -15.150056\n",
      "310 Steps: -15.150056\n",
      "320 Steps: -15.150056\n",
      "330 Steps: -15.150056\n",
      "340 Steps: -15.150056\n",
      "350 Steps: -15.150056\n",
      "360 Steps: -15.150056\n",
      "370 Steps: -15.150056\n",
      "380 Steps: -15.150056\n",
      "390 Steps: -15.150056\n",
      "400 Steps: -15.150056\n",
      "410 Steps: -15.150056\n",
      "420 Steps: -15.150056\n",
      "430 Steps: -15.150056\n",
      "440 Steps: -15.150056\n",
      "450 Steps: -15.150056\n",
      "460 Steps: -15.150056\n",
      "470 Steps: -15.150056\n",
      "480 Steps: -15.150056\n",
      "490 Steps: -15.150056\n",
      "Running the optimization for the PauliRot sequence\n"
     ]
    },
    {
     "name": "stderr",
     "output_type": "stream",
     "text": [
      "2024-05-25 17:33:27.934754: E external/xla/xla/service/slow_operation_alarm.cc:65] \n",
      "********************************\n",
      "[Compiling module jit_circuit] Very slow compile? If you want to file a bug, run with envvar XLA_FLAGS=--xla_dump_to=/tmp/foo and attach the results.\n",
      "********************************\n",
      "2024-05-25 17:36:57.555179: E external/xla/xla/service/slow_operation_alarm.cc:133] The operation took 5m29.626251s\n",
      "\n",
      "********************************\n",
      "[Compiling module jit_circuit] Very slow compile? If you want to file a bug, run with envvar XLA_FLAGS=--xla_dump_to=/tmp/foo and attach the results.\n",
      "********************************\n"
     ]
    },
    {
     "name": "stdout",
     "output_type": "stream",
     "text": [
      "  0 Steps: -15.000000\n",
      " 10 Steps: -15.106428\n",
      " 20 Steps: -15.137287\n",
      " 30 Steps: -15.146283\n",
      " 40 Steps: -15.148924\n",
      " 50 Steps: -15.149704\n",
      " 60 Steps: -15.149937\n",
      " 70 Steps: -15.150007\n",
      " 80 Steps: -15.150028\n",
      " 90 Steps: -15.150034\n",
      "100 Steps: -15.150036\n",
      "110 Steps: -15.150037\n",
      "120 Steps: -15.150037\n",
      "130 Steps: -15.150037\n",
      "140 Steps: -15.150037\n",
      "150 Steps: -15.150037\n",
      "160 Steps: -15.150037\n",
      "170 Steps: -15.150037\n",
      "180 Steps: -15.150037\n",
      "190 Steps: -15.150037\n",
      "200 Steps: -15.150037\n",
      "210 Steps: -15.150037\n",
      "220 Steps: -15.150037\n",
      "230 Steps: -15.150037\n",
      "240 Steps: -15.150037\n",
      "250 Steps: -15.150037\n",
      "260 Steps: -15.150037\n",
      "270 Steps: -15.150037\n",
      "280 Steps: -15.150037\n",
      "290 Steps: -15.150037\n",
      "300 Steps: -15.150037\n",
      "310 Steps: -15.150037\n",
      "320 Steps: -15.150037\n",
      "330 Steps: -15.150037\n",
      "340 Steps: -15.150037\n",
      "350 Steps: -15.150037\n",
      "360 Steps: -15.150037\n",
      "370 Steps: -15.150037\n",
      "380 Steps: -15.150037\n",
      "390 Steps: -15.150037\n",
      "400 Steps: -15.150037\n",
      "410 Steps: -15.150037\n",
      "420 Steps: -15.150037\n",
      "430 Steps: -15.150037\n",
      "440 Steps: -15.150037\n",
      "450 Steps: -15.150037\n",
      "460 Steps: -15.150037\n",
      "470 Steps: -15.150037\n",
      "480 Steps: -15.150037\n",
      "490 Steps: -15.150037\n",
      "Running the optimization for the SU(N) gate\n"
     ]
    },
    {
     "name": "stderr",
     "output_type": "stream",
     "text": [
      "/opt/homebrew/anaconda3/envs/pennylane/lib/python3.12/site-packages/jax/_src/lax/lax.py:2740: ComplexWarning: Casting complex values to real discards the imaginary part\n",
      "  x_bar = _convert_element_type(x_bar, x.aval.dtype, x.aval.weak_type)\n"
     ]
    },
    {
     "name": "stdout",
     "output_type": "stream",
     "text": [
      "  0 Steps: -15.000000\n",
      " 10 Steps: -15.149375\n",
      " 20 Steps: -15.150034\n",
      " 30 Steps: -15.150037\n",
      " 40 Steps: -15.150037\n",
      " 50 Steps: -15.150037\n",
      " 60 Steps: -15.150037\n",
      " 70 Steps: -15.150037\n",
      " 80 Steps: -15.150037\n",
      " 90 Steps: -15.150037\n",
      "100 Steps: -15.150037\n",
      "110 Steps: -15.150037\n",
      "120 Steps: -15.150037\n",
      "130 Steps: -15.150037\n",
      "140 Steps: -15.150037\n",
      "150 Steps: -15.150037\n",
      "160 Steps: -15.150037\n",
      "170 Steps: -15.150037\n",
      "180 Steps: -15.150037\n",
      "190 Steps: -15.150037\n",
      "200 Steps: -15.150037\n",
      "210 Steps: -15.150037\n",
      "220 Steps: -15.150037\n",
      "230 Steps: -15.150037\n",
      "240 Steps: -15.150037\n",
      "250 Steps: -15.150037\n",
      "260 Steps: -15.150037\n",
      "270 Steps: -15.150037\n",
      "280 Steps: -15.150037\n",
      "290 Steps: -15.150037\n",
      "300 Steps: -15.150037\n",
      "310 Steps: -15.150037\n",
      "320 Steps: -15.150037\n",
      "330 Steps: -15.150037\n",
      "340 Steps: -15.150037\n",
      "350 Steps: -15.150037\n",
      "360 Steps: -15.150037\n",
      "370 Steps: -15.150037\n",
      "380 Steps: -15.150037\n",
      "390 Steps: -15.150037\n",
      "400 Steps: -15.150037\n",
      "410 Steps: -15.150037\n",
      "420 Steps: -15.150037\n",
      "430 Steps: -15.150037\n",
      "440 Steps: -15.150037\n",
      "450 Steps: -15.150037\n",
      "460 Steps: -15.150037\n",
      "470 Steps: -15.150037\n",
      "480 Steps: -15.150037\n",
      "490 Steps: -15.150037\n"
     ]
    }
   ],
   "source": [
    "energies = {}\n",
    "\n",
    "# # The three building blocks on two qubits we will compare are:\n",
    "# operations = {\n",
    "#     (\"Decomposition\", \"decomposition\"): two_qubit_decomp,\n",
    "#     (\"PauliRot sequence\",) * 2: qml.ArbitraryUnitary,\n",
    "#     (\"$\\mathrm{SU}(N)$ gate\", \"SU(N) gate\"): qml.SpecialUnitary,\n",
    "# }\n",
    "\n",
    "@jax.jit\n",
    "def numpy_callback(x):\n",
    "  # Need to forward-declare the shape & dtype of the expected output.\n",
    "  result_shape = jax.core.ShapedArray(x.shape, x.dtype)\n",
    "  return jax.pure_callback(np.sin, result_shape, x)\n",
    "\n",
    "for (name, print_name), operation in operations.items(): \n",
    "    print(f\"Running the optimization for the {print_name}\")\n",
    "    params = init_params.copy()\n",
    "    energy = []\n",
    "    for step in range(num_steps):\n",
    "        cost = qnode(params, operation)\n",
    "        params = params - learning_rate * grad_fn(params, operation)\n",
    "        #print(numpy_callback(params))\n",
    "        energy.append(cost)  # Store energy value\n",
    "        if step % 10 == 0:  # Report current energy\n",
    "            print(f\"{step:3d} Steps: {cost:.6f}\")\n",
    "\n",
    "    energy.append(qnode(params, operation))  # Final energy value\n",
    "    energies[name] = energy"
   ]
  },
  {
   "cell_type": "code",
   "execution_count": 14,
   "metadata": {},
   "outputs": [
    {
     "data": {
      "image/png": "[encoded data removed]",
      "text/plain": [
       "<Figure size 640x480 with 1 Axes>"
      ]
     },
     "metadata": {},
     "output_type": "display_data"
    }
   ],
   "source": [
    "fig, ax = plt.subplots(1, 1)\n",
    "styles = [\":\", \"--\", \"-\"]\n",
    "colors = [\"#70CEFF\", \"#C756B2\", \"#FFE096\"]\n",
    "for (name, energy), c, ls in zip(energies.items(), colors, styles):\n",
    "    error = (energy - E_min) / abs(E_min)\n",
    "    ax.plot(list(range(len(error))), error, label=name, c=c, ls=ls, lw=2.5)\n",
    "\n",
    "ax.set(xlabel=\"Iteration\", ylabel=\"Relative error\")\n",
    "ax.legend()\n",
    "plt.show()"
   ]
  }
 ],
 "metadata": {
  "kernelspec": {
   "display_name": "pennylane",
   "language": "python",
   "name": "python3"
  },
  "language_info": {
   "codemirror_mode": {
    "name": "ipython",
    "version": 3
   },
   "file_extension": ".py",
   "mimetype": "text/x-python",
   "name": "python",
   "nbconvert_exporter": "python",
   "pygments_lexer": "ipython3",
   "version": "3.12.3"
  }
 },
 "nbformat": 4,
 "nbformat_minor": 2
}
