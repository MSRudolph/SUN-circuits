{
 "cells": [
  {
   "cell_type": "code",
   "execution_count": 1,
   "metadata": {},
   "outputs": [
    {
     "data": {
      "text/plain": [
       "(<Figure size 400x200 with 1 Axes>, <Axes: >)"
      ]
     },
     "execution_count": 1,
     "metadata": {},
     "output_type": "execute_result"
    },
    {
     "data": {
      "image/png": "[encoded data removed]",
      "text/plain": [
       "<Figure size 400x200 with 1 Axes>"
      ]
     },
     "metadata": {},
     "output_type": "display_data"
    }
   ],
   "source": [
    "import pennylane as qml\n",
    "import numpy as np\n",
    "import jax\n",
    "\n",
    "jax.config.update(\"jax_enable_x64\", True)\n",
    "jax.config.update(\"jax_platform_name\", \"cpu\")\n",
    "jnp = jax.numpy\n",
    "\n",
    "dev = qml.device('default.qubit', wires = 1)\n",
    "#Define Hamiltonian\n",
    "obs = [qml.Z(0),qml.Y(0)]\n",
    "coeff = [0.6,-0.8]\n",
    "H = qml.Hamiltonian(coeff,obs)\n",
    "\n",
    "def qfunc(theta):\n",
    "    qml.SpecialUnitary(theta,wires = 0)\n",
    "    return qml.expval(H)\n",
    "\n",
    "circuit = qml.QNode(qfunc,dev,interface='jax',diff_method='parameter-shift')\n",
    " # For 1 qubit, only 3 parameters are required. \n",
    "theta = jnp.array([0.4,0.2,-0.5])\n",
    "theta = np.array([0.4,0.2,-0.5])\n",
    "\n",
    "qml.draw_mpl(circuit,decimals=2)(theta)\n"
   ]
  },
  {
   "cell_type": "code",
   "execution_count": 2,
   "metadata": {},
   "outputs": [
    {
     "data": {
      "text/plain": [
       "pennylane.ops.qubit.special_unitary.SpecialUnitary"
      ]
     },
     "execution_count": 2,
     "metadata": {},
     "output_type": "execute_result"
    }
   ],
   "source": [
    "# we will apply finite difference approach to compute the gradient wrt second parameter\n",
    "\n",
    "def fin_diff(weights,idx,delta):   \n",
    "    new_weights = weights.reshape(-1)\n",
    "    s = delta\n",
    "    def gradient(weights,idx):\n",
    "        weights_1 = weights.copy()\n",
    "        weights_1[idx] += s/2\n",
    "        plus_eval = circuit(weights_1)\n",
    "        weights_1[idx] -= s\n",
    "        minus_eval = circuit(weights_1)\n",
    "        return (plus_eval-minus_eval)/(s)\n",
    "    return gradient(weights,idx)\n",
    "\n",
    "fin_diff(theta,1,0.75)\n",
    "qml.ops.qubit.special_unitary.pauli_basis_matrices(3)\n",
    "qml.SpecialUnitary\n"
   ]
  },
  {
   "cell_type": "code",
   "execution_count": 3,
   "metadata": {},
   "outputs": [
    {
     "name": "stdout",
     "output_type": "stream",
     "text": [
      "Ground state energy: -119.70320\n"
     ]
    }
   ],
   "source": [
    "#Stochastic Parameter-Shift Rule\n",
    "\n",
    "num_wires = 6\n",
    "wires = list(range(num_wires))\n",
    "np.random.seed(62213)\n",
    "\n",
    "coefficients = np.random.randn(4**num_wires - 1)\n",
    "# Create the matrices for the entire Pauli basis\n",
    "basis = qml.ops.qubit.special_unitary.pauli_basis_matrices(num_wires)\n",
    "# Construct the Hamiltonian from the normal random coefficients and the basis\n",
    "H_matrix = qml.math.tensordot(coefficients, basis, axes=[[0], [0]])\n",
    "H = qml.Hermitian(H_matrix, wires=wires)\n",
    "# # Compute the ground state energy\n",
    "E_min = min(qml.eigvals(H))\n",
    "print(f\"Ground state energy: {E_min:.5f}\")\n"
   ]
  },
  {
   "cell_type": "code",
   "execution_count": 6,
   "metadata": {},
   "outputs": [
    {
     "name": "stdout",
     "output_type": "stream",
     "text": [
      "0: ─╭SpecialUnitary(M0)─────────────────────╭SpecialUnitary(M0)─╭SpecialUnitary(M0)\n",
      "1: ─╰SpecialUnitary(M0)─╭SpecialUnitary(M0)─│───────────────────╰SpecialUnitary(M0)\n",
      "2: ─╭SpecialUnitary(M0)─╰SpecialUnitary(M0)─│───────────────────╭SpecialUnitary(M0)\n",
      "3: ─╰SpecialUnitary(M0)─╭SpecialUnitary(M0)─│───────────────────╰SpecialUnitary(M0)\n",
      "4: ─╭SpecialUnitary(M0)─╰SpecialUnitary(M0)─│───────────────────╭SpecialUnitary(M0)\n",
      "5: ─╰SpecialUnitary(M0)─────────────────────╰SpecialUnitary(M0)─╰SpecialUnitary(M0)\n",
      "\n",
      "──────────────────────╭SpecialUnitary(M0)─╭SpecialUnitary(M0)────────────────────\n",
      "──╭SpecialUnitary(M0)─│───────────────────╰SpecialUnitary(M0)─╭SpecialUnitary(M0)\n",
      "──╰SpecialUnitary(M0)─│───────────────────╭SpecialUnitary(M0)─╰SpecialUnitary(M0)\n",
      "──╭SpecialUnitary(M0)─│───────────────────╰SpecialUnitary(M0)─╭SpecialUnitary(M0)\n",
      "──╰SpecialUnitary(M0)─│───────────────────╭SpecialUnitary(M0)─╰SpecialUnitary(M0)\n",
      "──────────────────────╰SpecialUnitary(M0)─╰SpecialUnitary(M0)────────────────────\n",
      "\n",
      "──╭SpecialUnitary(M0)─╭SpecialUnitary(M0)─────────────────────╭SpecialUnitary(M0)─┤ ╭<𝓗(M1)>\n",
      "──│───────────────────╰SpecialUnitary(M0)─╭SpecialUnitary(M0)─│───────────────────┤ ├<𝓗(M1)>\n",
      "──│───────────────────╭SpecialUnitary(M0)─╰SpecialUnitary(M0)─│───────────────────┤ ├<𝓗(M1)>\n",
      "──│───────────────────╰SpecialUnitary(M0)─╭SpecialUnitary(M0)─│───────────────────┤ ├<𝓗(M1)>\n",
      "──│───────────────────╭SpecialUnitary(M0)─╰SpecialUnitary(M0)─│───────────────────┤ ├<𝓗(M1)>\n",
      "──╰SpecialUnitary(M0)─╰SpecialUnitary(M0)─────────────────────╰SpecialUnitary(M0)─┤ ╰<𝓗(M1)>\n",
      "\n",
      "M0 = \n",
      "[0. 0. 0. 0. 0. 0. 0. 0. 0. 0. 0. 0. 0. 0. 0.]\n",
      "M1 = \n",
      "[[ 0.10834725 +0.j          2.08348467 +6.90753132j\n",
      "  -2.06930568 +8.2114041j  ...  0.63580509 -7.5170844j\n",
      "   1.33702141 -0.66250058j -3.44948445 +1.10506823j]\n",
      " [ 2.08348467 -6.90753132j 12.06022571 +0.j\n",
      "  -3.89353152 -2.42098631j ... 10.23876267 +0.47309831j\n",
      "  -1.83210857 +2.22847103j -4.16991712 +1.71059305j]\n",
      " [-2.06930568 -8.2114041j  -3.89353152 +2.42098631j\n",
      "  14.50251133 +0.j         ...  6.8222437  +8.05188006j\n",
      "   1.43571374 +7.22783113j  9.69457141 -5.86808992j]\n",
      " ...\n",
      " [ 0.63580509 +7.5170844j  10.23876267 -0.47309831j\n",
      "   6.8222437  -8.05188006j ... -2.85717475 +0.j\n",
      "  -1.23339179 +0.43575506j -1.62854071-10.10842486j]\n",
      " [ 1.33702141 +0.66250058j -1.83210857 -2.22847103j\n",
      "   1.43571374 -7.22783113j ... -1.23339179 -0.43575506j\n",
      "   0.50276775 +0.j          1.02792165 +1.37582788j]\n",
      " [-3.44948445 -1.10506823j -4.16991712 -1.71059305j\n",
      "   9.69457141 +5.86808992j ... -1.62854071+10.10842486j\n",
      "   1.02792165 -1.37582788j -3.0588789  +0.j        ]]\n"
     ]
    }
   ],
   "source": [
    "#num_wires = 4  # Number of qubits\n",
    "loc = 2  # Local dimension for two-qubit operations\n",
    "d = loc**4 - 1  # Number of parameters for two-qubit operations (15 for SU(4))\n",
    "dev = qml.device(\"default.qubit\", wires=num_wires)\n",
    "\n",
    "# Initialize parameters for different circuit repetitions\n",
    "repetitions = [2,4,6,8,10]\n",
    "param_shapes = [(rep, 2, 3, d) for rep in repetitions]\n",
    "init_params_list = [np.random.randn(*shape) for shape in param_shapes] # give same initial parameters for each repetitions\n",
    "init_params_list = [np.zeros(shape) for shape in param_shapes] # give same initial parameters for each repetitions\n",
    "\n",
    "\n",
    "\n",
    "# Define the quantum circuit function\n",
    "def circuit(params, operation=None):\n",
    "    \"\"\"Apply an operation in a brickwall-like pattern to a qubit register and measure H.\n",
    "    Parameters are assumed to have the dimensions (number of blocks, number of\n",
    "    wires per operation, number of operations per layer, and number of parameters\n",
    "    per operation), in that order.\n",
    "    \"\"\"\n",
    "    for params_block in params:\n",
    "        for i, params_layer in enumerate(params_block):\n",
    "            for j, params_op in enumerate(params_layer):\n",
    "                wires_op = [(loc * j + i + w) % num_wires for w in range(loc)]\n",
    "                operation(params_op, wires_op)\n",
    "    return qml.expval(H)\n",
    "\n",
    "# Create QNodes for different circuit repetitions\n",
    "qnodes = [qml.QNode(circuit, dev, interface=\"jax\") for _ in repetitions]\n",
    "\n",
    "\n",
    "print(qml.draw(qnodes[1])(init_params_list[1], qml.SpecialUnitary))"
   ]
  },
  {
   "cell_type": "code",
   "execution_count": 7,
   "metadata": {},
   "outputs": [
    {
     "name": "stderr",
     "output_type": "stream",
     "text": [
      "<>:24: SyntaxWarning: invalid escape sequence '\\m'\n",
      "<>:24: SyntaxWarning: invalid escape sequence '\\m'\n",
      "C:\\Users\\DELL\\AppData\\Local\\Temp\\ipykernel_12776\\391022573.py:24: SyntaxWarning: invalid escape sequence '\\m'\n",
      "  (\"$\\mathrm{SU}(N)$ gate\", \"SU(N) gate\"): qml.SpecialUnitary,\n"
     ]
    }
   ],
   "source": [
    "def two_qubit_decomp(params, wires):\n",
    "    \"\"\"Implement an arbitrary SU(4) gate on two qubits\n",
    "    using the decomposition from Theorem 5 in\n",
    "    https://arxiv.org/pdf/quant-ph/0308006.pdf\"\"\"\n",
    "    i, j = wires\n",
    "    # Single U(2) parameterization on both qubits separately\n",
    "    qml.Rot(*params[:3], wires=i)\n",
    "    qml.Rot(*params[3:6], wires=j)\n",
    "    qml.CNOT(wires=[j, i])  # First CNOT\n",
    "    qml.RZ(params[6], wires=i)\n",
    "    qml.RY(params[7], wires=j)\n",
    "    qml.CNOT(wires=[i, j])  # Second CNOT\n",
    "    qml.RY(params[8], wires=j)\n",
    "    qml.CNOT(wires=[j, i])  # Third CNOT\n",
    "    # Single U(2) parameterization on both qubits separately\n",
    "    qml.Rot(*params[9:12], wires=i)\n",
    "    qml.Rot(*params[12:15], wires=j)\n",
    "\n",
    "\n",
    "# The three building blocks on two qubits we will compare are:\n",
    "operations = {\n",
    "    (\"Decomposition\", \"decomposition\"): two_qubit_decomp,\n",
    "    (\"PauliRot sequence\",) * 2: qml.ArbitraryUnitary,\n",
    "    (\"$\\mathrm{SU}(N)$ gate\", \"SU(N) gate\"): qml.SpecialUnitary,\n",
    "}"
   ]
  },
  {
   "cell_type": "code",
   "execution_count": 9,
   "metadata": {},
   "outputs": [],
   "source": [
    "learning_rate = 5e-4\n",
    "num_steps = 3000\n",
    "#grad_fn = jax.jit(jax.jacobian(qnode), static_argnums=1)\n",
    "\n",
    "# Define a function to run optimization for each circuit repetition\n",
    "def optimize(i, operation): # i stands for repetition index\n",
    "    grad_fn = jax.jit(jax.jacobian(qnodes[i]), static_argnums=1)\n",
    "    energies = []\n",
    "    params = init_params_list[i]\n",
    "    #qnode\n",
    "    for step in range(num_steps):\n",
    "        cost = qnodes[i](params,operation)\n",
    "        params = params - learning_rate * grad_fn(params, operation)\n",
    "        energies.append(cost)\n",
    "    energies.append(cost)\n",
    "    return energies"
   ]
  },
  {
   "cell_type": "code",
   "execution_count": 11,
   "metadata": {},
   "outputs": [],
   "source": [
    "import matplotlib.pyplot as plt\n",
    "import numpy as np\n",
    "repetitions = [2, 4, 6, 8, 10]\n",
    "fig, axes = plt.subplots(nrows=2, ncols=3, figsize=(15, 12))\n",
    "axes = axes.flatten()\n",
    "\n",
    "for i, rep in enumerate(repetitions):\n",
    "    ax = axes[i]\n",
    "    \n",
    "    # Plot for two_qubit_decomp\n",
    "    e = optimize(i, two_qubit_decomp)  # Placeholder for two_qubit_decomp\n",
    "    error = (e - E_min) / abs(E_min)\n",
    "    ax.plot(np.arange(num_steps + 1), error, color=\"red\", label=f\"two_qubit_decomp, Repetitions = {rep}\")\n",
    "\n",
    "    # Plot for qml.SpecialUnitary\n",
    "    e_1 = optimize(i, qml.SpecialUnitary)  # Placeholder for qml.SpecialUnitary\n",
    "    error_1 = (e_1 - E_min) / abs(E_min)\n",
    "    ax.plot(np.arange(num_steps + 1), error_1, color=\"green\", label=f\"SpecialUnitary, Repetitions = {rep}\")\n",
    "\n",
    "    #ax.set_yscale('log')  # Set y-axis to logarithmic scale\n",
    "    ax.set_title(f\"Energy (Random Hamiltonian) for two_qubit_decomp and SpecialUnitary (Rep = {rep})\")\n",
    "    ax.set_xlabel(\"Step\")\n",
    "    ax.set_ylabel(\"Relative Error (log scale)\")\n",
    "    ax.legend()\n",
    "    ax.grid(True)\n",
    "\n",
    "plt.tight_layout()\n",
    "plt.show()"
   ]
  },
  {
   "cell_type": "code",
   "execution_count": null,
   "metadata": {},
   "outputs": [],
   "source": []
  }
 ],
 "metadata": {
  "kernelspec": {
   "display_name": "qiskit",
   "language": "python",
   "name": "python3"
  },
  "language_info": {
   "codemirror_mode": {
    "name": "ipython",
    "version": 3
   },
   "file_extension": ".py",
   "mimetype": "text/x-python",
   "name": "python",
   "nbconvert_exporter": "python",
   "pygments_lexer": "ipython3",
   "version": "3.12.2"
  }
 },
 "nbformat": 4,
 "nbformat_minor": 2
}
