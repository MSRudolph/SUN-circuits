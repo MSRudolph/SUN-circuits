{
 "cells": [
  {
   "cell_type": "code",
   "execution_count": 101,
   "metadata": {},
   "outputs": [
    {
     "data": {
      "text/plain": [
       "(<Figure size 400x200 with 1 Axes>, <Axes: >)"
      ]
     },
     "execution_count": 101,
     "metadata": {},
     "output_type": "execute_result"
    },
    {
     "data": {
      "image/png": "[encoded data removed]",
      "text/plain": [
       "<Figure size 400x200 with 1 Axes>"
      ]
     },
     "metadata": {},
     "output_type": "display_data"
    }
   ],
   "source": [
    "import pennylane as qml\n",
    "import numpy as np\n",
    "import jax\n",
    "\n",
    "jax.config.update(\"jax_enable_x64\", True)\n",
    "jax.config.update(\"jax_platform_name\", \"cpu\")\n",
    "jnp = jax.numpy\n",
    "\n",
    "dev = qml.device('default.qubit', wires = 1)\n",
    "#Define Hamiltonian\n",
    "obs = [qml.Z(0),qml.Y(0)]\n",
    "coeff = [0.6,-0.8]\n",
    "H = qml.Hamiltonian(coeff,obs)\n",
    "\n",
    "def qfunc(theta):\n",
    "    qml.SpecialUnitary(theta,wires = 0)\n",
    "    return qml.expval(H)\n",
    "\n",
    "circuit = qml.QNode(qfunc,dev,interface='jax',diff_method='parameter-shift')\n",
    " # For 1 qubit, only 3 parameters are required. \n",
    "theta = jnp.array([0.4,0.2,-0.5])\n",
    "theta = np.array([0.4,0.2,-0.5])\n",
    "\n",
    "qml.draw_mpl(circuit,decimals=2)(theta)\n"
   ]
  },
  {
   "cell_type": "code",
   "execution_count": 102,
   "metadata": {},
   "outputs": [
    {
     "data": {
      "text/plain": [
       "pennylane.ops.qubit.special_unitary.SpecialUnitary"
      ]
     },
     "execution_count": 102,
     "metadata": {},
     "output_type": "execute_result"
    }
   ],
   "source": [
    "# we will apply finite difference approach to compute the gradient wrt second parameter\n",
    "\n",
    "def fin_diff(weights,idx,delta):   \n",
    "    new_weights = weights.reshape(-1)\n",
    "    s = delta\n",
    "    def gradient(weights,idx):\n",
    "        weights_1 = weights.copy()\n",
    "        weights_1[idx] += s/2\n",
    "        plus_eval = circuit(weights_1)\n",
    "        weights_1[idx] -= s\n",
    "        minus_eval = circuit(weights_1)\n",
    "        return (plus_eval-minus_eval)/(s)\n",
    "    return gradient(weights,idx)\n",
    "\n",
    "fin_diff(theta,1,0.75)\n",
    "qml.ops.qubit.special_unitary.pauli_basis_matrices(3)\n",
    "qml.SpecialUnitary\n"
   ]
  },
  {
   "cell_type": "code",
   "execution_count": 103,
   "metadata": {},
   "outputs": [
    {
     "name": "stdout",
     "output_type": "stream",
     "text": [
      "Ground state energy: -119.70320\n"
     ]
    }
   ],
   "source": [
    "#Stochastic Parameter-Shift Rule\n",
    "\n",
    "num_wires = 6\n",
    "wires = list(range(num_wires))\n",
    "np.random.seed(62213)\n",
    "\n",
    "coefficients = np.random.randn(4**num_wires - 1)\n",
    "# Create the matrices for the entire Pauli basis\n",
    "basis = qml.ops.qubit.special_unitary.pauli_basis_matrices(num_wires)\n",
    "# Construct the Hamiltonian from the normal random coefficients and the basis\n",
    "H_matrix = qml.math.tensordot(coefficients, basis, axes=[[0], [0]])\n",
    "H = qml.Hermitian(H_matrix, wires=wires)\n",
    "# # Compute the ground state energy\n",
    "E_min = min(qml.eigvals(H))\n",
    "print(f\"Ground state energy: {E_min:.5f}\")\n"
   ]
  },
  {
   "cell_type": "code",
   "execution_count": 104,
   "metadata": {},
   "outputs": [
    {
     "name": "stdout",
     "output_type": "stream",
     "text": [
      "[[[[0. 0. 0. 0. 0. 0. 0. 0. 0. 0. 0. 0. 0. 0. 0.]\n",
      "   [0. 0. 0. 0. 0. 0. 0. 0. 0. 0. 0. 0. 0. 0. 0.]]\n",
      "\n",
      "  [[0. 0. 0. 0. 0. 0. 0. 0. 0. 0. 0. 0. 0. 0. 0.]\n",
      "   [0. 0. 0. 0. 0. 0. 0. 0. 0. 0. 0. 0. 0. 0. 0.]]]\n",
      "\n",
      "\n",
      " [[[0. 0. 0. 0. 0. 0. 0. 0. 0. 0. 0. 0. 0. 0. 0.]\n",
      "   [0. 0. 0. 0. 0. 0. 0. 0. 0. 0. 0. 0. 0. 0. 0.]]\n",
      "\n",
      "  [[0. 0. 0. 0. 0. 0. 0. 0. 0. 0. 0. 0. 0. 0. 0.]\n",
      "   [0. 0. 0. 0. 0. 0. 0. 0. 0. 0. 0. 0. 0. 0. 0.]]]]\n"
     ]
    }
   ],
   "source": [
    "loc = 2\n",
    "d = loc**4 - 1  # d = 15 for two-qubit operations\n",
    "dev = qml.device(\"default.qubit\", wires=num_wires)\n",
    "# two blocks with two layers. Each layer contains three operations with d parameters\n",
    "param_shape = (2, 2, 2, d)\n",
    "init_params = np.zeros(param_shape)\n",
    "\n",
    "\n",
    "# def circuit(params, operation=None):\n",
    "#     \"\"\"Apply an operation in a brickwall-like pattern to a qubit register and measure H.\n",
    "#     Parameters are assumed to have the dimensions (number of blocks, number of\n",
    "#     wires per operation, number of operations per layer, and number of parameters\n",
    "#     per operation), in that order.\n",
    "#     \"\"\"\n",
    "#     for params_block in params:\n",
    "#         for i, params_layer in enumerate(params_block):\n",
    "#             for j, params_op in enumerate(params_layer):\n",
    "#                 wires_op = [w % num_wires for w in range(loc * j + i, loc * (j + 1) + i)]\n",
    "#                 operation(params_op, wires_op)\n",
    "#                 print(operation)\n",
    "#     return qml.expval(H)\n",
    "\n",
    "# qnode = qml.QNode(circuit, dev, interface=\"jax\")\n",
    "# print(qml.draw(qnode)(init_params, qml.SpecialUnitary))\n",
    "#print(init_params)\n",
    "# for params_block in init_params:\n",
    "#    # print(params_block)\n",
    "#     for i, params_layer in enumerate(params_block):\n",
    "#         #print(params_layer)\n",
    "#         for j, params_op in enumerate(params_layer):\n",
    "#             print(params_op)\n",
    "# #             wires_op = [w % num_wires for w in range(loc * j + i, loc * (j + 1) + i)]\n",
    "# #             operation(params_op, wires_op)\n",
    "# #qnode\n",
    "print(init_params)\n"
   ]
  },
  {
   "cell_type": "code",
   "execution_count": 105,
   "metadata": {},
   "outputs": [
    {
     "name": "stderr",
     "output_type": "stream",
     "text": [
      "<>:24: SyntaxWarning: invalid escape sequence '\\m'\n",
      "<>:24: SyntaxWarning: invalid escape sequence '\\m'\n",
      "C:\\Users\\DELL\\AppData\\Local\\Temp\\ipykernel_39240\\391022573.py:24: SyntaxWarning: invalid escape sequence '\\m'\n",
      "  (\"$\\mathrm{SU}(N)$ gate\", \"SU(N) gate\"): qml.SpecialUnitary,\n"
     ]
    }
   ],
   "source": [
    "def two_qubit_decomp(params, wires):\n",
    "    \"\"\"Implement an arbitrary SU(4) gate on two qubits\n",
    "    using the decomposition from Theorem 5 in\n",
    "    https://arxiv.org/pdf/quant-ph/0308006.pdf\"\"\"\n",
    "    i, j = wires\n",
    "    # Single U(2) parameterization on both qubits separately\n",
    "    qml.Rot(*params[:3], wires=i)\n",
    "    qml.Rot(*params[3:6], wires=j)\n",
    "    qml.CNOT(wires=[j, i])  # First CNOT\n",
    "    qml.RZ(params[6], wires=i)\n",
    "    qml.RY(params[7], wires=j)\n",
    "    qml.CNOT(wires=[i, j])  # Second CNOT\n",
    "    qml.RY(params[8], wires=j)\n",
    "    qml.CNOT(wires=[j, i])  # Third CNOT\n",
    "    # Single U(2) parameterization on both qubits separately\n",
    "    qml.Rot(*params[9:12], wires=i)\n",
    "    qml.Rot(*params[12:15], wires=j)\n",
    "\n",
    "\n",
    "# The three building blocks on two qubits we will compare are:\n",
    "operations = {\n",
    "    (\"Decomposition\", \"decomposition\"): two_qubit_decomp,\n",
    "    (\"PauliRot sequence\",) * 2: qml.ArbitraryUnitary,\n",
    "    (\"$\\mathrm{SU}(N)$ gate\", \"SU(N) gate\"): qml.SpecialUnitary,\n",
    "}"
   ]
  },
  {
   "cell_type": "code",
   "execution_count": null,
   "metadata": {},
   "outputs": [],
   "source": []
  }
 ],
 "metadata": {
  "kernelspec": {
   "display_name": "qiskit",
   "language": "python",
   "name": "python3"
  },
  "language_info": {
   "codemirror_mode": {
    "name": "ipython",
    "version": 3
   },
   "file_extension": ".py",
   "mimetype": "text/x-python",
   "name": "python",
   "nbconvert_exporter": "python",
   "pygments_lexer": "ipython3",
   "version": "3.12.2"
  }
 },
 "nbformat": 4,
 "nbformat_minor": 2
}
