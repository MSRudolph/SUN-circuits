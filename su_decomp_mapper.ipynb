{
 "cells": [
  {
   "cell_type": "code",
   "execution_count": 44,
   "metadata": {},
   "outputs": [],
   "source": [
    "import pennylane as qml\n",
    "import numpy as np\n",
    "import jax\n",
    "import matplotlib.pyplot as plt\n",
    "from io import StringIO\n",
    "import pickle\n",
    "import os\n",
    "import cirq\n",
    "\n",
    "# Configure JAX\n",
    "jax.config.update(\"jax_enable_x64\", True)\n",
    "jax.config.update(\"jax_platform_name\", \"cpu\")\n",
    "jnp = jax.numpy\n"
   ]
  },
  {
   "cell_type": "code",
   "execution_count": 45,
   "metadata": {},
   "outputs": [],
   "source": [
    "def ensure_directory_exists(directory):\n",
    "    \"\"\"Ensure that the specified directory exists, create it if it does not.\"\"\"\n",
    "    if not os.path.exists(directory):\n",
    "        os.makedirs(directory)\n",
    "\n",
    "def save_params(params, filename):\n",
    "    \"\"\"Save parameters to a file using pickle.\"\"\"\n",
    "    with open(filename, 'wb') as f:\n",
    "        pickle.dump(params, f)\n",
    "\n",
    "def load_params(filename):\n",
    "    \"\"\"Load parameters from a file using pickle.\"\"\"\n",
    "    with open(filename, 'rb') as f:\n",
    "        return pickle.load(f)\n",
    "\n"
   ]
  },
  {
   "cell_type": "code",
   "execution_count": 46,
   "metadata": {},
   "outputs": [],
   "source": [
    "def get_initial_params(params_file):\n",
    "    \"\"\"Get initial parameters from the file if it exists, otherwise generate new ones.\"\"\"\n",
    "    if os.path.exists(params_file):\n",
    "        # Load parameters if they exist\n",
    "        return load_params(params_file)\n",
    "    else:\n",
    "        # Generate random parameters and save them\n",
    "        init_params = jnp.array(np.random.randn(15))\n",
    "        save_params(init_params, params_file)\n",
    "        return init_params\n"
   ]
  },
  {
   "cell_type": "code",
   "execution_count": 47,
   "metadata": {},
   "outputs": [],
   "source": [
    "def create_matrix(params, num_wires):\n",
    "    \"\"\"Create a SU(4) unitary matrix from the given parameters.\"\"\"\n",
    "    return qml.SpecialUnitary.compute_matrix(theta = params, num_wires=num_wires)\n",
    "\n"
   ]
  },
  {
   "cell_type": "code",
   "execution_count": 48,
   "metadata": {},
   "outputs": [],
   "source": [
    "def perform_kak_decomposition(U):\n",
    "    \"\"\"Perform the KAK decomposition on a unitary matrix and return the parameters.\"\"\"\n",
    "    qubits = [cirq.LineQubit(0), cirq.LineQubit(1)]\n",
    "    operation = cirq.MatrixGate(U).on(*qubits)\n",
    "    kak_decomp = cirq.kak_decomposition(operation)\n",
    "    a0, a1 = kak_decomp.single_qubit_operations_before\n",
    "    b0, b1 = kak_decomp.single_qubit_operations_after\n",
    "    A = kak_decomp.interaction_coefficients\n",
    "    gamma = kak_decomp.global_phase\n",
    "    K1 = cirq.MatrixGate(a0 @ a1)\n",
    "    K2 = cirq.MatrixGate(b0 @ b1)\n",
    "    \n",
    "    return K1, A, K2, gamma\n"
   ]
  },
  {
   "cell_type": "code",
   "execution_count": 49,
   "metadata": {},
   "outputs": [
    {
     "name": "stdout",
     "output_type": "stream",
     "text": [
      "KAK Decomposition Parameters:\n",
      "A: [[-0.537-0.275j  0.364-0.709j]\n",
      " [-0.364-0.709j -0.537+0.275j]]\n",
      "B: (0.6260655968986388, 0.3961425162467157, 0.3252429160052595)\n",
      "C: [[-0.38 -0.671j -0.167-0.614j]\n",
      " [ 0.167-0.614j -0.38 +0.671j]]\n",
      "Gamma: (3.8285686989269494e-16+1j)\n"
     ]
    }
   ],
   "source": [
    "def main():\n",
    "    directory = 'data/mapper/'\n",
    "    params_file = os.path.join(directory, 'init_params.pkl')\n",
    "\n",
    "    # Ensure the directory exists\n",
    "    ensure_directory_exists(directory)\n",
    "\n",
    "    # Get the initial parameters\n",
    "    init_params = get_initial_params(params_file)\n",
    "\n",
    "    # Create the SU(4) unitary matrix\n",
    "    unitary = create_matrix(init_params, 2)\n",
    "\n",
    "    # Perform the KAK decomposition\n",
    "    A, B, C, gamma = perform_kak_decomposition(unitary)\n",
    "\n",
    "    print(\"KAK Decomposition Parameters:\")\n",
    "    print(\"A:\", A)\n",
    "    print(\"B:\", B)\n",
    "    print(\"C:\", C)\n",
    "    print(\"Gamma:\", gamma)\n",
    "\n",
    "if __name__ == \"__main__\":\n",
    "    main()\n"
   ]
  }
 ],
 "metadata": {
  "kernelspec": {
   "display_name": "pennylane",
   "language": "python",
   "name": "python3"
  },
  "language_info": {
   "codemirror_mode": {
    "name": "ipython",
    "version": 3
   },
   "file_extension": ".py",
   "mimetype": "text/x-python",
   "name": "python",
   "nbconvert_exporter": "python",
   "pygments_lexer": "ipython3",
   "version": "3.12.3"
  }
 },
 "nbformat": 4,
 "nbformat_minor": 2
}
