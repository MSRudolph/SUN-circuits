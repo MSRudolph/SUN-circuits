{
 "cells": [
  {
   "cell_type": "code",
   "execution_count": 491,
   "metadata": {},
   "outputs": [],
   "source": [
    "import pennylane as qml\n",
    "import numpy as np\n",
    "import jax\n",
    "import matplotlib.pyplot as plt\n",
    "from io import StringIO\n",
    "import os\n",
    "import cirq\n",
    "from cirq import KakDecomposition\n",
    "from typing import Tuple\n",
    "import json\n",
    "# Configure JAX\n",
    "jax.config.update(\"jax_enable_x64\", True)\n",
    "jax.config.update(\"jax_platform_name\", \"cpu\")\n",
    "jnp = jax.numpy\n"
   ]
  },
  {
   "cell_type": "code",
   "execution_count": 492,
   "metadata": {},
   "outputs": [],
   "source": [
    "save = False"
   ]
  },
  {
   "cell_type": "code",
   "execution_count": 493,
   "metadata": {},
   "outputs": [],
   "source": [
    "def ensure_directory_exists(directory):\n",
    "    \"\"\"Ensure that the specified directory exists, create it if it does not.\"\"\"\n",
    "    if not os.path.exists(directory):\n",
    "        os.makedirs(directory)\n",
    "\n",
    "def save_params(params, filename):\n",
    "    \"\"\"Save parameters to a file using JSON.\"\"\"\n",
    "    # Convert NumPy arrays to lists\n",
    "    params_serializable = np.array(params).tolist()\n",
    "    with open(filename, 'w') as f:\n",
    "        json.dump(params_serializable, f)\n",
    "\n",
    "def load_params(filename):\n",
    "    \"\"\"Load parameters from a file using JSON.\"\"\"\n",
    "    with open(filename, 'r') as f:\n",
    "        params_serializable = json.load(f)\n",
    "    # Convert lists back to NumPy arrays\n",
    "    return jnp.array(params_serializable)\n",
    "\n"
   ]
  },
  {
   "cell_type": "code",
   "execution_count": 494,
   "metadata": {},
   "outputs": [],
   "source": [
    "def get_initial_params(params_file):\n",
    "    \"\"\"Get initial parameters from the file if it exists, otherwise generate new ones.\"\"\"\n",
    "    if save and os.path.exists(params_file):\n",
    "        # Load parameters if they exist\n",
    "        return load_params(params_file)\n",
    "    else:\n",
    "        # Generate random parameters and save them\n",
    "        init_params = jnp.array(np.random.randn(15))\n",
    "        if save:\n",
    "            save_params(init_params, params_file)\n",
    "        return init_params\n"
   ]
  },
  {
   "cell_type": "code",
   "execution_count": 495,
   "metadata": {},
   "outputs": [],
   "source": [
    "def create_matrix(params, num_wires):\n",
    "    \"\"\"Create a SU(4) unitary matrix from the given parameters.\"\"\"\n",
    "    return qml.SpecialUnitary.compute_matrix(theta = params, num_wires=num_wires)\n",
    "\n"
   ]
  },
  {
   "cell_type": "code",
   "execution_count": 496,
   "metadata": {},
   "outputs": [],
   "source": [
    "def perform_kak_decomposition(gate, nqubits=2): \n",
    "    \n",
    "    # Prepare Cirq circuit\n",
    "    qubits = cirq.LineQubit.range(nqubits) \n",
    "\n",
    "    # Get the indices of the target gate\n",
    "    # targets = gate.get_target_index_list() \n",
    "\n",
    "    cirq_gates = []\n",
    "    \n",
    "    gate = cirq.MatrixGate(gate).on(*qubits)\n",
    "\n",
    "    # Perform KAK decomposition using Cirq\n",
    "    kak_operations = cirq.kak_decomposition(gate) \n",
    "    \n",
    "    # Get the tuple of coefficients(X,Y,Z)\n",
    "    coef = kak_operations.interaction_coefficients\n",
    "    \n",
    "    # Get the tuple of gates before and after KAK decomposition\n",
    "    initial_operations = kak_operations.single_qubit_operations_before \n",
    "    final_operations = kak_operations.single_qubit_operations_after \n",
    "\n",
    "    # Add initial operations to the list of Cirq gates\n",
    "    cirq_gates.append(cirq.MatrixGate(initial_operations[0])(qubits[0]))\n",
    "    cirq_gates.append(cirq.MatrixGate(initial_operations[1])(qubits[1]))\n",
    "    \n",
    "    # Add middle operations (XX+YY+ZZ) to the list of Cirq gates\n",
    "    cirq_gates.append(coef[0])\n",
    "    cirq_gates.append(coef[1])\n",
    "    cirq_gates.append(coef[2])\n",
    "    \n",
    "    # Add final operations to the list of Cirq gates\n",
    "    cirq_gates.append(cirq.MatrixGate(final_operations[0])(qubits[0]))\n",
    "    cirq_gates.append(cirq.MatrixGate(final_operations[1])(qubits[1]))\n",
    "\n",
    "    return cirq_gates"
   ]
  },
  {
   "cell_type": "code",
   "execution_count": 497,
   "metadata": {},
   "outputs": [],
   "source": [
    "# def get_kak_vector(U):\n",
    "#    qubits = [cirq.LineQubit(0), cirq.LineQubit(1)]\n",
    "#    cirq.MatrixGate(U).on(*qubits)\n",
    "#    return cirq.kak_vector(U)"
   ]
  },
  {
   "cell_type": "code",
   "execution_count": 498,
   "metadata": {},
   "outputs": [],
   "source": [
    "def euler_decomposition(cirq_gate, nqubits=2):\n",
    "    \"\"\"\n",
    "    Decompose a given single qubit cirq gate into a list of gates \n",
    "    using euler decomposition.\n",
    "    \n",
    "    Args:\n",
    "        cirq_gate (cirq.ops.gate_operation.GateOperation) : Single qubit cirq gate to decompose\n",
    "        nqubits (int) : Number of qubits in the quantum circuit\n",
    "\n",
    "    Returns:\n",
    "        cirq_gates (list) : List of decomposed Cirq gates\n",
    "    \"\"\"\n",
    "    cirq_gates = []\n",
    "    \n",
    "    # Create a cirq circuit and append the gate\n",
    "    qc = cirq.Circuit()\n",
    "    qc.append(cirq_gate)\n",
    "    \n",
    "    # Get the unitary matrix of the input gate\n",
    "    unitary_matrix = qc.unitary()\n",
    "    \n",
    "    # Prepare Cirq circuit\n",
    "    circuit = cirq.LineQubit.range(nqubits)\n",
    "\n",
    "    # Get the target qubit\n",
    "    target_qubit = int(cirq_gate.qubits[0])\n",
    "    \n",
    "    # Perform Euler decomposition\n",
    "    decomposition_angles = cirq.deconstruct_single_qubit_matrix_into_angles(unitary_matrix)\n",
    "    \n",
    "    # Add decomposed gates to the list\n",
    "    cirq_gates.append(decomposition_angles[0])\n",
    "    cirq_gates.append(decomposition_angles[1])\n",
    "    cirq_gates.append(decomposition_angles[2])\n",
    "    \n",
    "    return cirq_gates"
   ]
  },
  {
   "cell_type": "code",
   "execution_count": 499,
   "metadata": {},
   "outputs": [],
   "source": [
    "init_params1 = []\n",
    "init_params2 = []\n",
    "def run():\n",
    "    directory = 'data/mapper/'\n",
    "    params_file = os.path.join(directory, 'init_params.json')\n",
    "    # Ensure the directory exists\n",
    "    ensure_directory_exists(directory)\n",
    "\n",
    "    # Get the initial parameters\n",
    "    init_params1 = get_initial_params(params_file)\n",
    "    # print(init_params1)\n",
    "    # Create the SU(4) unitary matrix\n",
    "    unitary = create_matrix(init_params1, 2)\n",
    "    # Perform the KAK decomposition\n",
    "    kak_operations = perform_kak_decomposition(unitary)\n",
    "    # Perform Euler decomposition for initial and final operations separately\n",
    "    initial_op0 = euler_decomposition(kak_operations[0])\n",
    "    initial_op1 = euler_decomposition(kak_operations[1])\n",
    "    final_op0 = euler_decomposition(kak_operations[5])\n",
    "    final_op1 = euler_decomposition(kak_operations[6])\n",
    "    #init_params2 = initial_op0+initial_op1+kak_operations[2:5]+final_op0+final_op1\n",
    "    init_params2 = initial_op1+initial_op0+kak_operations[2:5][::-1]+final_op1+final_op0\n",
    "    # print(\"params\", init_params2 )\n",
    "    return init_params1, init_params2\n",
    "    #print(\"kak vector\", get_kak_vector(unitary))\n",
    "    # def __str__(self) -> str:\n",
    "    #     xx = self.interaction_coefficients[0] * 4 / np.pi\n",
    "    #     yy = self.interaction_coefficients[1] * 4 / np.pi\n",
    "    #     zz = self.interaction_coefficients[2] * 4 / np.pi\n",
    "    #     before0 = axis_angle(self.single_qubit_operations_before[0])\n",
    "    #     before1 = axis_angle(self.single_qubit_operations_before[1])\n",
    "    #     after0 = axis_angle(self.single_qubit_operations_after[0])\n",
    "    #     after1 = axis_angle(self.single_qubit_operations_after[1])\n",
    "    #     return (\n",
    "    #         'KAK {\\n'\n",
    "    #         f'    xyz*(4/π): {xx:.3g}, {yy:.3g}, {zz:.3g}\\n'\n",
    "    #         f'    before: ({before0}) ⊗ ({before1})\\n'\n",
    "    #         f'    after: ({after0}) ⊗ ({after1})\\n'\n",
    "    #         '}'\n",
    "    #     )\n",
    "\n",
    "    # before0 = cirq.axis_angle(kak_decomp.single_qubit_operations_before[0])\n",
    "    # before1 = cirq.axis_angle(kak_decomp.single_qubit_operations_before[1])\n",
    "    # after0 = cirq.axis_angle(kak_decomp.single_qubit_operations_after[0])\n",
    "    # after1 = cirq.axis_angle(kak_decomp.single_qubit_operations_after[1])\n",
    "    # xx = kak_decomp.interaction_coefficients[0] * 4 / np.pi\n",
    "    # yy = kak_decomp.interaction_coefficients[1] * 4 / np.pi\n",
    "    # zz = kak_decomp.interaction_coefficients[2] * 4 / np.pi\n",
    "    # print(\"A0\", type(kak_decomp.single_qubit_operations_before[0]))\n",
    "    # print(\"Euler Decomposition\", euler_decomposition(cirq.MatrixGate(kak_decomp.single_qubit_operations_before[0]), 2))\n",
    "    # print(\"KAK Decomposition Parameters:\")\n",
    "    # print(f\"{before0}, {before1}, {xx}, {yy}, {zz}, {after0}, {after1}\")\n",
    "    # # print(\"a0:\", a0)\n",
    "    # print(\"a1:\", a1)\n",
    "    # print(\"B:\", B)\n",
    "    # print(\"b0:\", b0)\n",
    "    # print(\"b1:\", b1)\n",
    "    # print(\"Gamma:\", gamma)\n",
    "\n"
   ]
  },
  {
   "cell_type": "code",
   "execution_count": 500,
   "metadata": {},
   "outputs": [],
   "source": [
    "from typing import List, Protocol, Callable, Tuple\n",
    "from typing import List, Tuple, Callable\n",
    "\n",
    "\n",
    "# Configure JAX\n",
    "jax.config.update(\"jax_enable_x64\", True)\n",
    "jax.config.update(\"jax_platform_name\", \"cpu\")\n",
    "jnp = jax.numpy\n",
    "\n",
    "def create_transverse_hamiltonian(num_wires: int, J: float = 1.0, h: float = 0.5):\n",
    "    coeffs = []\n",
    "    obs = []\n",
    "\n",
    "    # ZZ interactions\n",
    "    for i in range(num_wires):\n",
    "        for j in range(i + 1, num_wires):\n",
    "            coeffs.append(-J)\n",
    "            obs.append(qml.PauliZ(i) @ qml.PauliZ(j))\n",
    "\n",
    "    # X interactions\n",
    "    for i in range(num_wires):\n",
    "        coeffs.append(-h)\n",
    "        obs.append(qml.PauliX(i))\n",
    "\n",
    "    hamiltonian = qml.Hamiltonian(coeffs, obs)\n",
    "    e_min = min(qml.eigvals(hamiltonian))\n",
    "    e_max = max(qml.eigvals(hamiltonian))\n",
    "    # hamiltonian = qml.SparseHamiltonian(hamiltonian.sparse_matrix(), range(num_wires))\n",
    "    return hamiltonian, e_min, e_max\n",
    "\n",
    "def create_heisenberg_hamiltonian(num_wires: int, J: float = 1.0):\n",
    "    coeffs = []\n",
    "    obs = []\n",
    "\n",
    "    # Heisenberg interactions (XX + YY + ZZ)\n",
    "    for i in range(num_wires):\n",
    "        for j in range(i + 1, num_wires):\n",
    "            coeffs.extend([-J, -J, -J])\n",
    "            obs.extend([qml.PauliX(i) @ qml.PauliX(j), qml.PauliY(i) @ qml.PauliY(j), qml.PauliZ(i) @ qml.PauliZ(j)])\n",
    "\n",
    "    hamiltonian = qml.Hamiltonian(coeffs, obs)\n",
    "    e_min = min(qml.eigvals(hamiltonian))\n",
    "    e_max = max(qml.eigvals(hamiltonian))\n",
    "    # hamiltonian = qml.SparseHamiltonian(hamiltonian.sparse_matrix(), range(num_wires))\n",
    "    return hamiltonian, e_min, e_max\n",
    "\n",
    "def create_longitudinal_ising_hamiltonian(num_wires: int, J: float = 1.0, hx: float = 0.5, hz: float = 0.5):\n",
    "    coeffs = []\n",
    "    obs = []\n",
    "\n",
    "    # ZZ interactions\n",
    "    for i in range(num_wires):\n",
    "        for j in range(i + 1, num_wires):\n",
    "            coeffs.append(-J)\n",
    "            obs.append(qml.PauliZ(i) @ qml.PauliZ(j))\n",
    "\n",
    "    # X interactions (transverse field)\n",
    "    for i in range(num_wires):\n",
    "        coeffs.append(-hx)\n",
    "        obs.append(qml.PauliX(i))\n",
    "    \n",
    "    # Z interactions (longitudinal field)\n",
    "    for i in range(num_wires):\n",
    "        coeffs.append(-hz)\n",
    "        obs.append(qml.PauliZ(i))\n",
    "\n",
    "    hamiltonian = qml.Hamiltonian(coeffs, obs)\n",
    "    e_min = min(qml.eigvals(hamiltonian))\n",
    "    e_max = max(qml.eigvals(hamiltonian))\n",
    "    # hamiltonian = qml.SparseHamiltonian(hamiltonian.sparse_matrix(), range(num_wires))\n",
    "\n",
    "    return hamiltonian, e_min, e_max"
   ]
  },
  {
   "cell_type": "code",
   "execution_count": 501,
   "metadata": {},
   "outputs": [],
   "source": [
    "\n",
    "class Operation(Protocol):\n",
    "    def apply(self, params: np.ndarray, wires: List[int]) -> None:\n",
    "        ...\n",
    "\n",
    "class TwoQubitDecomp:\n",
    "    def apply(self, params: np.ndarray, wires: List[int]) -> None:\n",
    "        \"\"\"Implement an arbitrary SU(4) gate on two qubits\n",
    "        using the decomposition from Theorem 5 in\n",
    "        https://arxiv.org/pdf/quant-ph/0308006.pdf\"\"\"\n",
    "        i, j = wires\n",
    "        qml.Rot(*params[:3], wires=i)\n",
    "        qml.Rot(*params[3:6], wires=j)\n",
    "        qml.CNOT(wires=[j, i])\n",
    "        qml.RZ(params[6], wires=i)\n",
    "        qml.RY(params[7], wires=j)\n",
    "        qml.CNOT(wires=[i, j])\n",
    "        qml.RY(params[8], wires=j)\n",
    "        qml.CNOT(wires=[j, i])\n",
    "        qml.Rot(*params[9:12], wires=i)\n",
    "        qml.Rot(*params[12:15], wires=j)\n",
    "\n",
    "class PauliRotSequence:\n",
    "    def apply(self, params: np.ndarray, wires: List[int]) -> None:\n",
    "        qml.ArbitraryUnitary(params, wires=wires)\n",
    "\n",
    "class SpecialUnitaryGate:\n",
    "    def apply(self, params: np.ndarray, wires: List[int]) -> None:\n",
    "        qml.SpecialUnitary(params, wires=wires)\n",
    "\n",
    "# Initialize parameters\n",
    "num_wires = 6\n",
    "loc = 2\n",
    "learning_rate = 1e-4\n",
    "num_steps = 1000\n",
    "rebuild = False\n",
    "# init_params = jax.numpy.array(init_params)\n",
    "# # Define a function that returns a default value for the innermost dictionary\n",
    "# def nested_dict():\n",
    "#     return defaultdict(lambda: defaultdict(lambda: [None, None]))\n",
    "\n",
    "# Initialize the top-level defaultdict\n",
    "energies = {}\n",
    "\n",
    "dev = qml.device(\"default.qubit\", wires=num_wires)\n",
    "\n",
    "def circuit(params, operation: Operation, hamiltonian):\n",
    "        operation.apply(params, [0,1])\n",
    "        return qml.expval(hamiltonian)\n",
    "\n",
    "\n",
    "#  circuitLauncher\n",
    "def launch_circuit(hamiltonian_func: Callable[[], Tuple[qml.Hamiltonian, float]]):\n",
    "    hamiltonian, e_min, e_max = hamiltonian_func()\n",
    "    def circuit_wrapped(params, operation: Operation):\n",
    "        return circuit(params, operation, hamiltonian)\n",
    "\n",
    "    qnode = qml.QNode(circuit_wrapped, dev, interface=\"jax\")\n",
    "    return qnode, e_min, e_max"
   ]
  },
  {
   "cell_type": "code",
   "execution_count": 502,
   "metadata": {},
   "outputs": [
    {
     "name": "stderr",
     "output_type": "stream",
     "text": [
      "/opt/homebrew/anaconda3/envs/pennylane/lib/python3.12/site-packages/pennylane/ops/functions/eigvals.py:120: UserWarning: For Hamiltonians, the eigenvalues will be computed numerically. This may be computationally intensive for a large number of wires. Consider using a sparse representation of the Hamiltonian with qml.SparseHamiltonian.\n",
      "  warnings.warn(\n",
      "/opt/homebrew/anaconda3/envs/pennylane/lib/python3.12/site-packages/pennylane/ops/functions/eigvals.py:120: UserWarning: For Hamiltonians, the eigenvalues will be computed numerically. This may be computationally intensive for a large number of wires. Consider using a sparse representation of the Hamiltonian with qml.SparseHamiltonian.\n",
      "  warnings.warn(\n",
      "/opt/homebrew/anaconda3/envs/pennylane/lib/python3.12/site-packages/pennylane/ops/functions/eigvals.py:120: UserWarning: For Hamiltonians, the eigenvalues will be computed numerically. This may be computationally intensive for a large number of wires. Consider using a sparse representation of the Hamiltonian with qml.SparseHamiltonian.\n",
      "  warnings.warn(\n",
      "/opt/homebrew/anaconda3/envs/pennylane/lib/python3.12/site-packages/pennylane/ops/functions/eigvals.py:120: UserWarning: For Hamiltonians, the eigenvalues will be computed numerically. This may be computationally intensive for a large number of wires. Consider using a sparse representation of the Hamiltonian with qml.SparseHamiltonian.\n",
      "  warnings.warn(\n",
      "/opt/homebrew/anaconda3/envs/pennylane/lib/python3.12/site-packages/pennylane/ops/functions/eigvals.py:120: UserWarning: For Hamiltonians, the eigenvalues will be computed numerically. This may be computationally intensive for a large number of wires. Consider using a sparse representation of the Hamiltonian with qml.SparseHamiltonian.\n",
      "  warnings.warn(\n",
      "/opt/homebrew/anaconda3/envs/pennylane/lib/python3.12/site-packages/pennylane/ops/functions/eigvals.py:120: UserWarning: For Hamiltonians, the eigenvalues will be computed numerically. This may be computationally intensive for a large number of wires. Consider using a sparse representation of the Hamiltonian with qml.SparseHamiltonian.\n",
      "  warnings.warn(\n"
     ]
    },
    {
     "name": "stdout",
     "output_type": "stream",
     "text": [
      "-1.2355539405487974\n",
      "2.5137809567412903\n",
      "-1.5055398552836676\n",
      "-4.972243957268684\n",
      "-2.1536304506312236\n",
      "-2.3716907824523377\n"
     ]
    },
    {
     "name": "stderr",
     "output_type": "stream",
     "text": [
      "/opt/homebrew/anaconda3/envs/pennylane/lib/python3.12/site-packages/pennylane/ops/functions/eigvals.py:120: UserWarning: For Hamiltonians, the eigenvalues will be computed numerically. This may be computationally intensive for a large number of wires. Consider using a sparse representation of the Hamiltonian with qml.SparseHamiltonian.\n",
      "  warnings.warn(\n",
      "/opt/homebrew/anaconda3/envs/pennylane/lib/python3.12/site-packages/pennylane/ops/functions/eigvals.py:120: UserWarning: For Hamiltonians, the eigenvalues will be computed numerically. This may be computationally intensive for a large number of wires. Consider using a sparse representation of the Hamiltonian with qml.SparseHamiltonian.\n",
      "  warnings.warn(\n",
      "/opt/homebrew/anaconda3/envs/pennylane/lib/python3.12/site-packages/pennylane/ops/functions/eigvals.py:120: UserWarning: For Hamiltonians, the eigenvalues will be computed numerically. This may be computationally intensive for a large number of wires. Consider using a sparse representation of the Hamiltonian with qml.SparseHamiltonian.\n",
      "  warnings.warn(\n",
      "/opt/homebrew/anaconda3/envs/pennylane/lib/python3.12/site-packages/pennylane/ops/functions/eigvals.py:120: UserWarning: For Hamiltonians, the eigenvalues will be computed numerically. This may be computationally intensive for a large number of wires. Consider using a sparse representation of the Hamiltonian with qml.SparseHamiltonian.\n",
      "  warnings.warn(\n",
      "/opt/homebrew/anaconda3/envs/pennylane/lib/python3.12/site-packages/pennylane/ops/functions/eigvals.py:120: UserWarning: For Hamiltonians, the eigenvalues will be computed numerically. This may be computationally intensive for a large number of wires. Consider using a sparse representation of the Hamiltonian with qml.SparseHamiltonian.\n",
      "  warnings.warn(\n",
      "/opt/homebrew/anaconda3/envs/pennylane/lib/python3.12/site-packages/pennylane/ops/functions/eigvals.py:120: UserWarning: For Hamiltonians, the eigenvalues will be computed numerically. This may be computationally intensive for a large number of wires. Consider using a sparse representation of the Hamiltonian with qml.SparseHamiltonian.\n",
      "  warnings.warn(\n"
     ]
    },
    {
     "name": "stdout",
     "output_type": "stream",
     "text": [
      "-1.144242775546226\n",
      "0.19462398765781863\n",
      "-6.828531760166081\n",
      "1.5817291041991073\n",
      "-3.0527038044659163\n",
      "-1.0169017887225635\n"
     ]
    },
    {
     "name": "stderr",
     "output_type": "stream",
     "text": [
      "/opt/homebrew/anaconda3/envs/pennylane/lib/python3.12/site-packages/pennylane/ops/functions/eigvals.py:120: UserWarning: For Hamiltonians, the eigenvalues will be computed numerically. This may be computationally intensive for a large number of wires. Consider using a sparse representation of the Hamiltonian with qml.SparseHamiltonian.\n",
      "  warnings.warn(\n",
      "/opt/homebrew/anaconda3/envs/pennylane/lib/python3.12/site-packages/pennylane/ops/functions/eigvals.py:120: UserWarning: For Hamiltonians, the eigenvalues will be computed numerically. This may be computationally intensive for a large number of wires. Consider using a sparse representation of the Hamiltonian with qml.SparseHamiltonian.\n",
      "  warnings.warn(\n",
      "/opt/homebrew/anaconda3/envs/pennylane/lib/python3.12/site-packages/pennylane/ops/functions/eigvals.py:120: UserWarning: For Hamiltonians, the eigenvalues will be computed numerically. This may be computationally intensive for a large number of wires. Consider using a sparse representation of the Hamiltonian with qml.SparseHamiltonian.\n",
      "  warnings.warn(\n",
      "/opt/homebrew/anaconda3/envs/pennylane/lib/python3.12/site-packages/pennylane/ops/functions/eigvals.py:120: UserWarning: For Hamiltonians, the eigenvalues will be computed numerically. This may be computationally intensive for a large number of wires. Consider using a sparse representation of the Hamiltonian with qml.SparseHamiltonian.\n",
      "  warnings.warn(\n",
      "/opt/homebrew/anaconda3/envs/pennylane/lib/python3.12/site-packages/pennylane/ops/functions/eigvals.py:120: UserWarning: For Hamiltonians, the eigenvalues will be computed numerically. This may be computationally intensive for a large number of wires. Consider using a sparse representation of the Hamiltonian with qml.SparseHamiltonian.\n",
      "  warnings.warn(\n",
      "/opt/homebrew/anaconda3/envs/pennylane/lib/python3.12/site-packages/pennylane/ops/functions/eigvals.py:120: UserWarning: For Hamiltonians, the eigenvalues will be computed numerically. This may be computationally intensive for a large number of wires. Consider using a sparse representation of the Hamiltonian with qml.SparseHamiltonian.\n",
      "  warnings.warn(\n",
      "/opt/homebrew/anaconda3/envs/pennylane/lib/python3.12/site-packages/pennylane/ops/functions/eigvals.py:120: UserWarning: For Hamiltonians, the eigenvalues will be computed numerically. This may be computationally intensive for a large number of wires. Consider using a sparse representation of the Hamiltonian with qml.SparseHamiltonian.\n",
      "  warnings.warn(\n"
     ]
    },
    {
     "name": "stdout",
     "output_type": "stream",
     "text": [
      "-6.294829560769891\n",
      "0.0139128119750076\n",
      "-6.204251133770527\n",
      "-0.6331656240076782\n",
      "-2.8812094859039927\n",
      "-0.2055665324207876\n",
      "-4.088249758339249\n"
     ]
    },
    {
     "name": "stderr",
     "output_type": "stream",
     "text": [
      "/opt/homebrew/anaconda3/envs/pennylane/lib/python3.12/site-packages/pennylane/ops/functions/eigvals.py:120: UserWarning: For Hamiltonians, the eigenvalues will be computed numerically. This may be computationally intensive for a large number of wires. Consider using a sparse representation of the Hamiltonian with qml.SparseHamiltonian.\n",
      "  warnings.warn(\n",
      "/opt/homebrew/anaconda3/envs/pennylane/lib/python3.12/site-packages/pennylane/ops/functions/eigvals.py:120: UserWarning: For Hamiltonians, the eigenvalues will be computed numerically. This may be computationally intensive for a large number of wires. Consider using a sparse representation of the Hamiltonian with qml.SparseHamiltonian.\n",
      "  warnings.warn(\n",
      "/opt/homebrew/anaconda3/envs/pennylane/lib/python3.12/site-packages/pennylane/ops/functions/eigvals.py:120: UserWarning: For Hamiltonians, the eigenvalues will be computed numerically. This may be computationally intensive for a large number of wires. Consider using a sparse representation of the Hamiltonian with qml.SparseHamiltonian.\n",
      "  warnings.warn(\n",
      "/opt/homebrew/anaconda3/envs/pennylane/lib/python3.12/site-packages/pennylane/ops/functions/eigvals.py:120: UserWarning: For Hamiltonians, the eigenvalues will be computed numerically. This may be computationally intensive for a large number of wires. Consider using a sparse representation of the Hamiltonian with qml.SparseHamiltonian.\n",
      "  warnings.warn(\n",
      "/opt/homebrew/anaconda3/envs/pennylane/lib/python3.12/site-packages/pennylane/ops/functions/eigvals.py:120: UserWarning: For Hamiltonians, the eigenvalues will be computed numerically. This may be computationally intensive for a large number of wires. Consider using a sparse representation of the Hamiltonian with qml.SparseHamiltonian.\n",
      "  warnings.warn(\n",
      "/opt/homebrew/anaconda3/envs/pennylane/lib/python3.12/site-packages/pennylane/ops/functions/eigvals.py:120: UserWarning: For Hamiltonians, the eigenvalues will be computed numerically. This may be computationally intensive for a large number of wires. Consider using a sparse representation of the Hamiltonian with qml.SparseHamiltonian.\n",
      "  warnings.warn(\n",
      "/opt/homebrew/anaconda3/envs/pennylane/lib/python3.12/site-packages/pennylane/ops/functions/eigvals.py:120: UserWarning: For Hamiltonians, the eigenvalues will be computed numerically. This may be computationally intensive for a large number of wires. Consider using a sparse representation of the Hamiltonian with qml.SparseHamiltonian.\n",
      "  warnings.warn(\n"
     ]
    },
    {
     "name": "stdout",
     "output_type": "stream",
     "text": [
      "2.7759040113231146\n",
      "1.9787235253690252\n",
      "-0.4550606071697034\n",
      "3.616353340308947\n",
      "5.533401545161102\n",
      "2.493157499927369\n",
      "5.573012261022245\n",
      "1.1841477412237227\n",
      "3.274290446060478\n",
      "2.1026864169866375\n",
      "-4.116421009270741\n"
     ]
    },
    {
     "name": "stderr",
     "output_type": "stream",
     "text": [
      "/opt/homebrew/anaconda3/envs/pennylane/lib/python3.12/site-packages/pennylane/ops/functions/eigvals.py:120: UserWarning: For Hamiltonians, the eigenvalues will be computed numerically. This may be computationally intensive for a large number of wires. Consider using a sparse representation of the Hamiltonian with qml.SparseHamiltonian.\n",
      "  warnings.warn(\n",
      "/opt/homebrew/anaconda3/envs/pennylane/lib/python3.12/site-packages/pennylane/ops/functions/eigvals.py:120: UserWarning: For Hamiltonians, the eigenvalues will be computed numerically. This may be computationally intensive for a large number of wires. Consider using a sparse representation of the Hamiltonian with qml.SparseHamiltonian.\n",
      "  warnings.warn(\n",
      "/opt/homebrew/anaconda3/envs/pennylane/lib/python3.12/site-packages/pennylane/ops/functions/eigvals.py:120: UserWarning: For Hamiltonians, the eigenvalues will be computed numerically. This may be computationally intensive for a large number of wires. Consider using a sparse representation of the Hamiltonian with qml.SparseHamiltonian.\n",
      "  warnings.warn(\n",
      "/opt/homebrew/anaconda3/envs/pennylane/lib/python3.12/site-packages/pennylane/ops/functions/eigvals.py:120: UserWarning: For Hamiltonians, the eigenvalues will be computed numerically. This may be computationally intensive for a large number of wires. Consider using a sparse representation of the Hamiltonian with qml.SparseHamiltonian.\n",
      "  warnings.warn(\n",
      "/opt/homebrew/anaconda3/envs/pennylane/lib/python3.12/site-packages/pennylane/ops/functions/eigvals.py:120: UserWarning: For Hamiltonians, the eigenvalues will be computed numerically. This may be computationally intensive for a large number of wires. Consider using a sparse representation of the Hamiltonian with qml.SparseHamiltonian.\n",
      "  warnings.warn(\n",
      "/opt/homebrew/anaconda3/envs/pennylane/lib/python3.12/site-packages/pennylane/ops/functions/eigvals.py:120: UserWarning: For Hamiltonians, the eigenvalues will be computed numerically. This may be computationally intensive for a large number of wires. Consider using a sparse representation of the Hamiltonian with qml.SparseHamiltonian.\n",
      "  warnings.warn(\n"
     ]
    },
    {
     "name": "stdout",
     "output_type": "stream",
     "text": [
      "8.294444766195845\n",
      "0.9983495100823063\n",
      "-4.034506353245412\n",
      "-3.171967652863419\n",
      "-2.2339314421122527\n"
     ]
    },
    {
     "name": "stderr",
     "output_type": "stream",
     "text": [
      "/opt/homebrew/anaconda3/envs/pennylane/lib/python3.12/site-packages/pennylane/ops/functions/eigvals.py:120: UserWarning: For Hamiltonians, the eigenvalues will be computed numerically. This may be computationally intensive for a large number of wires. Consider using a sparse representation of the Hamiltonian with qml.SparseHamiltonian.\n",
      "  warnings.warn(\n",
      "/opt/homebrew/anaconda3/envs/pennylane/lib/python3.12/site-packages/pennylane/ops/functions/eigvals.py:120: UserWarning: For Hamiltonians, the eigenvalues will be computed numerically. This may be computationally intensive for a large number of wires. Consider using a sparse representation of the Hamiltonian with qml.SparseHamiltonian.\n",
      "  warnings.warn(\n",
      "/opt/homebrew/anaconda3/envs/pennylane/lib/python3.12/site-packages/pennylane/ops/functions/eigvals.py:120: UserWarning: For Hamiltonians, the eigenvalues will be computed numerically. This may be computationally intensive for a large number of wires. Consider using a sparse representation of the Hamiltonian with qml.SparseHamiltonian.\n",
      "  warnings.warn(\n",
      "/opt/homebrew/anaconda3/envs/pennylane/lib/python3.12/site-packages/pennylane/ops/functions/eigvals.py:120: UserWarning: For Hamiltonians, the eigenvalues will be computed numerically. This may be computationally intensive for a large number of wires. Consider using a sparse representation of the Hamiltonian with qml.SparseHamiltonian.\n",
      "  warnings.warn(\n",
      "/opt/homebrew/anaconda3/envs/pennylane/lib/python3.12/site-packages/pennylane/ops/functions/eigvals.py:120: UserWarning: For Hamiltonians, the eigenvalues will be computed numerically. This may be computationally intensive for a large number of wires. Consider using a sparse representation of the Hamiltonian with qml.SparseHamiltonian.\n",
      "  warnings.warn(\n",
      "/opt/homebrew/anaconda3/envs/pennylane/lib/python3.12/site-packages/pennylane/ops/functions/eigvals.py:120: UserWarning: For Hamiltonians, the eigenvalues will be computed numerically. This may be computationally intensive for a large number of wires. Consider using a sparse representation of the Hamiltonian with qml.SparseHamiltonian.\n",
      "  warnings.warn(\n"
     ]
    },
    {
     "name": "stdout",
     "output_type": "stream",
     "text": [
      "2.1637050394293005\n",
      "0.5214314342112782\n",
      "1.5758740165075582\n",
      "-1.107507229893376\n",
      "5.132696329917579\n",
      "0.693257337404428\n"
     ]
    },
    {
     "name": "stderr",
     "output_type": "stream",
     "text": [
      "/opt/homebrew/anaconda3/envs/pennylane/lib/python3.12/site-packages/pennylane/ops/functions/eigvals.py:120: UserWarning: For Hamiltonians, the eigenvalues will be computed numerically. This may be computationally intensive for a large number of wires. Consider using a sparse representation of the Hamiltonian with qml.SparseHamiltonian.\n",
      "  warnings.warn(\n",
      "/opt/homebrew/anaconda3/envs/pennylane/lib/python3.12/site-packages/pennylane/ops/functions/eigvals.py:120: UserWarning: For Hamiltonians, the eigenvalues will be computed numerically. This may be computationally intensive for a large number of wires. Consider using a sparse representation of the Hamiltonian with qml.SparseHamiltonian.\n",
      "  warnings.warn(\n",
      "/opt/homebrew/anaconda3/envs/pennylane/lib/python3.12/site-packages/pennylane/ops/functions/eigvals.py:120: UserWarning: For Hamiltonians, the eigenvalues will be computed numerically. This may be computationally intensive for a large number of wires. Consider using a sparse representation of the Hamiltonian with qml.SparseHamiltonian.\n",
      "  warnings.warn(\n",
      "/opt/homebrew/anaconda3/envs/pennylane/lib/python3.12/site-packages/pennylane/ops/functions/eigvals.py:120: UserWarning: For Hamiltonians, the eigenvalues will be computed numerically. This may be computationally intensive for a large number of wires. Consider using a sparse representation of the Hamiltonian with qml.SparseHamiltonian.\n",
      "  warnings.warn(\n",
      "/opt/homebrew/anaconda3/envs/pennylane/lib/python3.12/site-packages/pennylane/ops/functions/eigvals.py:120: UserWarning: For Hamiltonians, the eigenvalues will be computed numerically. This may be computationally intensive for a large number of wires. Consider using a sparse representation of the Hamiltonian with qml.SparseHamiltonian.\n",
      "  warnings.warn(\n",
      "/opt/homebrew/anaconda3/envs/pennylane/lib/python3.12/site-packages/pennylane/ops/functions/eigvals.py:120: UserWarning: For Hamiltonians, the eigenvalues will be computed numerically. This may be computationally intensive for a large number of wires. Consider using a sparse representation of the Hamiltonian with qml.SparseHamiltonian.\n",
      "  warnings.warn(\n"
     ]
    },
    {
     "name": "stdout",
     "output_type": "stream",
     "text": [
      "2.499248701483089\n",
      "-2.604063796357714\n",
      "0.19575055194467428\n",
      "-1.878413273668155\n",
      "-2.5260608999137215\n",
      "2.560833798367712\n"
     ]
    },
    {
     "name": "stderr",
     "output_type": "stream",
     "text": [
      "/opt/homebrew/anaconda3/envs/pennylane/lib/python3.12/site-packages/pennylane/ops/functions/eigvals.py:120: UserWarning: For Hamiltonians, the eigenvalues will be computed numerically. This may be computationally intensive for a large number of wires. Consider using a sparse representation of the Hamiltonian with qml.SparseHamiltonian.\n",
      "  warnings.warn(\n",
      "/opt/homebrew/anaconda3/envs/pennylane/lib/python3.12/site-packages/pennylane/ops/functions/eigvals.py:120: UserWarning: For Hamiltonians, the eigenvalues will be computed numerically. This may be computationally intensive for a large number of wires. Consider using a sparse representation of the Hamiltonian with qml.SparseHamiltonian.\n",
      "  warnings.warn(\n",
      "/opt/homebrew/anaconda3/envs/pennylane/lib/python3.12/site-packages/pennylane/ops/functions/eigvals.py:120: UserWarning: For Hamiltonians, the eigenvalues will be computed numerically. This may be computationally intensive for a large number of wires. Consider using a sparse representation of the Hamiltonian with qml.SparseHamiltonian.\n",
      "  warnings.warn(\n",
      "/opt/homebrew/anaconda3/envs/pennylane/lib/python3.12/site-packages/pennylane/ops/functions/eigvals.py:120: UserWarning: For Hamiltonians, the eigenvalues will be computed numerically. This may be computationally intensive for a large number of wires. Consider using a sparse representation of the Hamiltonian with qml.SparseHamiltonian.\n",
      "  warnings.warn(\n",
      "/opt/homebrew/anaconda3/envs/pennylane/lib/python3.12/site-packages/pennylane/ops/functions/eigvals.py:120: UserWarning: For Hamiltonians, the eigenvalues will be computed numerically. This may be computationally intensive for a large number of wires. Consider using a sparse representation of the Hamiltonian with qml.SparseHamiltonian.\n",
      "  warnings.warn(\n"
     ]
    },
    {
     "name": "stdout",
     "output_type": "stream",
     "text": [
      "-4.998564614782991\n",
      "7.366488389667787\n",
      "-3.0683338801470077\n",
      "-0.5580043825877272\n",
      "1.4090786723039717\n",
      "-4.780855165620537\n"
     ]
    },
    {
     "name": "stderr",
     "output_type": "stream",
     "text": [
      "/opt/homebrew/anaconda3/envs/pennylane/lib/python3.12/site-packages/pennylane/ops/functions/eigvals.py:120: UserWarning: For Hamiltonians, the eigenvalues will be computed numerically. This may be computationally intensive for a large number of wires. Consider using a sparse representation of the Hamiltonian with qml.SparseHamiltonian.\n",
      "  warnings.warn(\n",
      "/opt/homebrew/anaconda3/envs/pennylane/lib/python3.12/site-packages/pennylane/ops/functions/eigvals.py:120: UserWarning: For Hamiltonians, the eigenvalues will be computed numerically. This may be computationally intensive for a large number of wires. Consider using a sparse representation of the Hamiltonian with qml.SparseHamiltonian.\n",
      "  warnings.warn(\n",
      "/opt/homebrew/anaconda3/envs/pennylane/lib/python3.12/site-packages/pennylane/ops/functions/eigvals.py:120: UserWarning: For Hamiltonians, the eigenvalues will be computed numerically. This may be computationally intensive for a large number of wires. Consider using a sparse representation of the Hamiltonian with qml.SparseHamiltonian.\n",
      "  warnings.warn(\n",
      "/opt/homebrew/anaconda3/envs/pennylane/lib/python3.12/site-packages/pennylane/ops/functions/eigvals.py:120: UserWarning: For Hamiltonians, the eigenvalues will be computed numerically. This may be computationally intensive for a large number of wires. Consider using a sparse representation of the Hamiltonian with qml.SparseHamiltonian.\n",
      "  warnings.warn(\n",
      "/opt/homebrew/anaconda3/envs/pennylane/lib/python3.12/site-packages/pennylane/ops/functions/eigvals.py:120: UserWarning: For Hamiltonians, the eigenvalues will be computed numerically. This may be computationally intensive for a large number of wires. Consider using a sparse representation of the Hamiltonian with qml.SparseHamiltonian.\n",
      "  warnings.warn(\n",
      "/opt/homebrew/anaconda3/envs/pennylane/lib/python3.12/site-packages/pennylane/ops/functions/eigvals.py:120: UserWarning: For Hamiltonians, the eigenvalues will be computed numerically. This may be computationally intensive for a large number of wires. Consider using a sparse representation of the Hamiltonian with qml.SparseHamiltonian.\n",
      "  warnings.warn(\n"
     ]
    },
    {
     "name": "stdout",
     "output_type": "stream",
     "text": [
      "-1.4955204387737826\n",
      "-4.587530670000511\n",
      "1.2629787079140016\n",
      "-4.0415446428424175\n",
      "-0.7752789171329058\n",
      "-3.158418651207759\n",
      "1.3795348719892377\n"
     ]
    },
    {
     "name": "stderr",
     "output_type": "stream",
     "text": [
      "/opt/homebrew/anaconda3/envs/pennylane/lib/python3.12/site-packages/pennylane/ops/functions/eigvals.py:120: UserWarning: For Hamiltonians, the eigenvalues will be computed numerically. This may be computationally intensive for a large number of wires. Consider using a sparse representation of the Hamiltonian with qml.SparseHamiltonian.\n",
      "  warnings.warn(\n",
      "/opt/homebrew/anaconda3/envs/pennylane/lib/python3.12/site-packages/pennylane/ops/functions/eigvals.py:120: UserWarning: For Hamiltonians, the eigenvalues will be computed numerically. This may be computationally intensive for a large number of wires. Consider using a sparse representation of the Hamiltonian with qml.SparseHamiltonian.\n",
      "  warnings.warn(\n",
      "/opt/homebrew/anaconda3/envs/pennylane/lib/python3.12/site-packages/pennylane/ops/functions/eigvals.py:120: UserWarning: For Hamiltonians, the eigenvalues will be computed numerically. This may be computationally intensive for a large number of wires. Consider using a sparse representation of the Hamiltonian with qml.SparseHamiltonian.\n",
      "  warnings.warn(\n",
      "/opt/homebrew/anaconda3/envs/pennylane/lib/python3.12/site-packages/pennylane/ops/functions/eigvals.py:120: UserWarning: For Hamiltonians, the eigenvalues will be computed numerically. This may be computationally intensive for a large number of wires. Consider using a sparse representation of the Hamiltonian with qml.SparseHamiltonian.\n",
      "  warnings.warn(\n",
      "/opt/homebrew/anaconda3/envs/pennylane/lib/python3.12/site-packages/pennylane/ops/functions/eigvals.py:120: UserWarning: For Hamiltonians, the eigenvalues will be computed numerically. This may be computationally intensive for a large number of wires. Consider using a sparse representation of the Hamiltonian with qml.SparseHamiltonian.\n",
      "  warnings.warn(\n",
      "/opt/homebrew/anaconda3/envs/pennylane/lib/python3.12/site-packages/pennylane/ops/functions/eigvals.py:120: UserWarning: For Hamiltonians, the eigenvalues will be computed numerically. This may be computationally intensive for a large number of wires. Consider using a sparse representation of the Hamiltonian with qml.SparseHamiltonian.\n",
      "  warnings.warn(\n",
      "/opt/homebrew/anaconda3/envs/pennylane/lib/python3.12/site-packages/pennylane/ops/functions/eigvals.py:120: UserWarning: For Hamiltonians, the eigenvalues will be computed numerically. This may be computationally intensive for a large number of wires. Consider using a sparse representation of the Hamiltonian with qml.SparseHamiltonian.\n",
      "  warnings.warn(\n"
     ]
    },
    {
     "name": "stdout",
     "output_type": "stream",
     "text": [
      "0.27260027302180223\n",
      "-3.937691393376234\n",
      "-9.137742600453304\n",
      "-2.418496598558069\n",
      "-0.30418737768395954\n",
      "2.854177792855423\n",
      "5.5887345887646696\n"
     ]
    },
    {
     "name": "stderr",
     "output_type": "stream",
     "text": [
      "/opt/homebrew/anaconda3/envs/pennylane/lib/python3.12/site-packages/pennylane/ops/functions/eigvals.py:120: UserWarning: For Hamiltonians, the eigenvalues will be computed numerically. This may be computationally intensive for a large number of wires. Consider using a sparse representation of the Hamiltonian with qml.SparseHamiltonian.\n",
      "  warnings.warn(\n",
      "/opt/homebrew/anaconda3/envs/pennylane/lib/python3.12/site-packages/pennylane/ops/functions/eigvals.py:120: UserWarning: For Hamiltonians, the eigenvalues will be computed numerically. This may be computationally intensive for a large number of wires. Consider using a sparse representation of the Hamiltonian with qml.SparseHamiltonian.\n",
      "  warnings.warn(\n",
      "/opt/homebrew/anaconda3/envs/pennylane/lib/python3.12/site-packages/pennylane/ops/functions/eigvals.py:120: UserWarning: For Hamiltonians, the eigenvalues will be computed numerically. This may be computationally intensive for a large number of wires. Consider using a sparse representation of the Hamiltonian with qml.SparseHamiltonian.\n",
      "  warnings.warn(\n",
      "/opt/homebrew/anaconda3/envs/pennylane/lib/python3.12/site-packages/pennylane/ops/functions/eigvals.py:120: UserWarning: For Hamiltonians, the eigenvalues will be computed numerically. This may be computationally intensive for a large number of wires. Consider using a sparse representation of the Hamiltonian with qml.SparseHamiltonian.\n",
      "  warnings.warn(\n",
      "/opt/homebrew/anaconda3/envs/pennylane/lib/python3.12/site-packages/pennylane/ops/functions/eigvals.py:120: UserWarning: For Hamiltonians, the eigenvalues will be computed numerically. This may be computationally intensive for a large number of wires. Consider using a sparse representation of the Hamiltonian with qml.SparseHamiltonian.\n",
      "  warnings.warn(\n",
      "/opt/homebrew/anaconda3/envs/pennylane/lib/python3.12/site-packages/pennylane/ops/functions/eigvals.py:120: UserWarning: For Hamiltonians, the eigenvalues will be computed numerically. This may be computationally intensive for a large number of wires. Consider using a sparse representation of the Hamiltonian with qml.SparseHamiltonian.\n",
      "  warnings.warn(\n",
      "/opt/homebrew/anaconda3/envs/pennylane/lib/python3.12/site-packages/pennylane/ops/functions/eigvals.py:120: UserWarning: For Hamiltonians, the eigenvalues will be computed numerically. This may be computationally intensive for a large number of wires. Consider using a sparse representation of the Hamiltonian with qml.SparseHamiltonian.\n",
      "  warnings.warn(\n"
     ]
    },
    {
     "name": "stdout",
     "output_type": "stream",
     "text": [
      "2.112966746323483\n",
      "5.989066594410475\n",
      "0.35270701714330066\n",
      "-2.606887271127337\n",
      "-4.961050981427074\n",
      "-1.330502626603244\n",
      "-5.954642019125823\n"
     ]
    },
    {
     "name": "stderr",
     "output_type": "stream",
     "text": [
      "/opt/homebrew/anaconda3/envs/pennylane/lib/python3.12/site-packages/pennylane/ops/functions/eigvals.py:120: UserWarning: For Hamiltonians, the eigenvalues will be computed numerically. This may be computationally intensive for a large number of wires. Consider using a sparse representation of the Hamiltonian with qml.SparseHamiltonian.\n",
      "  warnings.warn(\n",
      "/opt/homebrew/anaconda3/envs/pennylane/lib/python3.12/site-packages/pennylane/ops/functions/eigvals.py:120: UserWarning: For Hamiltonians, the eigenvalues will be computed numerically. This may be computationally intensive for a large number of wires. Consider using a sparse representation of the Hamiltonian with qml.SparseHamiltonian.\n",
      "  warnings.warn(\n",
      "/opt/homebrew/anaconda3/envs/pennylane/lib/python3.12/site-packages/pennylane/ops/functions/eigvals.py:120: UserWarning: For Hamiltonians, the eigenvalues will be computed numerically. This may be computationally intensive for a large number of wires. Consider using a sparse representation of the Hamiltonian with qml.SparseHamiltonian.\n",
      "  warnings.warn(\n",
      "/opt/homebrew/anaconda3/envs/pennylane/lib/python3.12/site-packages/pennylane/ops/functions/eigvals.py:120: UserWarning: For Hamiltonians, the eigenvalues will be computed numerically. This may be computationally intensive for a large number of wires. Consider using a sparse representation of the Hamiltonian with qml.SparseHamiltonian.\n",
      "  warnings.warn(\n",
      "/opt/homebrew/anaconda3/envs/pennylane/lib/python3.12/site-packages/pennylane/ops/functions/eigvals.py:120: UserWarning: For Hamiltonians, the eigenvalues will be computed numerically. This may be computationally intensive for a large number of wires. Consider using a sparse representation of the Hamiltonian with qml.SparseHamiltonian.\n",
      "  warnings.warn(\n",
      "/opt/homebrew/anaconda3/envs/pennylane/lib/python3.12/site-packages/pennylane/ops/functions/eigvals.py:120: UserWarning: For Hamiltonians, the eigenvalues will be computed numerically. This may be computationally intensive for a large number of wires. Consider using a sparse representation of the Hamiltonian with qml.SparseHamiltonian.\n",
      "  warnings.warn(\n",
      "/opt/homebrew/anaconda3/envs/pennylane/lib/python3.12/site-packages/pennylane/ops/functions/eigvals.py:120: UserWarning: For Hamiltonians, the eigenvalues will be computed numerically. This may be computationally intensive for a large number of wires. Consider using a sparse representation of the Hamiltonian with qml.SparseHamiltonian.\n",
      "  warnings.warn(\n"
     ]
    },
    {
     "name": "stdout",
     "output_type": "stream",
     "text": [
      "2.370367365824709\n",
      "-6.507885282713782\n",
      "-7.367265138585149\n",
      "-0.4353309631273232\n",
      "-5.577377816605241\n",
      "-0.887439465509948\n"
     ]
    },
    {
     "name": "stderr",
     "output_type": "stream",
     "text": [
      "/opt/homebrew/anaconda3/envs/pennylane/lib/python3.12/site-packages/pennylane/ops/functions/eigvals.py:120: UserWarning: For Hamiltonians, the eigenvalues will be computed numerically. This may be computationally intensive for a large number of wires. Consider using a sparse representation of the Hamiltonian with qml.SparseHamiltonian.\n",
      "  warnings.warn(\n",
      "/opt/homebrew/anaconda3/envs/pennylane/lib/python3.12/site-packages/pennylane/ops/functions/eigvals.py:120: UserWarning: For Hamiltonians, the eigenvalues will be computed numerically. This may be computationally intensive for a large number of wires. Consider using a sparse representation of the Hamiltonian with qml.SparseHamiltonian.\n",
      "  warnings.warn(\n",
      "/opt/homebrew/anaconda3/envs/pennylane/lib/python3.12/site-packages/pennylane/ops/functions/eigvals.py:120: UserWarning: For Hamiltonians, the eigenvalues will be computed numerically. This may be computationally intensive for a large number of wires. Consider using a sparse representation of the Hamiltonian with qml.SparseHamiltonian.\n",
      "  warnings.warn(\n",
      "/opt/homebrew/anaconda3/envs/pennylane/lib/python3.12/site-packages/pennylane/ops/functions/eigvals.py:120: UserWarning: For Hamiltonians, the eigenvalues will be computed numerically. This may be computationally intensive for a large number of wires. Consider using a sparse representation of the Hamiltonian with qml.SparseHamiltonian.\n",
      "  warnings.warn(\n",
      "/opt/homebrew/anaconda3/envs/pennylane/lib/python3.12/site-packages/pennylane/ops/functions/eigvals.py:120: UserWarning: For Hamiltonians, the eigenvalues will be computed numerically. This may be computationally intensive for a large number of wires. Consider using a sparse representation of the Hamiltonian with qml.SparseHamiltonian.\n",
      "  warnings.warn(\n",
      "/opt/homebrew/anaconda3/envs/pennylane/lib/python3.12/site-packages/pennylane/ops/functions/eigvals.py:120: UserWarning: For Hamiltonians, the eigenvalues will be computed numerically. This may be computationally intensive for a large number of wires. Consider using a sparse representation of the Hamiltonian with qml.SparseHamiltonian.\n",
      "  warnings.warn(\n"
     ]
    },
    {
     "name": "stdout",
     "output_type": "stream",
     "text": [
      "-1.5056233145632163\n",
      "4.0911218507053935\n",
      "2.5207110130630603\n",
      "-1.1667059892037503\n",
      "1.3911558531203507\n",
      "-7.403465445426652\n"
     ]
    },
    {
     "name": "stderr",
     "output_type": "stream",
     "text": [
      "/opt/homebrew/anaconda3/envs/pennylane/lib/python3.12/site-packages/pennylane/ops/functions/eigvals.py:120: UserWarning: For Hamiltonians, the eigenvalues will be computed numerically. This may be computationally intensive for a large number of wires. Consider using a sparse representation of the Hamiltonian with qml.SparseHamiltonian.\n",
      "  warnings.warn(\n",
      "/opt/homebrew/anaconda3/envs/pennylane/lib/python3.12/site-packages/pennylane/ops/functions/eigvals.py:120: UserWarning: For Hamiltonians, the eigenvalues will be computed numerically. This may be computationally intensive for a large number of wires. Consider using a sparse representation of the Hamiltonian with qml.SparseHamiltonian.\n",
      "  warnings.warn(\n",
      "/opt/homebrew/anaconda3/envs/pennylane/lib/python3.12/site-packages/pennylane/ops/functions/eigvals.py:120: UserWarning: For Hamiltonians, the eigenvalues will be computed numerically. This may be computationally intensive for a large number of wires. Consider using a sparse representation of the Hamiltonian with qml.SparseHamiltonian.\n",
      "  warnings.warn(\n",
      "/opt/homebrew/anaconda3/envs/pennylane/lib/python3.12/site-packages/pennylane/ops/functions/eigvals.py:120: UserWarning: For Hamiltonians, the eigenvalues will be computed numerically. This may be computationally intensive for a large number of wires. Consider using a sparse representation of the Hamiltonian with qml.SparseHamiltonian.\n",
      "  warnings.warn(\n",
      "/opt/homebrew/anaconda3/envs/pennylane/lib/python3.12/site-packages/pennylane/ops/functions/eigvals.py:120: UserWarning: For Hamiltonians, the eigenvalues will be computed numerically. This may be computationally intensive for a large number of wires. Consider using a sparse representation of the Hamiltonian with qml.SparseHamiltonian.\n",
      "  warnings.warn(\n",
      "/opt/homebrew/anaconda3/envs/pennylane/lib/python3.12/site-packages/pennylane/ops/functions/eigvals.py:120: UserWarning: For Hamiltonians, the eigenvalues will be computed numerically. This may be computationally intensive for a large number of wires. Consider using a sparse representation of the Hamiltonian with qml.SparseHamiltonian.\n",
      "  warnings.warn(\n",
      "/opt/homebrew/anaconda3/envs/pennylane/lib/python3.12/site-packages/pennylane/ops/functions/eigvals.py:120: UserWarning: For Hamiltonians, the eigenvalues will be computed numerically. This may be computationally intensive for a large number of wires. Consider using a sparse representation of the Hamiltonian with qml.SparseHamiltonian.\n",
      "  warnings.warn(\n"
     ]
    },
    {
     "name": "stdout",
     "output_type": "stream",
     "text": [
      "-0.01436852371284747\n",
      "1.8825903812037268\n",
      "5.6256570935329195\n",
      "-3.295533962722132\n",
      "4.370416416244444\n",
      "6.2934376455531496\n"
     ]
    },
    {
     "name": "stderr",
     "output_type": "stream",
     "text": [
      "/opt/homebrew/anaconda3/envs/pennylane/lib/python3.12/site-packages/pennylane/ops/functions/eigvals.py:120: UserWarning: For Hamiltonians, the eigenvalues will be computed numerically. This may be computationally intensive for a large number of wires. Consider using a sparse representation of the Hamiltonian with qml.SparseHamiltonian.\n",
      "  warnings.warn(\n",
      "/opt/homebrew/anaconda3/envs/pennylane/lib/python3.12/site-packages/pennylane/ops/functions/eigvals.py:120: UserWarning: For Hamiltonians, the eigenvalues will be computed numerically. This may be computationally intensive for a large number of wires. Consider using a sparse representation of the Hamiltonian with qml.SparseHamiltonian.\n",
      "  warnings.warn(\n",
      "/opt/homebrew/anaconda3/envs/pennylane/lib/python3.12/site-packages/pennylane/ops/functions/eigvals.py:120: UserWarning: For Hamiltonians, the eigenvalues will be computed numerically. This may be computationally intensive for a large number of wires. Consider using a sparse representation of the Hamiltonian with qml.SparseHamiltonian.\n",
      "  warnings.warn(\n",
      "/opt/homebrew/anaconda3/envs/pennylane/lib/python3.12/site-packages/pennylane/ops/functions/eigvals.py:120: UserWarning: For Hamiltonians, the eigenvalues will be computed numerically. This may be computationally intensive for a large number of wires. Consider using a sparse representation of the Hamiltonian with qml.SparseHamiltonian.\n",
      "  warnings.warn(\n",
      "/opt/homebrew/anaconda3/envs/pennylane/lib/python3.12/site-packages/pennylane/ops/functions/eigvals.py:120: UserWarning: For Hamiltonians, the eigenvalues will be computed numerically. This may be computationally intensive for a large number of wires. Consider using a sparse representation of the Hamiltonian with qml.SparseHamiltonian.\n",
      "  warnings.warn(\n",
      "/opt/homebrew/anaconda3/envs/pennylane/lib/python3.12/site-packages/pennylane/ops/functions/eigvals.py:120: UserWarning: For Hamiltonians, the eigenvalues will be computed numerically. This may be computationally intensive for a large number of wires. Consider using a sparse representation of the Hamiltonian with qml.SparseHamiltonian.\n",
      "  warnings.warn(\n"
     ]
    },
    {
     "name": "stdout",
     "output_type": "stream",
     "text": [
      "0.1528543421657531\n",
      "4.80896007716883\n",
      "-2.4534919187812125\n",
      "-1.647304285568648\n",
      "-0.04031130044640374\n",
      "4.973764726548877\n",
      "-5.131965434295166\n",
      "-4.037053012207693\n"
     ]
    },
    {
     "name": "stderr",
     "output_type": "stream",
     "text": [
      "/opt/homebrew/anaconda3/envs/pennylane/lib/python3.12/site-packages/pennylane/ops/functions/eigvals.py:120: UserWarning: For Hamiltonians, the eigenvalues will be computed numerically. This may be computationally intensive for a large number of wires. Consider using a sparse representation of the Hamiltonian with qml.SparseHamiltonian.\n",
      "  warnings.warn(\n",
      "/opt/homebrew/anaconda3/envs/pennylane/lib/python3.12/site-packages/pennylane/ops/functions/eigvals.py:120: UserWarning: For Hamiltonians, the eigenvalues will be computed numerically. This may be computationally intensive for a large number of wires. Consider using a sparse representation of the Hamiltonian with qml.SparseHamiltonian.\n",
      "  warnings.warn(\n",
      "/opt/homebrew/anaconda3/envs/pennylane/lib/python3.12/site-packages/pennylane/ops/functions/eigvals.py:120: UserWarning: For Hamiltonians, the eigenvalues will be computed numerically. This may be computationally intensive for a large number of wires. Consider using a sparse representation of the Hamiltonian with qml.SparseHamiltonian.\n",
      "  warnings.warn(\n",
      "/opt/homebrew/anaconda3/envs/pennylane/lib/python3.12/site-packages/pennylane/ops/functions/eigvals.py:120: UserWarning: For Hamiltonians, the eigenvalues will be computed numerically. This may be computationally intensive for a large number of wires. Consider using a sparse representation of the Hamiltonian with qml.SparseHamiltonian.\n",
      "  warnings.warn(\n",
      "/opt/homebrew/anaconda3/envs/pennylane/lib/python3.12/site-packages/pennylane/ops/functions/eigvals.py:120: UserWarning: For Hamiltonians, the eigenvalues will be computed numerically. This may be computationally intensive for a large number of wires. Consider using a sparse representation of the Hamiltonian with qml.SparseHamiltonian.\n",
      "  warnings.warn(\n"
     ]
    }
   ],
   "source": [
    "if __name__ == \"__main__\":\n",
    "    diffs = []\n",
    "    for i in range(100):\n",
    "      init_params1, init_params2 = run()\n",
    "      \n",
    "      qnode, E_min, E_max = launch_circuit(lambda: create_transverse_hamiltonian(num_wires))\n",
    "      cost1 = qnode(init_params1, SpecialUnitaryGate())\n",
    "      init_params2[8] = 2* init_params2[8] - (np.pi/2)\n",
    "      init_params2[7] =  (np.pi/2) - 2* init_params2[7]\n",
    "      init_params2[6] = 2* init_params2[6] - (np.pi/2)\n",
    "\n",
    "      cost2 = qnode(init_params2, TwoQubitDecomp())\n",
    "\n",
    "      print(cost1 - cost2)\n",
    "      #print(init_params1, init_params2)"
   ]
  },
  {
   "cell_type": "code",
   "execution_count": null,
   "metadata": {},
   "outputs": [],
   "source": []
  }
 ],
 "metadata": {
  "kernelspec": {
   "display_name": "pennylane",
   "language": "python",
   "name": "python3"
  },
  "language_info": {
   "codemirror_mode": {
    "name": "ipython",
    "version": 3
   },
   "file_extension": ".py",
   "mimetype": "text/x-python",
   "name": "python",
   "nbconvert_exporter": "python",
   "pygments_lexer": "ipython3",
   "version": "3.12.3"
  }
 },
 "nbformat": 4,
 "nbformat_minor": 2
}
