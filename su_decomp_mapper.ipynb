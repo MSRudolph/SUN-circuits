{
 "cells": [
  {
   "cell_type": "code",
   "execution_count": 13,
   "metadata": {},
   "outputs": [],
   "source": [
    "import pennylane as qml\n",
    "import numpy as np\n",
    "import jax\n",
    "import matplotlib.pyplot as plt\n",
    "from io import StringIO\n",
    "import pickle\n",
    "import os\n",
    "import cirq\n",
    "from cirq import KakDecomposition\n",
    "from typing import Tuple\n",
    "# Configure JAX\n",
    "jax.config.update(\"jax_enable_x64\", True)\n",
    "jax.config.update(\"jax_platform_name\", \"cpu\")\n",
    "jnp = jax.numpy\n"
   ]
  },
  {
   "cell_type": "code",
   "execution_count": 14,
   "metadata": {},
   "outputs": [],
   "source": [
    "def ensure_directory_exists(directory):\n",
    "    \"\"\"Ensure that the specified directory exists, create it if it does not.\"\"\"\n",
    "    if not os.path.exists(directory):\n",
    "        os.makedirs(directory)\n",
    "\n",
    "def save_params(params, filename):\n",
    "    \"\"\"Save parameters to a file using pickle.\"\"\"\n",
    "    with open(filename, 'wb') as f:\n",
    "        pickle.dump(params, f)\n",
    "\n",
    "def load_params(filename):\n",
    "    \"\"\"Load parameters from a file using pickle.\"\"\"\n",
    "    with open(filename, 'rb') as f:\n",
    "        return pickle.load(f)\n",
    "\n"
   ]
  },
  {
   "cell_type": "code",
   "execution_count": 15,
   "metadata": {},
   "outputs": [],
   "source": [
    "def get_initial_params(params_file):\n",
    "    \"\"\"Get initial parameters from the file if it exists, otherwise generate new ones.\"\"\"\n",
    "    if os.path.exists(params_file):\n",
    "        # Load parameters if they exist\n",
    "        return load_params(params_file)\n",
    "    else:\n",
    "        # Generate random parameters and save them\n",
    "        init_params = jnp.array(np.random.randn(15))\n",
    "        save_params(init_params, params_file)\n",
    "        return init_params\n"
   ]
  },
  {
   "cell_type": "code",
   "execution_count": 16,
   "metadata": {},
   "outputs": [],
   "source": [
    "def create_matrix(params, num_wires):\n",
    "    \"\"\"Create a SU(4) unitary matrix from the given parameters.\"\"\"\n",
    "    return qml.SpecialUnitary.compute_matrix(theta = params, num_wires=num_wires)\n",
    "\n"
   ]
  },
  {
   "cell_type": "code",
   "execution_count": 17,
   "metadata": {},
   "outputs": [],
   "source": [
    "def perform_kak_decomposition(U) -> Tuple[cirq.MatrixGate, cirq.MatrixGate, Tuple[float, float, float], complex, KakDecomposition]:\n",
    "    \"\"\"Perform the KAK decomposition on a unitary matrix and return the parameters.\"\"\"\n",
    "    qubits = [cirq.LineQubit(0), cirq.LineQubit(1)]\n",
    "    operation = cirq.MatrixGate(U).on(*qubits)\n",
    "    kak_decomp = cirq.kak_decomposition(operation)\n",
    "    a = [cirq.MatrixGate(m) for m in kak_decomp.single_qubit_operations_before]\n",
    "    b = [cirq.MatrixGate(m) for m in kak_decomp.single_qubit_operations_after]\n",
    "    A = kak_decomp.interaction_coefficients\n",
    "    gamma = kak_decomp.global_phase\n",
    "    print(kak_decomp)\n",
    "    return a[0], a[1], A, b[0],b[1], gamma, kak_decomp\n"
   ]
  },
  {
   "cell_type": "code",
   "execution_count": 18,
   "metadata": {},
   "outputs": [
    {
     "name": "stdout",
     "output_type": "stream",
     "text": [
      "[-1.58798692 -0.80052595 -0.18718267 -0.59787411  0.25895406  1.63709804\n",
      " -1.02576173 -0.93333536  1.77121638 -1.77456891 -0.05335546  0.40300334\n",
      "  0.71158233 -0.19948615  0.28918582]\n",
      "KAK {\n",
      "    xyz*(4/π): 0.797, 0.504, 0.414\n",
      "    before: (0.617*π around 0.536*X+0.799*Y+0.273*Z) ⊗ (-0.893*π around 0.381*X+0.112*Y+0.918*Z)\n",
      "    after: (0.86*π around 0.563*X+0.824*Y-0.0658*Z) ⊗ (0.775*π around -0.221*X+0.8*Y+0.558*Z)\n",
      "}\n",
      "KAK Decomposition Parameters:\n",
      "0.617*π around 0.536*X+0.799*Y+0.273*Z, -0.893*π around 0.381*X+0.112*Y+0.918*Z, 0.7971314755695709, 0.5043843170362101, 0.4141121423028734, 0.86*π around 0.563*X+0.824*Y-0.0658*Z, 0.775*π around -0.221*X+0.8*Y+0.558*Z\n"
     ]
    }
   ],
   "source": [
    "def main():\n",
    "    directory = 'data/mapper/'\n",
    "    params_file = os.path.join(directory, 'init_params.pkl')\n",
    "\n",
    "    # Ensure the directory exists\n",
    "    ensure_directory_exists(directory)\n",
    "\n",
    "    # Get the initial parameters\n",
    "    init_params = get_initial_params(params_file)\n",
    "    print(init_params)\n",
    "    # Create the SU(4) unitary matrix\n",
    "    unitary = create_matrix(init_params, 2)\n",
    "\n",
    "    # Perform the KAK decomposition\n",
    "    a0, a1, B, b1, b0, gamma, kak_decomp = perform_kak_decomposition(unitary)\n",
    "    # def __str__(self) -> str:\n",
    "    #     xx = self.interaction_coefficients[0] * 4 / np.pi\n",
    "    #     yy = self.interaction_coefficients[1] * 4 / np.pi\n",
    "    #     zz = self.interaction_coefficients[2] * 4 / np.pi\n",
    "    #     before0 = axis_angle(self.single_qubit_operations_before[0])\n",
    "    #     before1 = axis_angle(self.single_qubit_operations_before[1])\n",
    "    #     after0 = axis_angle(self.single_qubit_operations_after[0])\n",
    "    #     after1 = axis_angle(self.single_qubit_operations_after[1])\n",
    "    #     return (\n",
    "    #         'KAK {\\n'\n",
    "    #         f'    xyz*(4/π): {xx:.3g}, {yy:.3g}, {zz:.3g}\\n'\n",
    "    #         f'    before: ({before0}) ⊗ ({before1})\\n'\n",
    "    #         f'    after: ({after0}) ⊗ ({after1})\\n'\n",
    "    #         '}'\n",
    "    #     )\n",
    "\n",
    "    before0 = cirq.axis_angle(kak_decomp.single_qubit_operations_before[0])\n",
    "    before1 = cirq.axis_angle(kak_decomp.single_qubit_operations_before[1])\n",
    "    after0 = cirq.axis_angle(kak_decomp.single_qubit_operations_after[0])\n",
    "    after1 = cirq.axis_angle(kak_decomp.single_qubit_operations_after[1])\n",
    "    xx = kak_decomp.interaction_coefficients[0] * 4 / np.pi\n",
    "    yy = kak_decomp.interaction_coefficients[1] * 4 / np.pi\n",
    "    zz = kak_decomp.interaction_coefficients[2] * 4 / np.pi\n",
    "\n",
    "    print(\"KAK Decomposition Parameters:\")\n",
    "    print(f\"{before0}, {before1}, {xx}, {yy}, {zz}, {after0}, {after1}\")\n",
    "    # print(\"a0:\", a0)\n",
    "    # print(\"a1:\", a1)\n",
    "    # print(\"B:\", B)\n",
    "    # print(\"b0:\", b0)\n",
    "    # print(\"b1:\", b1)\n",
    "    # print(\"Gamma:\", gamma)\n",
    "\n",
    "if __name__ == \"__main__\":\n",
    "    main()\n"
   ]
  }
 ],
 "metadata": {
  "kernelspec": {
   "display_name": "pennylane",
   "language": "python",
   "name": "python3"
  },
  "language_info": {
   "codemirror_mode": {
    "name": "ipython",
    "version": 3
   },
   "file_extension": ".py",
   "mimetype": "text/x-python",
   "name": "python",
   "nbconvert_exporter": "python",
   "pygments_lexer": "ipython3",
   "version": "3.12.3"
  }
 },
 "nbformat": 4,
 "nbformat_minor": 2
}
