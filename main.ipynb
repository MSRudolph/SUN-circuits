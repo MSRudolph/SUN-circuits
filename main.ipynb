{
 "cells": [
  {
   "cell_type": "code",
   "execution_count": 52,
   "metadata": {},
   "outputs": [],
   "source": [
    "import pennylane as qml\n",
    "import numpy as np\n",
    "import jax\n",
    "\n",
    "from typing import List, Protocol, Callable, Tuple\n",
    "from typing import List, Tuple, Callable\n",
    "\n",
    "# Configure JAX\n",
    "jax.config.update(\"jax_enable_x64\", True)\n",
    "jax.config.update(\"jax_platform_name\", \"cpu\")\n",
    "jnp = jax.numpy\n"
   ]
  },
  {
   "cell_type": "markdown",
   "metadata": {},
   "source": [
    "### Transverse Hamiltonian ###"
   ]
  },
  {
   "cell_type": "code",
   "execution_count": 53,
   "metadata": {},
   "outputs": [],
   "source": [
    "def create_transverse_hamiltonian(num_wires: int, J: float = 1.0, h: float = 0.5):\n",
    "    coeffs = []\n",
    "    obs = []\n",
    "\n",
    "    # ZZ interactions\n",
    "    for i in range(num_wires):\n",
    "        for j in range(i + 1, num_wires):\n",
    "            coeffs.append(-J)\n",
    "            obs.append(qml.PauliZ(i) @ qml.PauliZ(j))\n",
    "\n",
    "    # X interactions\n",
    "    for i in range(num_wires):\n",
    "        coeffs.append(-h)\n",
    "        obs.append(qml.PauliX(i))\n",
    "\n",
    "    hamiltonian = qml.Hamiltonian(coeffs, obs)\n",
    "    e_min = min(qml.eigvals(hamiltonian))\n",
    "    e_max = max(qml.eigvals(hamiltonian))\n",
    "    # hamiltonian = qml.SparseHamiltonian(hamiltonian.sparse_matrix(), range(num_wires))\n",
    "    return hamiltonian, e_min, e_max"
   ]
  },
  {
   "cell_type": "markdown",
   "metadata": {},
   "source": [
    "### Helper methods for pauli coeff extract ###"
   ]
  },
  {
   "cell_type": "code",
   "execution_count": 54,
   "metadata": {},
   "outputs": [],
   "source": [
    "from scipy.linalg import logm\n",
    "\n",
    "def extract_pauli_coeff(U,threshold=1e-6):\n",
    "    # Define the Pauli matrices\n",
    "    I = np.eye(2)\n",
    "    sigma_x = np.array([[0, 1], [1, 0]])\n",
    "    sigma_y = np.array([[0, -1j], [1j, 0]])\n",
    "    sigma_z = np.array([[1, 0], [0, -1]])\n",
    "\n",
    "    # Compute the Hermitian matrix H from the matrix logarithm of U\n",
    "    H = logm(U)\n",
    "\n",
    "    # Define the extended Pauli basis for two qubits\n",
    "    pauli_basis = {\n",
    "        'IX': np.kron(I, sigma_x), 'IY': np.kron(I, sigma_y), 'IZ': np.kron(I, sigma_z),\n",
    "        'XI': np.kron(sigma_x, I), 'XX': np.kron(sigma_x, sigma_x), 'XY': np.kron(sigma_x, sigma_y), 'XZ': np.kron(sigma_x, sigma_z),\n",
    "        'YI': np.kron(sigma_y, I), 'YX': np.kron(sigma_y, sigma_x), 'YY': np.kron(sigma_y, sigma_y), 'YZ': np.kron(sigma_y, sigma_z),\n",
    "        'ZI': np.kron(sigma_z, I), 'ZX': np.kron(sigma_z, sigma_x), 'ZY': np.kron(sigma_z, sigma_y), 'ZZ': np.kron(sigma_z, sigma_z)\n",
    "    }\n",
    "\n",
    "    # Calculate the coefficients\n",
    "    # coefficients = {name: np.trace(H @ Pk)/ (4j) for name, Pk in pauli_basis.items()}\n",
    "    coefficients = {}\n",
    "    for key, Pk in pauli_basis.items():\n",
    "        coeff = np.trace(H @ Pk) / 4\n",
    "        # Set coefficients below the threshold to zero\n",
    "        if abs(coeff.real) < threshold:\n",
    "            coeff = complex(0, coeff.imag)\n",
    "        if abs(coeff.imag) < threshold:\n",
    "            coeff = complex(coeff.real, 0)\n",
    "        coefficients[key] = coeff\n",
    "    return coefficients\n",
    "\n",
    "from scipy.linalg import logm\n",
    "\n",
    "def extract_pauli_coeff(U,threshold=1e-6):\n",
    "    # Define the Pauli matrices\n",
    "    I = np.eye(2)\n",
    "    sigma_x = np.array([[0, 1], [1, 0]])\n",
    "    sigma_y = np.array([[0, -1j], [1j, 0]])\n",
    "    sigma_z = np.array([[1, 0], [0, -1]])\n",
    "\n",
    "    # Compute the Hermitian matrix H from the matrix logarithm of U\n",
    "    H = logm(U)\n",
    "\n",
    "    # Define the extended Pauli basis for two qubits\n",
    "    pauli_basis = {\n",
    "        'IX': np.kron(I, sigma_x), 'IY': np.kron(I, sigma_y), 'IZ': np.kron(I, sigma_z),\n",
    "        'XI': np.kron(sigma_x, I), 'XX': np.kron(sigma_x, sigma_x), 'XY': np.kron(sigma_x, sigma_y), 'XZ': np.kron(sigma_x, sigma_z),\n",
    "        'YI': np.kron(sigma_y, I), 'YX': np.kron(sigma_y, sigma_x), 'YY': np.kron(sigma_y, sigma_y), 'YZ': np.kron(sigma_y, sigma_z),\n",
    "        'ZI': np.kron(sigma_z, I), 'ZX': np.kron(sigma_z, sigma_x), 'ZY': np.kron(sigma_z, sigma_y), 'ZZ': np.kron(sigma_z, sigma_z)\n",
    "    }\n",
    "\n",
    "    # Calculate the coefficients\n",
    "    # coefficients = {name: np.trace(H @ Pk)/ (4j) for name, Pk in pauli_basis.items()}\n",
    "    coefficients = {}\n",
    "    for key, Pk in pauli_basis.items():\n",
    "        coeff = np.trace(H @ Pk) / 4\n",
    "        # Set coefficients below the threshold to zero\n",
    "        if abs(coeff.real) < threshold:\n",
    "            coeff = complex(0, coeff.imag)\n",
    "        if abs(coeff.imag) < threshold:\n",
    "            coeff = complex(coeff.real, 0)\n",
    "        coefficients[key] = coeff\n",
    "    return coefficients\n",
    "\n",
    "def two_qubit_decomp(params, wires):\n",
    "    \"\"\"Implement an arbitrary SU(4) gate on two qubits\n",
    "    using the decomposition from Theorem 5 in\n",
    "    https://arxiv.org/pdf/quant-ph/0308006.pdf\"\"\"\n",
    "    \n",
    "    i, j = wires    \n",
    "    qml.RZ(params[0], wires=i)\n",
    "    qml.RY(params[1], wires=i)\n",
    "    qml.RZ(params[2], wires=i)\n",
    "    qml.RZ(params[3], wires=j)\n",
    "    qml.RY(params[4], wires=j)\n",
    "    qml.RZ(params[5], wires=j)\n",
    "    qml.CNOT(wires=[j, i])\n",
    "    qml.RZ(params[6], wires=i)\n",
    "    qml.RY(params[7], wires=j)\n",
    "    qml.CNOT(wires=[i, j])\n",
    "    qml.RY(params[8], wires=j)\n",
    "    qml.CNOT(wires=[j, i])\n",
    "    qml.RZ(params[9], wires=j)\n",
    "    qml.RY(params[10], wires=j)\n",
    "    qml.RZ(params[11], wires=j)\n",
    "    qml.RZ(params[12], wires=i)\n",
    "    qml.RY(params[13], wires=i)\n",
    "    qml.RZ(params[14], wires=i)\n",
    "\n",
    "dev = qml.device('default.qubit', wires=2)\n",
    "\n",
    "# Wrap the circuit in a QNode\n",
    "@qml.qnode(dev)\n",
    "def two_qubit_decomp_circuit(params):\n",
    "    two_qubit_decomp(params, wires=[0, 1])\n",
    "    return qml.state()\n"
   ]
  },
  {
   "cell_type": "markdown",
   "metadata": {},
   "source": [
    "### Define Two Qubit Decomp and SU4 Implementation ###"
   ]
  },
  {
   "cell_type": "code",
   "execution_count": 55,
   "metadata": {},
   "outputs": [],
   "source": [
    "class Operation(Protocol):\n",
    "    def apply(self, params: np.ndarray, wires: List[int]) -> None:\n",
    "        ...\n",
    "\n",
    "class TwoQubitDecomp:\n",
    "    def apply(self, params: np.ndarray, wires: List[int]) -> None:\n",
    "        \"\"\"Implement an arbitrary SU(4) gate on two qubits\n",
    "        using the decomposition from Theorem 5 in\n",
    "        https://arxiv.org/pdf/quant-ph/0308006.pdf\"\"\"\n",
    "        i, j = wires\n",
    "        qml.RZ(params[0], wires=i)\n",
    "        qml.RY(params[1], wires=i)\n",
    "        qml.RZ(params[2], wires=i)\n",
    "\n",
    "        qml.RZ(params[3], wires=j)\n",
    "        qml.RY(params[4], wires=j)\n",
    "        qml.RZ(params[5], wires=j)\n",
    "\n",
    "        qml.CNOT(wires=[j, i])\n",
    "        qml.RZ(params[6], wires=i)\n",
    "        qml.RY(params[7], wires=j)\n",
    "        qml.CNOT(wires=[i, j])\n",
    "        qml.RY(params[8], wires=j)\n",
    "        qml.CNOT(wires=[j, i])\n",
    "\n",
    "        qml.RZ(params[9], wires=j)\n",
    "        qml.RY(params[10], wires=j)\n",
    "        qml.RZ(params[11], wires=j)\n",
    "\n",
    "        qml.RZ(params[12], wires=i)\n",
    "        qml.RY(params[13], wires=i)\n",
    "        qml.RZ(params[14], wires=i)\n",
    "\n",
    "class PauliRotSequence:\n",
    "    def apply(self, params: np.ndarray, wires: List[int]) -> None:\n",
    "        qml.ArbitraryUnitary(params, wires=wires)\n",
    "\n",
    "class SpecialUnitaryGate:\n",
    "    def apply(self, params: np.ndarray, wires: List[int]) -> None:\n",
    "        qml.SpecialUnitary(params, wires=wires)\n"
   ]
  },
  {
   "cell_type": "markdown",
   "metadata": {},
   "source": [
    "### Ansatz ###"
   ]
  },
  {
   "cell_type": "code",
   "execution_count": 56,
   "metadata": {},
   "outputs": [],
   "source": [
    "\n",
    "# Initialize parameters\n",
    "ansatz_dev = qml.device(\"default.qubit\", wires=2)\n",
    "\n",
    "def parameterized_circuit(params, operation: Operation, hamiltonian):\n",
    "      operation.apply(params, [0,1])\n",
    "      return qml.expval(hamiltonian)\n",
    "\n",
    "\n",
    "#  circuitLauncher\n",
    "def launch_circuit(hamiltonian_func: Callable[[], Tuple[qml.Hamiltonian, float]]):\n",
    "   hamiltonian, e_min, e_max = hamiltonian_func()\n",
    "   def circuit_wrapped(params, operation: Operation):\n",
    "      return parameterized_circuit(params, operation, hamiltonian)\n",
    "\n",
    "   qnode = qml.QNode(circuit_wrapped, ansatz_dev, interface=\"jax\")\n",
    "   return qnode, e_min, e_max"
   ]
  },
  {
   "cell_type": "markdown",
   "metadata": {},
   "source": [
    "### SU4 TO DECOMP ###"
   ]
  },
  {
   "cell_type": "code",
   "execution_count": 57,
   "metadata": {},
   "outputs": [],
   "source": [
    "def su4_to_decomp(su4_params, wires=[0,1]):\n",
    "    # Create a SU(4) unitary matrix from the given parameters\n",
    "   unitary = qml.SpecialUnitary.compute_matrix(theta = su4_params, num_wires=2)\n",
    "   # kak_Decomposition\n",
    "   decomp = qml.ops.two_qubit_decomposition(unitary, wires=wires)\n",
    "   decomp_params = []\n",
    "   # adjust the precision\n",
    "   for gate in decomp:\n",
    "      if hasattr(gate, 'parameters'):\n",
    "         decomp_params.extend([float(p) for p in gate.parameters])\n",
    "   return decomp_params"
   ]
  },
  {
   "cell_type": "markdown",
   "metadata": {},
   "source": [
    "### DECOMP TO SU4 ###"
   ]
  },
  {
   "cell_type": "code",
   "execution_count": 58,
   "metadata": {},
   "outputs": [],
   "source": [
    "def decomp_to_su4(decomp_params, wires=[0,1]):\n",
    "    # Extract the unitary matrix\n",
    "    U_rot = qml.matrix(two_qubit_decomp_circuit)(decomp_params)\n",
    "\n",
    "    coeff_Urot = extract_pauli_coeff(U_rot)\n",
    "\n",
    "    coeff_SU4  = [elem/1j for elem in list(coeff_Urot.values())]\n",
    "\n",
    "    return np.array(coeff_SU4)#np.array(coeff_SU4)#coeff_SU4\n"
   ]
  },
  {
   "cell_type": "code",
   "execution_count": 59,
   "metadata": {},
   "outputs": [],
   "source": [
    "def verify(decomp_params, su4_params):\n",
    "   qnode, _, _ = launch_circuit(lambda: create_transverse_hamiltonian(2))\n",
    "   cost1 = qnode(decomp_params, TwoQubitDecomp())\n",
    "   cost2 = qnode(su4_params, SpecialUnitaryGate())\n",
    "\n",
    "   print(f\"Cost1: {cost1}\")\n",
    "   print(f\"Cost2: {cost2}\")\n",
    "   print(f\"Difference: {cost1 - cost2}\")"
   ]
  },
  {
   "cell_type": "code",
   "execution_count": 60,
   "metadata": {},
   "outputs": [
    {
     "name": "stdout",
     "output_type": "stream",
     "text": [
      "Cost1: -0.19603727302074647\n",
      "Cost2: -0.19603727302074692\n",
      "Difference: 4.440892098500626e-16\n"
     ]
    }
   ],
   "source": [
    "# TwoQubitToSU4\n",
    "decomp_params = jnp.array(np.random.randn(15))\n",
    "su4_params = decomp_to_su4(decomp_params=decomp_params)\n",
    "\n",
    "verify(decomp_params, su4_params)\n"
   ]
  },
  {
   "cell_type": "code",
   "execution_count": 61,
   "metadata": {},
   "outputs": [
    {
     "name": "stdout",
     "output_type": "stream",
     "text": [
      "Cost1: -0.12104634849046886\n",
      "Cost2: -0.1210463484904688\n",
      "Difference: -5.551115123125783e-17\n"
     ]
    }
   ],
   "source": [
    "# SU4ToTwoQubit\n",
    "\n",
    "# TwoQubitToSU4\n",
    "su4_params = jnp.array(np.random.randn(15))\n",
    "\n",
    "decomp_params = su4_to_decomp(su4_params=su4_params)\n",
    "\n",
    "verify(decomp_params, su4_params)\n"
   ]
  }
 ],
 "metadata": {
  "kernelspec": {
   "display_name": "pennylane",
   "language": "python",
   "name": "python3"
  },
  "language_info": {
   "codemirror_mode": {
    "name": "ipython",
    "version": 3
   },
   "file_extension": ".py",
   "mimetype": "text/x-python",
   "name": "python",
   "nbconvert_exporter": "python",
   "pygments_lexer": "ipython3",
   "version": "3.12.3"
  }
 },
 "nbformat": 4,
 "nbformat_minor": 2
}
