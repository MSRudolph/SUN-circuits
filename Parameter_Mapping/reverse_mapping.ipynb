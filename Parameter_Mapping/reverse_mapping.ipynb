{
 "cells": [
  {
   "cell_type": "markdown",
   "metadata": {},
   "source": [
    "Construct Unitary Matrix"
   ]
  },
  {
   "cell_type": "code",
   "execution_count": 1,
   "metadata": {},
   "outputs": [],
   "source": [
    "import pennylane as qml\n",
    "import numpy as np\n",
    "import jax\n",
    "import cirq\n",
    "from qiskit.quantum_info import *\n",
    "from qiskit.synthesis import OneQubitEulerDecomposer\n",
    "from scipy.linalg import logm\n",
    "from scipy.linalg import expm\n",
    "from scipy.optimize import minimize\n",
    "\n",
    "import jax.numpy as jnp\n"
   ]
  },
  {
   "cell_type": "code",
   "execution_count": 2,
   "metadata": {},
   "outputs": [
    {
     "data": {
      "text/plain": [
       "array([[ 0.32179375+0.04488872j,  0.42619418-0.24261069j,\n",
       "         0.42619418-0.24261069j,  0.00242523-0.64298138j],\n",
       "       [ 0.24261069+0.42619418j, -0.34701112-0.13869478j,\n",
       "         0.64298138+0.00242523j, -0.21921243+0.39794546j],\n",
       "       [ 0.24261069+0.42619418j,  0.64298138+0.00242523j,\n",
       "        -0.34701112-0.13869478j, -0.21921243+0.39794546j],\n",
       "       [-0.00242523+0.64298138j, -0.39794546-0.21921243j,\n",
       "        -0.39794546-0.21921243j,  0.27014678-0.31742781j]])"
      ]
     },
     "execution_count": 2,
     "metadata": {},
     "output_type": "execute_result"
    }
   ],
   "source": [
    "wires = [0, 1]\n",
    "\n",
    "# Activating the Pauli words [\"IY\", \"IZ\", \"XX\", \"XY\", \"YY\", \"YZ\", \"ZY\", \"ZZ\"]\n",
    "\n",
    "#init_params = 0.3 * np.array([0, 1, 2, 0, -1, 1, 0, 0, 0, 1, 1, 1, 0, 0, -1])\n",
    "init_params = np.ones(15)\n",
    "# len(init_params) == 4 ** len(wires) - 1 # theta contains one parameter per Pauli word\n",
    "\n",
    "#init_params = np.random.uniform(0, 2*np.pi, size=15)\n",
    "\n",
    "su = qml.SpecialUnitary(init_params, wires=wires)\n",
    "matrix = su.matrix()\n",
    "\n",
    "\n",
    "\n",
    "np.linalg.det(matrix)\n",
    "# A_original = logm(matrix)\n",
    "#assert np.allclose(matrix, matrix.conjugate().T), \"SU(N) is not Hermitian\"\n",
    "\n",
    "np.allclose(np.conjugate(matrix.T), -matrix, atol=1e-6)\n",
    "\n",
    "matrix\n"
   ]
  },
  {
   "cell_type": "markdown",
   "metadata": {},
   "source": [
    "# Extraction of the coefficients\n",
    "\n",
    "## Matrix Logarithm:\n",
    "Given a unitary matrix \\( U \\in SU(2^n) \\), we can write \\( U \\) in terms of its matrix logarithm as:\n",
    "\n",
    "$$\n",
    "U = e^{A}\n",
    "$$\n",
    "\n",
    "where \\( A \\) is a Hermitian matrix. This matrix \\( A \\) can be expanded in the Pauli basis:\n",
    "\n",
    "$$\n",
    "A = \\sum_k i c_k P_k = ln(U)\n",
    "\n",
    "$$\n",
    "\n",
    "where $$P_k$$ are the Pauli matrices or tensor products of Pauli matrices, and \\( c_k \\) are real coefficients.\n",
    "\n",
    "## Finding the Coefficients:\n",
    "To find the coefficients \\( i c_k \\), we use the orthogonality property of the Pauli matrices. For a Pauli matrix \\( P_k \\):\n",
    "\n",
    "$$\n",
    "c_k = \\frac{1}{2^n} \\text{Tr}[A P_k]\n",
    "$$\n",
    "\n",
    "This formula arises because the trace operation is linear, and Pauli matrices are orthogonal under the trace operation.\n"
   ]
  },
  {
   "cell_type": "code",
   "execution_count": 3,
   "metadata": {},
   "outputs": [],
   "source": [
    "# Define the Pauli matrices\n",
    "I = np.eye(2)\n",
    "sigma_x = np.array([[0, 1], [1, 0]])\n",
    "sigma_y = np.array([[0, -1j], [1j, 0]])\n",
    "sigma_z = np.array([[1, 0], [0, -1]])\n",
    "pauli_basis = {\n",
    "    'IX': np.kron(I, sigma_x), 'IY': np.kron(I, sigma_y), 'IZ': np.kron(I, sigma_z),\n",
    "    'XI': np.kron(sigma_x, I), 'XX': np.kron(sigma_x, sigma_x), 'XY': np.kron(sigma_x, sigma_y), 'XZ': np.kron(sigma_x, sigma_z),\n",
    "    'YI': np.kron(sigma_y, I), 'YX': np.kron(sigma_y, sigma_x), 'YY': np.kron(sigma_y, sigma_y), 'YZ': np.kron(sigma_y, sigma_z),\n",
    "    'ZI': np.kron(sigma_z, I), 'ZX': np.kron(sigma_z, sigma_x), 'ZY': np.kron(sigma_z, sigma_y), 'ZZ': np.kron(sigma_z, sigma_z)\n",
    "}"
   ]
  },
  {
   "cell_type": "code",
   "execution_count": 4,
   "metadata": {},
   "outputs": [
    {
     "data": {
      "text/plain": [
       "[0.09310031788289097j,\n",
       " 0.09310031788289086j,\n",
       " 0.09310031788289119j,\n",
       " 0.09310031788289078j,\n",
       " 0.47640122440170096j,\n",
       " 0.47640122440170124j,\n",
       " 0.47640122440170113j,\n",
       " 0.09310031788289094j,\n",
       " 0.4764012244017011j,\n",
       " 0.47640122440170113j,\n",
       " 0.4764012244017012j,\n",
       " 0.09310031788289186j,\n",
       " 0.47640122440170096j,\n",
       " 0.4764012244017012j,\n",
       " 0.47640122440170096j]"
      ]
     },
     "execution_count": 4,
     "metadata": {},
     "output_type": "execute_result"
    }
   ],
   "source": [
    "from scipy.linalg import logm\n",
    "\n",
    "def extract_pauli_coeff(U,threshold=1e-6):\n",
    "    # Define the Pauli matrices\n",
    "    I = np.eye(2)\n",
    "    sigma_x = np.array([[0, 1], [1, 0]])\n",
    "    sigma_y = np.array([[0, -1j], [1j, 0]])\n",
    "    sigma_z = np.array([[1, 0], [0, -1]])\n",
    "\n",
    "    # Compute the Hermitian matrix H from the matrix logarithm of U\n",
    "    H = logm(U)\n",
    "\n",
    "    # Define the extended Pauli basis for two qubits\n",
    "    pauli_basis = {\n",
    "        'IX': np.kron(I, sigma_x), 'IY': np.kron(I, sigma_y), 'IZ': np.kron(I, sigma_z),\n",
    "        'XI': np.kron(sigma_x, I), 'XX': np.kron(sigma_x, sigma_x), 'XY': np.kron(sigma_x, sigma_y), 'XZ': np.kron(sigma_x, sigma_z),\n",
    "        'YI': np.kron(sigma_y, I), 'YX': np.kron(sigma_y, sigma_x), 'YY': np.kron(sigma_y, sigma_y), 'YZ': np.kron(sigma_y, sigma_z),\n",
    "        'ZI': np.kron(sigma_z, I), 'ZX': np.kron(sigma_z, sigma_x), 'ZY': np.kron(sigma_z, sigma_y), 'ZZ': np.kron(sigma_z, sigma_z)\n",
    "    }\n",
    "\n",
    "    # Calculate the coefficients\n",
    "    # coefficients = {name: np.trace(H @ Pk)/ (4j) for name, Pk in pauli_basis.items()}\n",
    "    coefficients = {}\n",
    "    for key, Pk in pauli_basis.items():\n",
    "        coeff = np.trace(H @ Pk) / 4\n",
    "        # Set coefficients below the threshold to zero\n",
    "        if abs(coeff.real) < threshold:\n",
    "            coeff = complex(0, coeff.imag)\n",
    "        if abs(coeff.imag) < threshold:\n",
    "            coeff = complex(coeff.real, 0)\n",
    "        coefficients[key] = coeff\n",
    "    return coefficients\n",
    "\n",
    "theta  = list(extract_pauli_coeff(matrix).values())\n",
    "\n",
    "theta"
   ]
  },
  {
   "cell_type": "markdown",
   "metadata": {},
   "source": [
    "# Consistency Check\n",
    "\n",
    "To check if these complex coefficients generate the same expectation values as other parameterization methods, you can:\n",
    "\n",
    "## 1. Reconstruct A\n",
    "Use your coefficients to reconstruct \\( A \\).\n",
    "\n",
    "$$ \n",
    "A = \\sum_{k} i c_{k} P_{k} \n",
    "$$\n",
    "\n",
    "## 2. Calculate Expectation Values\n",
    "For a given state \\( \\rho \\), calculate the expectation value using both the original and reconstructed Hamiltonian.\n",
    "\n",
    "$$ \n",
    "\\langle A \\rangle_{\\text{original}} = \\operatorname{Tr}(\\rho A_{\\text{original}}) \n",
    "$$\n",
    "\n",
    "$$ \n",
    "\\langle A \\rangle_{\\text{reconstructed}} = \\operatorname{Tr}\\left(\\rho \\sum_{k} i c_{k} P_{k}\\right) \n",
    "$$\n",
    "\n",
    "## 3. Compare Results\n",
    "Ensure that the expectation values are the same for the original and reconstructed Hamiltonian.\n"
   ]
  },
  {
   "cell_type": "code",
   "execution_count": 5,
   "metadata": {},
   "outputs": [
    {
     "name": "stdout",
     "output_type": "stream",
     "text": [
      "Original expectation value: (-1.1102230246251565e-16-0.9081944666274131j)\n",
      "Reconstructed expectation value: 0.662601860167484j\n"
     ]
    }
   ],
   "source": [
    "coefficients = extract_pauli_coeff(matrix)\n",
    "\n",
    "def reconstruct_A(coefficients):\n",
    "    A_reconstructed = sum(coefficients[key] * pauli_basis[key] for key in coefficients)\n",
    "    \n",
    "    return A_reconstructed\n",
    "\n",
    "# Define a test density matrix (example)\n",
    "#rho = np.kron(np.array([[1, 0], [0, 0]]), np.array([[0, 0], [0, 1]]))\n",
    "rho = np.array([\n",
    "    [1, 0, 0, 0],\n",
    "    [0, 0, 0, 0],\n",
    "    [0, 0, 0, 0],\n",
    "    [0, 0, 0, 0]\n",
    "], dtype=complex)\n",
    "\n",
    "A_reconstructed = reconstruct_A(coefficients)\n",
    "\n",
    "# Compute expectation values\n",
    "expectation_original = np.trace(np.dot(rho,logm(matrix)))#np.trace(rho @ logm(matrix))\n",
    "\n",
    "expectation_reconstructed = np.trace(np.dot(rho,A_reconstructed))#np.trace(rho @ A_reconstructed)\n",
    "\n",
    "print(f\"Original expectation value: {expectation_original}\")\n",
    "print(f\"Reconstructed expectation value: {expectation_reconstructed}\")\n",
    "\n",
    "\n",
    "#assert np.allclose(A_reconstructed, A_reconstructed.conjugate().T), \"A is not Hermitian\"\n"
   ]
  },
  {
   "cell_type": "code",
   "execution_count": 6,
   "metadata": {},
   "outputs": [
    {
     "name": "stdout",
     "output_type": "stream",
     "text": [
      "Expectation values are not consistent within the threshold.\n"
     ]
    }
   ],
   "source": [
    "# Check if the expectation values are close within a numerical threshold\n",
    "threshold = 1e-8\n",
    "if np.abs(expectation_original - expectation_reconstructed) < threshold:\n",
    "    print(\"Expectation values are consistent within the threshold.\")\n",
    "else:\n",
    "    print(\"Expectation values are not consistent within the threshold.\")"
   ]
  },
  {
   "cell_type": "markdown",
   "metadata": {},
   "source": [
    "#STEP 2\n",
    "\n",
    "### Step 2: Initialize Parameters for Pauli Rotations(2 Qubit Decomp) and Obtain Equivalent Parameters in the \\(SU(N)\\) Picture\n",
    "\n",
    "To initialize the parameters for Pauli rotations, we use random values drawn from a uniform distribution over the interval $$[0, 2\\pi]$$. This step is crucial as it sets the initial state for our system in a way that covers the entire parameter space.\n"
   ]
  },
  {
   "cell_type": "code",
   "execution_count": 7,
   "metadata": {},
   "outputs": [
    {
     "name": "stdout",
     "output_type": "stream",
     "text": [
      "Unitary matrix U:\n",
      " [[-0.06754741+0.65273498j -0.01473623+0.42577198j -0.01473623+0.42577198j\n",
      "  -0.15815391+0.42586836j]\n",
      " [-0.0353509 +0.2805277j  -0.24083787-0.20789815j  0.63674469+0.27152739j\n",
      "  -0.18282119-0.55338548j]\n",
      " [-0.0353509 +0.2805277j   0.63674469+0.27152739j -0.24083787-0.20789815j\n",
      "  -0.18282119-0.55338548j]\n",
      " [ 0.63982965-0.01007205j -0.4385717 +0.213917j   -0.4385717 +0.213917j\n",
      "   0.00857712-0.3379819j ]]\n"
     ]
    }
   ],
   "source": [
    "# Define the device\n",
    "dev = qml.device('default.qubit', wires=2)\n",
    "\n",
    "# Define the circuit\n",
    "def two_qubit_decomp_1(params, wires):\n",
    "    \"\"\"Implement an arbitrary SU(4) gate on two qubits\n",
    "    using the decomposition from Theorem 5 in\n",
    "    https://arxiv.org/pdf/quant-ph/0308006.pdf\"\"\"\n",
    "    \n",
    "    i, j = wires    \n",
    "    qml.RZ(params[0], wires=i)\n",
    "    qml.RY(params[1], wires=i)\n",
    "    qml.RZ(params[2], wires=i)\n",
    "    qml.RZ(params[3], wires=j)\n",
    "    qml.RY(params[4], wires=j)\n",
    "    qml.RZ(params[5], wires=j)\n",
    "    qml.CNOT(wires=[j, i])\n",
    "    qml.RZ(params[6], wires=i)\n",
    "    qml.RY(params[7], wires=j)\n",
    "    qml.CNOT(wires=[i, j])\n",
    "    qml.RY(params[8], wires=j)\n",
    "    qml.CNOT(wires=[j, i])\n",
    "    qml.RZ(params[9], wires=j)\n",
    "    qml.RY(params[10], wires=j)\n",
    "    qml.RZ(params[11], wires=j)\n",
    "    qml.RZ(params[12], wires=i)\n",
    "    qml.RY(params[13], wires=i)\n",
    "    qml.RZ(params[14], wires=i)\n",
    "\n",
    "# Wrap the circuit in a QNode\n",
    "@qml.qnode(dev)\n",
    "def circuit1(params):\n",
    "    two_qubit_decomp_1(params, wires=[0, 1])\n",
    "    return qml.state()\n",
    "\n",
    "# Example parameters\n",
    "init_pauli_params = np.ones(15)##np.random.uniform(0, 2*np.pi, size=15)\n",
    "\n",
    "# Extract the unitary matrix\n",
    "U_rot = qml.matrix(circuit1)(init_pauli_params)\n",
    "\n",
    "# Print the unitary matrix\n",
    "print(\"Unitary matrix U:\\n\", U_rot)\n",
    "\n"
   ]
  },
  {
   "cell_type": "markdown",
   "metadata": {},
   "source": [
    "# Extract Coefficient from the 2_qubit_decomp Unitary"
   ]
  },
  {
   "cell_type": "code",
   "execution_count": 8,
   "metadata": {},
   "outputs": [
    {
     "data": {
      "text/plain": [
       "array([[0.+0.j, 0.+0.j, 0.+0.j, 0.+0.j],\n",
       "       [0.+0.j, 0.+0.j, 0.+0.j, 0.+0.j],\n",
       "       [0.+0.j, 0.+0.j, 0.+0.j, 0.+0.j],\n",
       "       [0.+0.j, 0.+0.j, 0.+0.j, 0.+0.j]])"
      ]
     },
     "execution_count": 8,
     "metadata": {},
     "output_type": "execute_result"
    }
   ],
   "source": [
    "coeff_Urot = extract_pauli_coeff(U_rot)\n",
    "\n",
    "A_reconstructed = reconstruct_A(coeff_Urot)\n",
    "\n",
    "U_SUN_rec = expm(A_reconstructed)\n",
    "\n",
    "U_SUN_rec\n",
    "\n",
    "coeff_Urot\n",
    "\n",
    "theta  = [elem/1j for elem in list(coeff_Urot.values())]\n",
    "#['IX', 'IY', 'IZ', 'XI', 'XX', 'XY', 'XZ', 'YI', 'YX', 'YY', 'YZ', 'ZI', 'ZX', 'ZY', 'ZZ']\n",
    "\n",
    "#theta  = list(extract_pauli_coeff(matrix).values())\n",
    "#qml.SpecialUnitary()\n",
    "\n",
    "\n",
    "wires = [0, 1]\n",
    "\n",
    "\n",
    "su = qml.SpecialUnitary(theta, wires=wires)\n",
    "matrix = su.matrix()\n",
    "\n",
    "matrix - U_SUN_rec"
   ]
  },
  {
   "cell_type": "markdown",
   "metadata": {},
   "source": [
    "# A Unified Code for reverse Mapping = i.e Parameter Mapping from two_qubit_decomp to SU(N) Unitary"
   ]
  },
  {
   "cell_type": "code",
   "execution_count": 9,
   "metadata": {},
   "outputs": [
    {
     "data": {
      "text/plain": [
       "array([ 0.13885742+0.j,  0.18875967+0.j,  0.50462935+0.j,  0.13885742+0.j,\n",
       "        0.85780244+0.j, -0.44355535-0.j,  0.58128524+0.j,  0.18875967+0.j,\n",
       "       -0.44355535-0.j,  0.35758954+0.j, -0.18919384-0.j,  0.50462935+0.j,\n",
       "        0.58128524+0.j, -0.18919384-0.j,  0.64080251+0.j])"
      ]
     },
     "execution_count": 9,
     "metadata": {},
     "output_type": "execute_result"
    }
   ],
   "source": [
    "\n",
    "def rev_map(init_pauli_params):\n",
    "\n",
    "    # Extract the unitary matrix\n",
    "    U_rot = qml.matrix(circuit1)(init_pauli_params)\n",
    "\n",
    "    coeff_Urot = extract_pauli_coeff(U_rot)\n",
    "\n",
    "    coeff_SU4  = [elem/1j for elem in list(coeff_Urot.values())]\n",
    "\n",
    "    return np.array(coeff_SU4)#np.array(coeff_SU4)#coeff_SU4\n",
    "\n",
    "i = np.ones(15)##np.random.uniform(0, 2*np.pi, size=15)\n",
    "\n",
    "\n",
    "rev_map(i)\n",
    "# wires = [0, 1]\n",
    "# su = qml.SpecialUnitary(rev_map(i), wires=wires)\n",
    "# matrix = su.matrix()\n",
    "\n",
    "# matrix - U_SUN_rec"
   ]
  },
  {
   "cell_type": "markdown",
   "metadata": {},
   "source": [
    "# Comparing the expectation values using a two qubit Hamiltonian\n",
    "\n"
   ]
  },
  {
   "cell_type": "code",
   "execution_count": 10,
   "metadata": {},
   "outputs": [
    {
     "name": "stdout",
     "output_type": "stream",
     "text": [
      "Hamiltonian:\n",
      "[[ 2.+0.j  0.+0.j  0.+0.j  0.+0.j]\n",
      " [ 0.+0.j -1.+0.j  2.+0.j  0.+0.j]\n",
      " [ 0.+0.j  2.+0.j -1.+0.j  0.+0.j]\n",
      " [ 0.+0.j  0.+0.j  0.+0.j  0.+0.j]]\n"
     ]
    }
   ],
   "source": [
    "# Define 2 qubit hamiltonian\n",
    "\n",
    "# Define the Pauli matrices\n",
    "I = np.eye(2)\n",
    "sigma_x = np.array([[0, 1], [1, 0]])\n",
    "sigma_y = np.array([[0, -1j], [1j, 0]])\n",
    "sigma_z = np.array([[1, 0], [0, -1]])\n",
    "\n",
    "# Define the coefficients for the Hamiltonian terms\n",
    "J = 1.0  # Interaction strength\n",
    "B = 0.5  # External magnetic field\n",
    "\n",
    "# Construct the Hamiltonian\n",
    "H = (J * np.kron(sigma_x, sigma_x) +\n",
    "     J * np.kron(sigma_y, sigma_y) +\n",
    "     J * np.kron(sigma_z, sigma_z) +\n",
    "     B * np.kron(sigma_z, I) +\n",
    "     B * np.kron(I, sigma_z))\n",
    "\n",
    "# Print the Hamiltonian\n",
    "print(\"Hamiltonian:\")\n",
    "print(H)"
   ]
  },
  {
   "cell_type": "markdown",
   "metadata": {},
   "source": [
    "## Transforming an Initial State \\(|00\\rangle\\) Under a Unitary Transformation\n",
    "\n",
    "### Initial State \\(|00\\rangle\\)\n",
    "\n",
    "The initial state \\(|00\\rangle\\) for two qubits can be represented as a column vector:\n",
    "$$\n",
    "|00\\rangle = \\begin{pmatrix}\n",
    "1 \\\\\n",
    "0 \\\\\n",
    "0 \\\\\n",
    "0 \n",
    "\\end{pmatrix}\n",
    "$$\n",
    "\n",
    "### Unitary Transformation\n",
    "\n",
    "Given a unitary matrix \\(U\\), the transformed state \\(|\\psi\\rangle\\) is obtained by multiplying \\(U\\) with the initial state \\(|00\\rangle\\):\n",
    "$$\n",
    "|\\psi\\rangle = U |00\\rangle\n",
    "$$\n",
    "\n",
    "### Density Matrix \\(\\rho\\)\n",
    "\n",
    "The density matrix \\(\\rho\\) of the transformed state \\(|\\psi\\rangle\\) is given by:\n",
    "$$\n",
    "\\rho = |\\psi\\rangle \\langle \\psi|\n",
    "$$\n",
    "\n",
    "This can be computed as:\n",
    "$$\n",
    "\\rho = U |00\\rangle \\langle 00| U^\\dagger\n",
    "$$\n",
    "\n",
    "Where \\(U^\\dagger\\) is the conjugate transpose of \\(U\\).\n",
    "\n",
    "### Summary\n",
    "\n",
    "1. **Initial State \\(|00\\rangle\\)**: Represented as a column vector \\(\\begin{pmatrix} 1 & 0 & 0 & 0 \\end{pmatrix}^T\\).\n",
    "\n",
    "2. **Unitary Transformation**: Multiply the initial state by the unitary matrix \\(U\\) to obtain the transformed state \\(|\\psi\\rangle\\):\n",
    "   $$\n",
    "   |\\psi\\rangle = U |00\\rangle\n",
    "   $$\n",
    "\n",
    "3. **Density Matrix \\(\\rho\\)**: Compute the density matrix \\(\\rho\\) as the outer product of \\(|\\psi\\rangle\\) with its conjugate transpose:\n",
    "   $$\n",
    "   \\rho = |\\psi\\rangle \\langle \\psi|\n",
    "   $$\n",
    "\n",
    "By applying these steps, we can understand how an initial state \\(|00\\rangle\\) transforms under a unitary operation and obtain the corresponding density matrix.\n"
   ]
  },
  {
   "cell_type": "code",
   "execution_count": 11,
   "metadata": {},
   "outputs": [
    {
     "name": "stdout",
     "output_type": "stream",
     "text": [
      "Density Matrix ρ:\n",
      "[[1.+0.j 0.+0.j 0.+0.j 0.+0.j]\n",
      " [0.+0.j 0.+0.j 0.+0.j 0.+0.j]\n",
      " [0.+0.j 0.+0.j 0.+0.j 0.+0.j]\n",
      " [0.+0.j 0.+0.j 0.+0.j 0.+0.j]]\n"
     ]
    },
    {
     "data": {
      "text/plain": [
       "(1+0j)"
      ]
     },
     "execution_count": 11,
     "metadata": {},
     "output_type": "execute_result"
    }
   ],
   "source": [
    "import numpy as np\n",
    "\n",
    "def transform_and_get_density_matrix(U):\n",
    "    # Define the initial state |00>\n",
    "    initial_state = np.array([1, 0, 0, 0], dtype=complex).reshape(-1, 1)\n",
    "\n",
    "    # Apply the unitary transformation\n",
    "    transformed_state = np.dot(U, initial_state)\n",
    "\n",
    "    # Compute the density matrix\n",
    "    rho = np.dot(transformed_state, transformed_state.conj().T)\n",
    "\n",
    "    return rho\n",
    "\n",
    "# Example usage\n",
    "# Define a unitary matrix U (example: 4x4 identity matrix)\n",
    "U = np.eye(4, dtype=complex)\n",
    "\n",
    "# Transform the initial state |00> under U and get the density matrix\n",
    "rho = transform_and_get_density_matrix(U)\n",
    "\n",
    "# Print the resulting density matrix\n",
    "print(\"Density Matrix ρ:\")\n",
    "print(rho)\n",
    "\n",
    "\n",
    "rho_t = transform_and_get_density_matrix(U_SUN_rec)\n",
    "\n",
    "np.trace(rho_t)"
   ]
  },
  {
   "cell_type": "code",
   "execution_count": 12,
   "metadata": {},
   "outputs": [
    {
     "name": "stdout",
     "output_type": "stream",
     "text": [
      "Original expectation value: (1.0211421786396893+0j)\n",
      "Reconstructed expectation value: (1.0211421786396895+0j)\n",
      "1.0211421786396893 1.0211421786396895\n"
     ]
    }
   ],
   "source": [
    "# Compute expectation values\n",
    "expectation_original = np.trace(np.dot(transform_and_get_density_matrix(U_rot),H))#np.trace(rho @ logm(matrix))\n",
    "\n",
    "expectation_reconstructed = np.trace(np.dot(transform_and_get_density_matrix(U_SUN_rec),H))#np.trace(rho @ A_reconstructed)\n",
    "\n",
    "print(f\"Original expectation value: {expectation_original}\")\n",
    "print(f\"Reconstructed expectation value: {expectation_reconstructed}\")\n",
    "\n",
    "print(np.absolute(expectation_original),np.absolute(expectation_reconstructed))"
   ]
  },
  {
   "cell_type": "markdown",
   "metadata": {},
   "source": [
    "# Second method to compute the expectation value"
   ]
  },
  {
   "cell_type": "code",
   "execution_count": 13,
   "metadata": {},
   "outputs": [],
   "source": [
    "# exp_val of two_qubit_decomp \n",
    "\n"
   ]
  },
  {
   "cell_type": "code",
   "execution_count": 14,
   "metadata": {},
   "outputs": [
    {
     "name": "stdout",
     "output_type": "stream",
     "text": [
      "[0.+0.j 1.+0.j 0.+0.j 0.+0.j]\n"
     ]
    }
   ],
   "source": [
    "import pennylane as qml\n",
    "from pennylane import numpy as np\n",
    "\n",
    "# Define your 4x4 unitary matrix\n",
    "U = np.array([\n",
    "    [0, 1, 0, 0],\n",
    "    [1, 0, 0, 0],\n",
    "    [0, 0, 0, 1],\n",
    "    [0, 0, 1, 0]\n",
    "])\n",
    "\n",
    "# Define a quantum device\n",
    "dev = qml.device(\"default.qubit\", wires=2)\n",
    "\n",
    "# Define a QNode that applies the unitary\n",
    "@qml.qnode(dev)\n",
    "def apply_unitary():\n",
    "    qml.QubitUnitary(U, wires=[0, 1])\n",
    "    return qml.state()\n",
    "\n",
    "# Execute the QNode and print the resulting state\n",
    "state = apply_unitary()\n",
    "print(state)\n"
   ]
  },
  {
   "cell_type": "code",
   "execution_count": 15,
   "metadata": {},
   "outputs": [],
   "source": [
    "\n",
    "pauli_basis_1 = [\n",
    "    np.kron(I, sigma_x), np.kron(I, sigma_y), np.kron(I, sigma_z),\n",
    "    np.kron(sigma_x, I), np.kron(sigma_x, sigma_x), np.kron(sigma_x, sigma_y), np.kron(sigma_x, sigma_z),\n",
    "    np.kron(sigma_y, I), np.kron(sigma_y, sigma_x), np.kron(sigma_y, sigma_y), np.kron(sigma_y, sigma_z),\n",
    "    np.kron(sigma_z, I), np.kron(sigma_z, sigma_x), np.kron(sigma_z, sigma_y), np.kron(sigma_z, sigma_z)\n",
    "]\n",
    "\n"
   ]
  },
  {
   "cell_type": "markdown",
   "metadata": {},
   "source": [
    "#Construct A"
   ]
  },
  {
   "cell_type": "code",
   "execution_count": 16,
   "metadata": {},
   "outputs": [],
   "source": [
    "def random_pauli_rotations():\n",
    "    # Initialize parameters for the Pauli rotations\n",
    "    return np.random.uniform(0, 2 * np.pi, size=15)  # For SU(4), we need 15 parameters\n",
    "\n",
    "\n",
    "\n",
    "def construct_unitary(params):\n",
    "    # Construct the unitary matrix from the parameters\n",
    "    A = sum(1j*theta_k * P_k for theta_k, P_k in zip(params, pauli_basis_1))\n",
    "    return expm(A)\n",
    "\n",
    "\n",
    "pauli_init_params = random_pauli_rotations()\n",
    "\n",
    "U = construct_unitary(pauli_init_params)\n",
    "\n"
   ]
  }
 ],
 "metadata": {
  "kernelspec": {
   "display_name": "qiskit",
   "language": "python",
   "name": "python3"
  },
  "language_info": {
   "codemirror_mode": {
    "name": "ipython",
    "version": 3
   },
   "file_extension": ".py",
   "mimetype": "text/x-python",
   "name": "python",
   "nbconvert_exporter": "python",
   "pygments_lexer": "ipython3",
   "version": "3.12.2"
  }
 },
 "nbformat": 4,
 "nbformat_minor": 2
}
