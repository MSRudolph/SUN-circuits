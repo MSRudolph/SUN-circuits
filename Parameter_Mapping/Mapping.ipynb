{
 "cells": [
  {
   "cell_type": "markdown",
   "metadata": {},
   "source": [
    "Retrieving Arbitrary SpecialUnitary matrix"
   ]
  },
  {
   "cell_type": "code",
   "execution_count": 1,
   "metadata": {},
   "outputs": [],
   "source": [
    "import pennylane as qml\n",
    "import numpy as np\n",
    "import jax\n",
    "import cirq\n",
    "from qiskit.quantum_info import *\n",
    "from qiskit.synthesis import OneQubitEulerDecomposer"
   ]
  },
  {
   "cell_type": "code",
   "execution_count": 13,
   "metadata": {},
   "outputs": [
    {
     "data": {
      "text/plain": [
       "(3.3209020967059675e-34, 0.0, 0.0)"
      ]
     },
     "execution_count": 13,
     "metadata": {},
     "output_type": "execute_result"
    }
   ],
   "source": [
    "wires = [0, 1]\n",
    "\n",
    "# Activating the Pauli words [\"IY\", \"IZ\", \"XX\", \"XY\", \"YY\", \"YZ\", \"ZY\", \"ZZ\"]\n",
    "\n",
    "#theta = 0.3 * np.array([0, 1, 2, 0, -1, 1, 0, 0, 0, 1, 1, 1, 0, 0, -1])\n",
    "theta = np.zeros(15)\n",
    "len(theta) == 4 ** len(wires) - 1 # theta contains one parameter per Pauli word\n",
    "su = qml.SpecialUnitary(theta, wires=wires)\n",
    "matrix = su.matrix()\n",
    "\n",
    "np.shape(matrix)\n",
    "\n",
    "decomp = cirq.kak_decomposition(matrix)\n",
    "#cirq.KakDecomposition(matrix)\n",
    "\n",
    "decomp.interaction_coefficients\n",
    "#decomp.single_qubit_operations_before[0]\n"
   ]
  },
  {
   "cell_type": "code",
   "execution_count": 4,
   "metadata": {},
   "outputs": [
    {
     "data": {
      "text/plain": [
       "array([[-0.16055654+0.5698601j,  0.5698601 +0.5698601j],\n",
       "       [-0.5698601 +0.5698601j, -0.16055654-0.5698601j]])"
      ]
     },
     "execution_count": 4,
     "metadata": {},
     "output_type": "execute_result"
    }
   ],
   "source": [
    "wires = [0]\n",
    "\n",
    "# Activating the Pauli words [\"IY\", \"IZ\", \"XX\", \"XY\", \"YY\", \"YZ\", \"ZY\", \"ZZ\"]\n",
    "\n",
    "#theta = 0.3 * np.array([0, 1, 2, 0, -1, 1, 0, 0, 0, 1, 1, 1, 0, 0, -1])\n",
    "theta = np.ones(3)\n",
    "len(theta) == 4 ** len(wires) - 1 # theta contains one parameter per Pauli word\n",
    "su = qml.SpecialUnitary(theta, wires=wires)\n",
    "matrix = su.matrix()\n",
    "\n",
    "# np.shape(matrix)\n",
    "\n",
    "# decomp = cirq.kak_decomposition(matrix)\n",
    "# #cirq.KakDecomposition(matrix)\n",
    "\n",
    "# decomp.interaction_coefficients\n",
    "#decomp.single_qubit_operations_before[0]\n",
    "matrix"
   ]
  },
  {
   "cell_type": "code",
   "execution_count": 14,
   "metadata": {},
   "outputs": [],
   "source": [
    "# Define the single-qubit operations before\n",
    "B1 = decomp.single_qubit_operations_before[0]\n",
    "B2 = decomp.single_qubit_operations_before[1]\n",
    "\n",
    "# Define the interaction coefficients\n",
    "k_x, k_y, k_z = decomp.interaction_coefficients\n",
    "\n",
    "\n",
    "# Define the single-qubit operations after\n",
    "A1 = decomp.single_qubit_operations_after[0]\n",
    "A2 = decomp.single_qubit_operations_after[1]"
   ]
  },
  {
   "cell_type": "code",
   "execution_count": 15,
   "metadata": {},
   "outputs": [
    {
     "data": {
      "text/plain": [
       "array([ 0.00000000e+00,  7.85398163e-01,  7.85398163e-01,  0.00000000e+00,\n",
       "       -7.85046229e-17,  7.85046229e-17,  3.32090210e-34,  0.00000000e+00,\n",
       "        0.00000000e+00,  0.00000000e+00, -7.85398163e-01, -7.85398163e-01,\n",
       "        0.00000000e+00,  7.85046229e-17, -7.85046229e-17])"
      ]
     },
     "execution_count": 15,
     "metadata": {},
     "output_type": "execute_result"
    }
   ],
   "source": [
    "decomposer = OneQubitEulerDecomposer('ZYZ')  # You can choose 'XYZ', 'ZXZ', 'ZYZ', etc.\n",
    "decomposed_circuit = decomposer(Operator(A1))\n",
    "#decomposed_circuit.angles()\n",
    "decomposed_circuit.draw('mpl')\n",
    "\n",
    "init_params_2 = np.zeros(15)\n",
    "\n",
    "init_params_2[:3] = decomposer.angles(Operator(B1))\n",
    "init_params_2[3:6] = decomposer.angles(Operator(B2))\n",
    "init_params_2[6:9] = decomp.interaction_coefficients\n",
    "\n",
    "init_params_2[9:12] = decomposer.angles(Operator(A1))\n",
    "init_params_2[12:15] = decomposer.angles(Operator(A2))\n",
    "\n",
    "init_params_2"
   ]
  },
  {
   "cell_type": "code",
   "execution_count": 48,
   "metadata": {},
   "outputs": [
    {
     "data": {
      "text/plain": [
       "NoneType"
      ]
     },
     "execution_count": 48,
     "metadata": {},
     "output_type": "execute_result"
    }
   ],
   "source": [
    "def two_qubit_decomp(params, wires):\n",
    "    \"\"\"Implement an arbitrary SU(4) gate on two qubits\n",
    "    using the decomposition from Theorem 5 in\n",
    "    https://arxiv.org/pdf/quant-ph/0308006.pdf\"\"\"\n",
    "    i, j = wires\n",
    "    # Single U(2) parameterization on both qubits separately\n",
    "    qml.Rot(*params[:3], wires=i)\n",
    "    qml.Rot(*params[3:6], wires=j)\n",
    "    qml.CNOT(wires=[j, i])  # First CNOT\n",
    "    qml.RZ(params[6], wires=i)\n",
    "    qml.RY(params[7], wires=j)\n",
    "    qml.CNOT(wires=[i, j])  # Second CNOT\n",
    "    qml.RY(params[8], wires=j)\n",
    "    qml.CNOT(wires=[j, i])  # Third CNOT\n",
    "    # Single U(2) parameterization on both qubits separately\n",
    "    qml.Rot(*params[9:12], wires=i)\n",
    "    qml.Rot(*params[12:15], wires=j)\n",
    "su_1 = two_qubit_decomp(theta,wires=[0,1])\n",
    "type(su_1)\n"
   ]
  },
  {
   "cell_type": "markdown",
   "metadata": {},
   "source": [
    "KAK Decomposition"
   ]
  },
  {
   "cell_type": "code",
   "execution_count": 90,
   "metadata": {},
   "outputs": [
    {
     "data": {
      "image/png": "[encoded data removed]",
      "text/plain": [
       "<Figure size 185.453x117.056 with 1 Axes>"
      ]
     },
     "execution_count": 90,
     "metadata": {},
     "output_type": "execute_result"
    }
   ],
   "source": [
    "from qiskit import QuantumCircuit\n",
    "from qiskit.quantum_info import Operator\n",
    "from qiskit.circuit.library import UnitaryGate\n",
    "import numpy as np\n",
    "\n",
    "# Define a 4x4 unitary matrix\n",
    "U = np.array([\n",
    "    [0, 1, 0, 0],\n",
    "    [1, 0, 0, 0],\n",
    "    [0, 0, 0, 1],\n",
    "    [0, 0, 1, 0]\n",
    "], dtype=complex)\n",
    "\n",
    "# Ensure it is unitary\n",
    "assert np.allclose(np.eye(2), A1 @ A1.conj().T)\n",
    "\n",
    "# Create a unitary gate from the matrix\n",
    "gate = UnitaryGate(A1)\n",
    "\n",
    "# Create a quantum circuit with the unitary gate\n",
    "qc = QuantumCircuit(1)\n",
    "qc.append(gate, [0])\n",
    "\n",
    "# Decompose the gate to retrieve the parameters\n",
    "decomposed_circuit = qc.decompose(reps=10)\n",
    "decomposed_circuit.decompose\n",
    "decomposed_circuit.draw('mpl')\n",
    "# Alternatively, if you need specific parameters (angles, phases, etc.),\n",
    "# you may need to implement or use specialized decomposition methods."
   ]
  },
  {
   "cell_type": "code",
   "execution_count": 12,
   "metadata": {},
   "outputs": [
    {
     "data": {
      "text/plain": [
       "(0.0, -7.850462293418878e-17, 7.850462293418876e-17)"
      ]
     },
     "execution_count": 12,
     "metadata": {},
     "output_type": "execute_result"
    }
   ],
   "source": [
    "decomposer = OneQubitEulerDecomposer('ZYZ')  # You can choose 'XYZ', 'ZXZ', 'ZYZ', etc.\n",
    "decomposed_circuit = decomposer(Operator(B1))\n",
    "#decomposed_circuit.angles()\n",
    "decomposed_circuit.draw('mpl')\n",
    "\n",
    "# init_params_2 = np.zeros(15)\n",
    "\n",
    "decomposer.angles(Operator(B2))\n",
    "# init_params_2[3:6] = decomposer.angles(Operator(B1))\n",
    "# init_params_2[:3] = decomposer.angles(Operator(A1))\n",
    "# init_params_2[:3] = decomposer.angles(Operator(A1))"
   ]
  }
 ],
 "metadata": {
  "kernelspec": {
   "display_name": "qiskit",
   "language": "python",
   "name": "python3"
  },
  "language_info": {
   "codemirror_mode": {
    "name": "ipython",
    "version": 3
   },
   "file_extension": ".py",
   "mimetype": "text/x-python",
   "name": "python",
   "nbconvert_exporter": "python",
   "pygments_lexer": "ipython3",
   "version": "3.12.2"
  }
 },
 "nbformat": 4,
 "nbformat_minor": 2
}
